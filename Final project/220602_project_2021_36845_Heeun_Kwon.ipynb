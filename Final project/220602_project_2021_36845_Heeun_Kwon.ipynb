{
  "nbformat": 4,
  "nbformat_minor": 0,
  "metadata": {
    "colab": {
      "name": "220602_project_2021_36845_Heeun_Kwon",
      "provenance": [],
      "collapsed_sections": [],
      "include_colab_link": true
    },
    "kernelspec": {
      "name": "python3",
      "display_name": "Python 3"
    }
  },
  "cells": [
    {
      "cell_type": "markdown",
      "metadata": {
        "id": "view-in-github",
        "colab_type": "text"
      },
      "source": [
        "<a href=\"https://colab.research.google.com/github/Heeun93/2021-36845_Homework/blob/main/220602_project_2021_36845_Heeun_Kwon.ipynb\" target=\"_parent\"><img src=\"https://colab.research.google.com/assets/colab-badge.svg\" alt=\"Open In Colab\"/></a>"
      ]
    },
    {
      "cell_type": "markdown",
      "metadata": {
        "id": "ojAx9SdvPfSz"
      },
      "source": [
        "##데이터 다운 및 환경설정\n",
        "Google colab 기반으로 데이터 파일들을 불러오고 저장하기 위해서 Google Drive를 연결함"
      ]
    },
    {
      "cell_type": "code",
      "metadata": {
        "id": "SbkVVS-CPfSz",
        "colab": {
          "base_uri": "https://localhost:8080/"
        },
        "outputId": "3a54d95d-4e6f-4074-f406-a9cb0ad56f86"
      },
      "source": [
        "from google.colab import drive\n",
        "drive.mount('/content/drive')"
      ],
      "execution_count": 1,
      "outputs": [
        {
          "output_type": "stream",
          "name": "stdout",
          "text": [
            "Mounted at /content/drive\n"
          ]
        }
      ]
    },
    {
      "cell_type": "code",
      "metadata": {
        "id": "g-vfGi3ePfSz",
        "colab": {
          "base_uri": "https://localhost:8080/"
        },
        "outputId": "c47e460e-4b65-4d2e-8ff4-effe54720649"
      },
      "source": [
        "!git clone https://github.com/hyeshik/colab-biolab.git\n",
        "!cd colab-biolab && bash tools/setup.sh\n",
        "exec(open('colab-biolab/tools/activate_conda.py').read())"
      ],
      "execution_count": 2,
      "outputs": [
        {
          "output_type": "stream",
          "name": "stdout",
          "text": [
            "Cloning into 'colab-biolab'...\n",
            "remote: Enumerating objects: 69, done.\u001b[K\n",
            "remote: Counting objects: 100% (69/69), done.\u001b[K\n",
            "remote: Compressing objects: 100% (43/43), done.\u001b[K\n",
            "remote: Total 69 (delta 22), reused 54 (delta 13), pack-reused 0\u001b[K\n",
            "Unpacking objects: 100% (69/69), done.\n",
            "./\n",
            "./root/\n",
            "./root/.vimrc\n",
            "./root/.condarc\n",
            "./root/.tmux.conf\n",
            "./root/.profile\n",
            "./root/.bashrc.biolab\n",
            "./root/.bin.priority/\n",
            "./root/.bin.priority/pip\n",
            "./root/.bin.priority/pip3\n",
            "./root/.bin.priority/pip2\n",
            "--2022-06-06 16:31:21--  https://repo.anaconda.com/miniconda/Miniconda3-latest-Linux-x86_64.sh\n",
            "Resolving repo.anaconda.com (repo.anaconda.com)... 104.16.131.3, 104.16.130.3, 2606:4700::6810:8303, ...\n",
            "Connecting to repo.anaconda.com (repo.anaconda.com)|104.16.131.3|:443... connected.\n",
            "HTTP request sent, awaiting response... 200 OK\n",
            "Length: 76607678 (73M) [application/x-sh]\n",
            "Saving to: ‘miniconda3.sh’\n",
            "\n",
            "miniconda3.sh       100%[===================>]  73.06M   233MB/s    in 0.3s    \n",
            "\n",
            "2022-06-06 16:31:21 (233 MB/s) - ‘miniconda3.sh’ saved [76607678/76607678]\n",
            "\n",
            "PREFIX=/root/conda\n",
            "Unpacking payload ...\n",
            "Collecting package metadata (current_repodata.json): - \b\b\\ \b\b| \b\bdone\n",
            "Solving environment: - \b\b\\ \b\b| \b\bdone\n",
            "\n",
            "## Package Plan ##\n",
            "\n",
            "  environment location: /root/conda\n",
            "\n",
            "  added / updated specs:\n",
            "    - _libgcc_mutex==0.1=main\n",
            "    - _openmp_mutex==4.5=1_gnu\n",
            "    - brotlipy==0.7.0=py39h27cfd23_1003\n",
            "    - ca-certificates==2022.3.29=h06a4308_1\n",
            "    - certifi==2021.10.8=py39h06a4308_2\n",
            "    - cffi==1.15.0=py39hd667e15_1\n",
            "    - charset-normalizer==2.0.4=pyhd3eb1b0_0\n",
            "    - colorama==0.4.4=pyhd3eb1b0_0\n",
            "    - conda-content-trust==0.1.1=pyhd3eb1b0_0\n",
            "    - conda-package-handling==1.8.1=py39h7f8727e_0\n",
            "    - conda==4.12.0=py39h06a4308_0\n",
            "    - cryptography==36.0.0=py39h9ce1e76_0\n",
            "    - idna==3.3=pyhd3eb1b0_0\n",
            "    - ld_impl_linux-64==2.35.1=h7274673_9\n",
            "    - libffi==3.3=he6710b0_2\n",
            "    - libgcc-ng==9.3.0=h5101ec6_17\n",
            "    - libgomp==9.3.0=h5101ec6_17\n",
            "    - libstdcxx-ng==9.3.0=hd4cf53a_17\n",
            "    - ncurses==6.3=h7f8727e_2\n",
            "    - openssl==1.1.1n=h7f8727e_0\n",
            "    - pip==21.2.4=py39h06a4308_0\n",
            "    - pycosat==0.6.3=py39h27cfd23_0\n",
            "    - pycparser==2.21=pyhd3eb1b0_0\n",
            "    - pyopenssl==22.0.0=pyhd3eb1b0_0\n",
            "    - pysocks==1.7.1=py39h06a4308_0\n",
            "    - python==3.9.12=h12debd9_0\n",
            "    - readline==8.1.2=h7f8727e_1\n",
            "    - requests==2.27.1=pyhd3eb1b0_0\n",
            "    - ruamel_yaml==0.15.100=py39h27cfd23_0\n",
            "    - setuptools==61.2.0=py39h06a4308_0\n",
            "    - six==1.16.0=pyhd3eb1b0_1\n",
            "    - sqlite==3.38.2=hc218d9a_0\n",
            "    - tk==8.6.11=h1ccaba5_0\n",
            "    - tqdm==4.63.0=pyhd3eb1b0_0\n",
            "    - tzdata==2022a=hda174b7_0\n",
            "    - urllib3==1.26.8=pyhd3eb1b0_0\n",
            "    - wheel==0.37.1=pyhd3eb1b0_0\n",
            "    - xz==5.2.5=h7b6447c_0\n",
            "    - yaml==0.2.5=h7b6447c_0\n",
            "    - zlib==1.2.12=h7f8727e_1\n",
            "\n",
            "\n",
            "The following NEW packages will be INSTALLED:\n",
            "\n",
            "  _libgcc_mutex      pkgs/main/linux-64::_libgcc_mutex-0.1-main\n",
            "  _openmp_mutex      pkgs/main/linux-64::_openmp_mutex-4.5-1_gnu\n",
            "  brotlipy           pkgs/main/linux-64::brotlipy-0.7.0-py39h27cfd23_1003\n",
            "  ca-certificates    pkgs/main/linux-64::ca-certificates-2022.3.29-h06a4308_1\n",
            "  certifi            pkgs/main/linux-64::certifi-2021.10.8-py39h06a4308_2\n",
            "  cffi               pkgs/main/linux-64::cffi-1.15.0-py39hd667e15_1\n",
            "  charset-normalizer pkgs/main/noarch::charset-normalizer-2.0.4-pyhd3eb1b0_0\n",
            "  colorama           pkgs/main/noarch::colorama-0.4.4-pyhd3eb1b0_0\n",
            "  conda              pkgs/main/linux-64::conda-4.12.0-py39h06a4308_0\n",
            "  conda-content-tru~ pkgs/main/noarch::conda-content-trust-0.1.1-pyhd3eb1b0_0\n",
            "  conda-package-han~ pkgs/main/linux-64::conda-package-handling-1.8.1-py39h7f8727e_0\n",
            "  cryptography       pkgs/main/linux-64::cryptography-36.0.0-py39h9ce1e76_0\n",
            "  idna               pkgs/main/noarch::idna-3.3-pyhd3eb1b0_0\n",
            "  ld_impl_linux-64   pkgs/main/linux-64::ld_impl_linux-64-2.35.1-h7274673_9\n",
            "  libffi             pkgs/main/linux-64::libffi-3.3-he6710b0_2\n",
            "  libgcc-ng          pkgs/main/linux-64::libgcc-ng-9.3.0-h5101ec6_17\n",
            "  libgomp            pkgs/main/linux-64::libgomp-9.3.0-h5101ec6_17\n",
            "  libstdcxx-ng       pkgs/main/linux-64::libstdcxx-ng-9.3.0-hd4cf53a_17\n",
            "  ncurses            pkgs/main/linux-64::ncurses-6.3-h7f8727e_2\n",
            "  openssl            pkgs/main/linux-64::openssl-1.1.1n-h7f8727e_0\n",
            "  pip                pkgs/main/linux-64::pip-21.2.4-py39h06a4308_0\n",
            "  pycosat            pkgs/main/linux-64::pycosat-0.6.3-py39h27cfd23_0\n",
            "  pycparser          pkgs/main/noarch::pycparser-2.21-pyhd3eb1b0_0\n",
            "  pyopenssl          pkgs/main/noarch::pyopenssl-22.0.0-pyhd3eb1b0_0\n",
            "  pysocks            pkgs/main/linux-64::pysocks-1.7.1-py39h06a4308_0\n",
            "  python             pkgs/main/linux-64::python-3.9.12-h12debd9_0\n",
            "  readline           pkgs/main/linux-64::readline-8.1.2-h7f8727e_1\n",
            "  requests           pkgs/main/noarch::requests-2.27.1-pyhd3eb1b0_0\n",
            "  ruamel_yaml        pkgs/main/linux-64::ruamel_yaml-0.15.100-py39h27cfd23_0\n",
            "  setuptools         pkgs/main/linux-64::setuptools-61.2.0-py39h06a4308_0\n",
            "  six                pkgs/main/noarch::six-1.16.0-pyhd3eb1b0_1\n",
            "  sqlite             pkgs/main/linux-64::sqlite-3.38.2-hc218d9a_0\n",
            "  tk                 pkgs/main/linux-64::tk-8.6.11-h1ccaba5_0\n",
            "  tqdm               pkgs/main/noarch::tqdm-4.63.0-pyhd3eb1b0_0\n",
            "  tzdata             pkgs/main/noarch::tzdata-2022a-hda174b7_0\n",
            "  urllib3            pkgs/main/noarch::urllib3-1.26.8-pyhd3eb1b0_0\n",
            "  wheel              pkgs/main/noarch::wheel-0.37.1-pyhd3eb1b0_0\n",
            "  xz                 pkgs/main/linux-64::xz-5.2.5-h7b6447c_0\n",
            "  yaml               pkgs/main/linux-64::yaml-0.2.5-h7b6447c_0\n",
            "  zlib               pkgs/main/linux-64::zlib-1.2.12-h7f8727e_1\n",
            "\n",
            "\n",
            "Preparing transaction: - \b\b\\ \b\b| \b\b/ \b\bdone\n",
            "Executing transaction: \\ \b\b| \b\b/ \b\b- \b\b\\ \b\b| \b\b/ \b\b- \b\b\\ \b\b| \b\b/ \b\b- \b\b\\ \b\b| \b\b/ \b\b- \b\bdone\n",
            "installation finished.\n",
            "WARNING:\n",
            "    You currently have a PYTHONPATH environment variable set. This may cause\n",
            "    unexpected behavior when running the Python interpreter in Miniconda3.\n",
            "    For best results, please verify that your PYTHONPATH only points to\n",
            "    directories of packages that are compatible with the Python interpreter\n",
            "    in Miniconda3: /root/conda\n",
            "Collecting package metadata (current_repodata.json): - \b\b\\ \b\b| \b\b/ \b\b- \b\b\\ \b\b| \b\b/ \b\b- \b\b\\ \b\b| \b\b/ \b\b- \b\b\\ \b\b| \b\b/ \b\b- \b\b\\ \b\b| \b\b/ \b\b- \b\b\\ \b\b| \b\b/ \b\b- \b\b\\ \b\b| \b\b/ \b\b- \b\b\\ \b\b| \b\b/ \b\b- \b\b\\ \b\b| \b\b/ \b\b- \b\b\\ \b\b| \b\b/ \b\b- \b\b\\ \b\b| \b\b/ \b\b- \b\b\\ \b\b| \b\b/ \b\b- \b\b\\ \b\b| \b\b/ \b\b- \b\b\\ \b\b| \b\b/ \b\b- \b\b\\ \b\b| \b\b/ \b\b- \b\b\\ \b\b| \b\b/ \b\b- \b\b\\ \b\b| \b\b/ \b\b- \b\b\\ \b\b| \b\b/ \b\b- \b\b\\ \b\b| \b\b/ \b\b- \b\b\\ \b\b| \b\b/ \b\b- \b\b\\ \b\b| \b\b/ \b\b- \b\b\\ \b\b| \b\b/ \b\b- \b\b\\ \b\b| \b\b/ \b\b- \b\b\\ \b\b| \b\b/ \b\b- \b\b\\ \b\b| \b\b/ \b\b- \b\b\\ \b\b| \b\b/ \b\b- \b\b\\ \b\b| \b\b/ \b\b- \b\b\\ \b\b| \b\b/ \b\b- \b\b\\ \b\b| \b\b/ \b\b- \b\b\\ \b\b| \b\b/ \b\b- \b\b\\ \b\b| \b\b/ \b\b- \b\b\\ \b\b| \b\b/ \b\b- \b\b\\ \b\b| \b\b/ \b\b- \b\b\\ \b\b| \b\b/ \b\b- \b\b\\ \b\b| \b\b/ \b\b- \b\b\\ \b\b| \b\b/ \b\b- \b\b\\ \b\b| \b\b/ \b\b- \b\b\\ \b\bdone\n",
            "Solving environment: / \b\b- \b\b\\ \b\b| \b\b/ \b\b- \b\b\\ \b\b| \b\b/ \b\b- \b\b\\ \b\b| \b\b/ \b\b- \b\b\\ \b\b| \b\b/ \b\b- \b\b\\ \b\b| \b\b/ \b\b- \b\b\\ \b\b| \b\b/ \b\b- \b\b\\ \b\b| \b\b/ \b\b- \b\b\\ \b\b| \b\b/ \b\b- \b\b\\ \b\b| \b\b/ \b\b- \b\b\\ \b\b| \b\b/ \b\b- \b\b\\ \b\b| \b\b/ \b\b- \b\b\\ \b\b| \b\b/ \b\b- \b\b\\ \b\b| \b\b/ \b\b- \b\b\\ \b\b| \b\b/ \b\b- \b\b\\ \b\b| \b\b/ \b\b- \b\b\\ \b\b| \b\b/ \b\b- \b\b\\ \b\b| \b\b/ \b\b- \b\b\\ \b\b| \b\b/ \b\b- \b\b\\ \b\b| \b\b/ \b\b- \b\b\\ \b\b| \b\b/ \b\b- \b\b\\ \b\b| \b\b/ \b\bdone\n",
            "\n",
            "\n",
            "==> WARNING: A newer version of conda exists. <==\n",
            "  current version: 4.12.0\n",
            "  latest version: 4.13.0\n",
            "\n",
            "Please update conda by running\n",
            "\n",
            "    $ conda update -n base -c defaults conda\n",
            "\n",
            "\n",
            "\n",
            "## Package Plan ##\n",
            "\n",
            "  environment location: /root/conda/envs/lab\n",
            "\n",
            "  added / updated specs:\n",
            "    - bedtools\n",
            "    - biopython\n",
            "    - bwa\n",
            "    - cython\n",
            "    - matplotlib\n",
            "    - numpy\n",
            "    - pandas\n",
            "    - pip\n",
            "    - pysam\n",
            "    - samtools\n",
            "    - scipy\n",
            "    - star\n",
            "\n",
            "\n",
            "The following packages will be downloaded:\n",
            "\n",
            "    package                    |            build\n",
            "    ---------------------------|-----------------\n",
            "    _libgcc_mutex-0.1          |      conda_forge           3 KB  conda-forge\n",
            "    _openmp_mutex-4.5          |            2_gnu          23 KB  conda-forge\n",
            "    alsa-lib-1.2.3.2           |       h166bdaf_0         554 KB  conda-forge\n",
            "    attr-2.5.1                 |       h166bdaf_0          69 KB  conda-forge\n",
            "    bedtools-2.30.0            |       h468198e_3        15.5 MB  bioconda\n",
            "    biopython-1.79             |   py39h3811e60_1         2.6 MB  conda-forge\n",
            "    brotli-1.0.9               |       h166bdaf_7          18 KB  conda-forge\n",
            "    brotli-bin-1.0.9           |       h166bdaf_7          19 KB  conda-forge\n",
            "    bwa-0.7.17                 |       h7132678_9         187 KB  bioconda\n",
            "    bzip2-1.0.8                |       h7f98852_4         484 KB  conda-forge\n",
            "    c-ares-1.18.1              |       h7f98852_0         113 KB  conda-forge\n",
            "    ca-certificates-2022.5.18.1|       ha878542_0         144 KB  conda-forge\n",
            "    certifi-2022.5.18.1        |   py39hf3d152e_0         150 KB  conda-forge\n",
            "    cycler-0.11.0              |     pyhd8ed1ab_0          10 KB  conda-forge\n",
            "    cython-0.29.30             |   py39h5a03fae_0         2.1 MB  conda-forge\n",
            "    dbus-1.13.6                |       h5008d03_3         604 KB  conda-forge\n",
            "    expat-2.4.8                |       h27087fc_0         187 KB  conda-forge\n",
            "    fftw-3.3.10                |nompi_h77c792f_102         6.4 MB  conda-forge\n",
            "    font-ttf-dejavu-sans-mono-2.37|       hab24e00_0         388 KB  conda-forge\n",
            "    font-ttf-inconsolata-3.000 |       h77eed37_0          94 KB  conda-forge\n",
            "    font-ttf-source-code-pro-2.038|       h77eed37_0         684 KB  conda-forge\n",
            "    font-ttf-ubuntu-0.83       |       hab24e00_0         1.9 MB  conda-forge\n",
            "    fontconfig-2.14.0          |       h8e229c2_0         305 KB  conda-forge\n",
            "    fonts-conda-ecosystem-1    |                0           4 KB  conda-forge\n",
            "    fonts-conda-forge-1        |                0           4 KB  conda-forge\n",
            "    fonttools-4.33.3           |   py39hb9d737c_0         1.6 MB  conda-forge\n",
            "    freetype-2.10.4            |       h0708190_1         890 KB  conda-forge\n",
            "    gettext-0.19.8.1           |    h73d1719_1008         3.6 MB  conda-forge\n",
            "    giflib-5.2.1               |       h36c2ea0_2          77 KB  conda-forge\n",
            "    gst-plugins-base-1.20.2    |       hcf0ee16_0         2.8 MB  conda-forge\n",
            "    gstreamer-1.20.2           |       hd4edc92_1         2.0 MB  conda-forge\n",
            "    htslib-1.15.1              |       h9753748_0         2.1 MB  bioconda\n",
            "    icu-70.1                   |       h27087fc_0        13.5 MB  conda-forge\n",
            "    jack-1.9.18                |    hfd4fe87_1001         640 KB  conda-forge\n",
            "    jpeg-9e                    |       h166bdaf_1         268 KB  conda-forge\n",
            "    keyutils-1.6.1             |       h166bdaf_0         115 KB  conda-forge\n",
            "    kiwisolver-1.4.2           |   py39hf939315_1          75 KB  conda-forge\n",
            "    krb5-1.19.3                |       h3790be6_0         1.4 MB  conda-forge\n",
            "    lcms2-2.12                 |       hddcbb42_0         443 KB  conda-forge\n",
            "    ld_impl_linux-64-2.36.1    |       hea4e1c9_2         667 KB  conda-forge\n",
            "    lerc-3.0                   |       h9c3ff4c_0         216 KB  conda-forge\n",
            "    libblas-3.9.0              |14_linux64_openblas          12 KB  conda-forge\n",
            "    libbrotlicommon-1.0.9      |       h166bdaf_7          65 KB  conda-forge\n",
            "    libbrotlidec-1.0.9         |       h166bdaf_7          33 KB  conda-forge\n",
            "    libbrotlienc-1.0.9         |       h166bdaf_7         287 KB  conda-forge\n",
            "    libcap-2.64                |       ha37c62d_0          96 KB  conda-forge\n",
            "    libcblas-3.9.0             |14_linux64_openblas          12 KB  conda-forge\n",
            "    libclang-14.0.4            |default_h2e3cab8_0         127 KB  conda-forge\n",
            "    libclang13-14.0.4          |default_h3a83d3e_0        10.6 MB  conda-forge\n",
            "    libcups-2.3.3              |       hf5a7f15_1         4.6 MB  conda-forge\n",
            "    libcurl-7.83.1             |       h7bff187_0         342 KB  conda-forge\n",
            "    libdb-6.2.32               |       h9c3ff4c_0        23.3 MB  conda-forge\n",
            "    libdeflate-1.10            |       h7f98852_0          77 KB  conda-forge\n",
            "    libedit-3.1.20191231       |       he28a2e2_2         121 KB  conda-forge\n",
            "    libev-4.33                 |       h516909a_1         104 KB  conda-forge\n",
            "    libevent-2.1.10            |       h9b69904_4         1.1 MB  conda-forge\n",
            "    libffi-3.4.2               |       h7f98852_5          57 KB  conda-forge\n",
            "    libflac-1.3.4              |       h27087fc_0         474 KB  conda-forge\n",
            "    libgcc-ng-12.1.0           |      h8d9b700_16         940 KB  conda-forge\n",
            "    libgfortran-ng-12.1.0      |      h69a702a_16          23 KB  conda-forge\n",
            "    libgfortran5-12.1.0        |      hdcd56e2_16         1.8 MB  conda-forge\n",
            "    libglib-2.70.2             |       h174f98d_4         3.1 MB  conda-forge\n",
            "    libgomp-12.1.0             |      h8d9b700_16         459 KB  conda-forge\n",
            "    libiconv-1.16              |       h516909a_0         1.4 MB  conda-forge\n",
            "    liblapack-3.9.0            |14_linux64_openblas          12 KB  conda-forge\n",
            "    libllvm14-14.0.4           |       he0ac6c6_0        35.2 MB  conda-forge\n",
            "    libnghttp2-1.47.0          |       h727a467_0         808 KB  conda-forge\n",
            "    libnsl-2.0.0               |       h7f98852_0          31 KB  conda-forge\n",
            "    libogg-1.3.4               |       h7f98852_1         206 KB  conda-forge\n",
            "    libopenblas-0.3.20         |pthreads_h78a6416_0        10.1 MB  conda-forge\n",
            "    libopus-1.3.1              |       h7f98852_1         255 KB  conda-forge\n",
            "    libpng-1.6.37              |       h21135ba_2         306 KB  conda-forge\n",
            "    libpq-14.3                 |       hd77ab85_0         3.0 MB  conda-forge\n",
            "    libsndfile-1.0.31          |       h9c3ff4c_1         602 KB  conda-forge\n",
            "    libssh2-1.10.0             |       ha56f1ee_2         233 KB  conda-forge\n",
            "    libstdcxx-ng-12.1.0        |      ha89aaad_16         4.3 MB  conda-forge\n",
            "    libtiff-4.4.0              |       h0fcbabc_0         606 KB  conda-forge\n",
            "    libtool-2.4.6              |    h9c3ff4c_1008         511 KB  conda-forge\n",
            "    libudev1-249               |       h166bdaf_2         109 KB  conda-forge\n",
            "    libuuid-2.32.1             |    h7f98852_1000          28 KB  conda-forge\n",
            "    libvorbis-1.3.7            |       h9c3ff4c_0         280 KB  conda-forge\n",
            "    libwebp-1.2.2              |       h3452ae3_0          85 KB  conda-forge\n",
            "    libwebp-base-1.2.2         |       h7f98852_1         824 KB  conda-forge\n",
            "    libxcb-1.13                |    h7f98852_1004         391 KB  conda-forge\n",
            "    libxkbcommon-1.0.3         |       he3ba5ed_0         581 KB  conda-forge\n",
            "    libxml2-2.9.14             |       h22db469_0         770 KB  conda-forge\n",
            "    libzlib-1.2.12             |       h166bdaf_0          62 KB  conda-forge\n",
            "    lz4-c-1.9.3                |       h9c3ff4c_1         179 KB  conda-forge\n",
            "    matplotlib-3.5.2           |   py39hf3d152e_0           6 KB  conda-forge\n",
            "    matplotlib-base-3.5.2      |   py39h700656a_0         7.3 MB  conda-forge\n",
            "    munkres-1.1.4              |     pyh9f0ad1d_0          12 KB  conda-forge\n",
            "    mysql-common-8.0.29        |       haf5c9bc_1         1.8 MB  conda-forge\n",
            "    mysql-libs-8.0.29          |       h28c427c_1         1.9 MB  conda-forge\n",
            "    ncurses-6.3                |       h27087fc_1        1002 KB  conda-forge\n",
            "    nspr-4.32                  |       h9c3ff4c_1         233 KB  conda-forge\n",
            "    nss-3.78                   |       h2350873_0         2.1 MB  conda-forge\n",
            "    numpy-1.22.4               |   py39hc58783e_0         6.8 MB  conda-forge\n",
            "    openjpeg-2.4.0             |       hb52868f_1         444 KB  conda-forge\n",
            "    openssl-1.1.1o             |       h166bdaf_0         2.1 MB  conda-forge\n",
            "    packaging-21.3             |     pyhd8ed1ab_0          36 KB  conda-forge\n",
            "    pandas-1.4.2               |   py39h1832856_2        12.5 MB  conda-forge\n",
            "    pcre-8.45                  |       h9c3ff4c_0         253 KB  conda-forge\n",
            "    perl-5.32.1                | 2_h7f98852_perl5        14.4 MB  conda-forge\n",
            "    pillow-9.1.1               |   py39hae2aec6_1        44.5 MB  conda-forge\n",
            "    pip-22.1.2                 |     pyhd8ed1ab_0         1.5 MB  conda-forge\n",
            "    pthread-stubs-0.4          |    h36c2ea0_1001           5 KB  conda-forge\n",
            "    pulseaudio-14.0            |       hbc9ff1d_7         1.7 MB  conda-forge\n",
            "    pyparsing-3.0.9            |     pyhd8ed1ab_0          79 KB  conda-forge\n",
            "    pyqt-5.15.4                |   py39h18e9c17_1         6.1 MB  conda-forge\n",
            "    pyqt5-sip-12.9.0           |   py39h5a03fae_1          84 KB  conda-forge\n",
            "    pysam-0.19.1               |   py39h5030a8b_0         2.7 MB  bioconda\n",
            "    python-3.9.13              |h9a8a25e_0_cpython        26.7 MB  conda-forge\n",
            "    python-dateutil-2.8.2      |     pyhd8ed1ab_0         240 KB  conda-forge\n",
            "    python_abi-3.9             |           2_cp39           4 KB  conda-forge\n",
            "    pytz-2022.1                |     pyhd8ed1ab_0         242 KB  conda-forge\n",
            "    qt-main-5.15.3             |       hf97cb25_2        62.0 MB  conda-forge\n",
            "    readline-8.1               |       h46c0cb4_0         295 KB  conda-forge\n",
            "    samtools-1.15.1            |       h1170115_0         393 KB  bioconda\n",
            "    scipy-1.8.1                |   py39he49c0e8_0        24.9 MB  conda-forge\n",
            "    setuptools-62.3.2          |   py39hf3d152e_0         1.3 MB  conda-forge\n",
            "    sip-6.5.1                  |   py39he80948d_2         389 KB  conda-forge\n",
            "    six-1.16.0                 |     pyh6c4a22f_0          14 KB  conda-forge\n",
            "    sqlite-3.38.5              |       h4ff8645_0         1.5 MB  conda-forge\n",
            "    star-2.7.10a               |       h9ee0642_0         4.9 MB  bioconda\n",
            "    tk-8.6.12                  |       h27826a3_0         3.3 MB  conda-forge\n",
            "    toml-0.10.2                |     pyhd8ed1ab_0          18 KB  conda-forge\n",
            "    tornado-6.1                |   py39hb9d737c_3         649 KB  conda-forge\n",
            "    tzdata-2022a               |       h191b570_0         121 KB  conda-forge\n",
            "    unicodedata2-14.0.0        |   py39hb9d737c_1         498 KB  conda-forge\n",
            "    wheel-0.37.1               |     pyhd8ed1ab_0          31 KB  conda-forge\n",
            "    xorg-libxau-1.0.9          |       h7f98852_0          13 KB  conda-forge\n",
            "    xorg-libxdmcp-1.1.3        |       h7f98852_0          19 KB  conda-forge\n",
            "    xz-5.2.5                   |       h516909a_1         343 KB  conda-forge\n",
            "    zlib-1.2.12                |       h166bdaf_0          90 KB  conda-forge\n",
            "    zstd-1.5.2                 |       h8a70e8d_1         452 KB  conda-forge\n",
            "    ------------------------------------------------------------\n",
            "                                           Total:       407.1 MB\n",
            "\n",
            "The following NEW packages will be INSTALLED:\n",
            "\n",
            "  _libgcc_mutex      conda-forge/linux-64::_libgcc_mutex-0.1-conda_forge\n",
            "  _openmp_mutex      conda-forge/linux-64::_openmp_mutex-4.5-2_gnu\n",
            "  alsa-lib           conda-forge/linux-64::alsa-lib-1.2.3.2-h166bdaf_0\n",
            "  attr               conda-forge/linux-64::attr-2.5.1-h166bdaf_0\n",
            "  bedtools           bioconda/linux-64::bedtools-2.30.0-h468198e_3\n",
            "  biopython          conda-forge/linux-64::biopython-1.79-py39h3811e60_1\n",
            "  brotli             conda-forge/linux-64::brotli-1.0.9-h166bdaf_7\n",
            "  brotli-bin         conda-forge/linux-64::brotli-bin-1.0.9-h166bdaf_7\n",
            "  bwa                bioconda/linux-64::bwa-0.7.17-h7132678_9\n",
            "  bzip2              conda-forge/linux-64::bzip2-1.0.8-h7f98852_4\n",
            "  c-ares             conda-forge/linux-64::c-ares-1.18.1-h7f98852_0\n",
            "  ca-certificates    conda-forge/linux-64::ca-certificates-2022.5.18.1-ha878542_0\n",
            "  certifi            conda-forge/linux-64::certifi-2022.5.18.1-py39hf3d152e_0\n",
            "  cycler             conda-forge/noarch::cycler-0.11.0-pyhd8ed1ab_0\n",
            "  cython             conda-forge/linux-64::cython-0.29.30-py39h5a03fae_0\n",
            "  dbus               conda-forge/linux-64::dbus-1.13.6-h5008d03_3\n",
            "  expat              conda-forge/linux-64::expat-2.4.8-h27087fc_0\n",
            "  fftw               conda-forge/linux-64::fftw-3.3.10-nompi_h77c792f_102\n",
            "  font-ttf-dejavu-s~ conda-forge/noarch::font-ttf-dejavu-sans-mono-2.37-hab24e00_0\n",
            "  font-ttf-inconsol~ conda-forge/noarch::font-ttf-inconsolata-3.000-h77eed37_0\n",
            "  font-ttf-source-c~ conda-forge/noarch::font-ttf-source-code-pro-2.038-h77eed37_0\n",
            "  font-ttf-ubuntu    conda-forge/noarch::font-ttf-ubuntu-0.83-hab24e00_0\n",
            "  fontconfig         conda-forge/linux-64::fontconfig-2.14.0-h8e229c2_0\n",
            "  fonts-conda-ecosy~ conda-forge/noarch::fonts-conda-ecosystem-1-0\n",
            "  fonts-conda-forge  conda-forge/noarch::fonts-conda-forge-1-0\n",
            "  fonttools          conda-forge/linux-64::fonttools-4.33.3-py39hb9d737c_0\n",
            "  freetype           conda-forge/linux-64::freetype-2.10.4-h0708190_1\n",
            "  gettext            conda-forge/linux-64::gettext-0.19.8.1-h73d1719_1008\n",
            "  giflib             conda-forge/linux-64::giflib-5.2.1-h36c2ea0_2\n",
            "  gst-plugins-base   conda-forge/linux-64::gst-plugins-base-1.20.2-hcf0ee16_0\n",
            "  gstreamer          conda-forge/linux-64::gstreamer-1.20.2-hd4edc92_1\n",
            "  htslib             bioconda/linux-64::htslib-1.15.1-h9753748_0\n",
            "  icu                conda-forge/linux-64::icu-70.1-h27087fc_0\n",
            "  jack               conda-forge/linux-64::jack-1.9.18-hfd4fe87_1001\n",
            "  jpeg               conda-forge/linux-64::jpeg-9e-h166bdaf_1\n",
            "  keyutils           conda-forge/linux-64::keyutils-1.6.1-h166bdaf_0\n",
            "  kiwisolver         conda-forge/linux-64::kiwisolver-1.4.2-py39hf939315_1\n",
            "  krb5               conda-forge/linux-64::krb5-1.19.3-h3790be6_0\n",
            "  lcms2              conda-forge/linux-64::lcms2-2.12-hddcbb42_0\n",
            "  ld_impl_linux-64   conda-forge/linux-64::ld_impl_linux-64-2.36.1-hea4e1c9_2\n",
            "  lerc               conda-forge/linux-64::lerc-3.0-h9c3ff4c_0\n",
            "  libblas            conda-forge/linux-64::libblas-3.9.0-14_linux64_openblas\n",
            "  libbrotlicommon    conda-forge/linux-64::libbrotlicommon-1.0.9-h166bdaf_7\n",
            "  libbrotlidec       conda-forge/linux-64::libbrotlidec-1.0.9-h166bdaf_7\n",
            "  libbrotlienc       conda-forge/linux-64::libbrotlienc-1.0.9-h166bdaf_7\n",
            "  libcap             conda-forge/linux-64::libcap-2.64-ha37c62d_0\n",
            "  libcblas           conda-forge/linux-64::libcblas-3.9.0-14_linux64_openblas\n",
            "  libclang           conda-forge/linux-64::libclang-14.0.4-default_h2e3cab8_0\n",
            "  libclang13         conda-forge/linux-64::libclang13-14.0.4-default_h3a83d3e_0\n",
            "  libcups            conda-forge/linux-64::libcups-2.3.3-hf5a7f15_1\n",
            "  libcurl            conda-forge/linux-64::libcurl-7.83.1-h7bff187_0\n",
            "  libdb              conda-forge/linux-64::libdb-6.2.32-h9c3ff4c_0\n",
            "  libdeflate         conda-forge/linux-64::libdeflate-1.10-h7f98852_0\n",
            "  libedit            conda-forge/linux-64::libedit-3.1.20191231-he28a2e2_2\n",
            "  libev              conda-forge/linux-64::libev-4.33-h516909a_1\n",
            "  libevent           conda-forge/linux-64::libevent-2.1.10-h9b69904_4\n",
            "  libffi             conda-forge/linux-64::libffi-3.4.2-h7f98852_5\n",
            "  libflac            conda-forge/linux-64::libflac-1.3.4-h27087fc_0\n",
            "  libgcc-ng          conda-forge/linux-64::libgcc-ng-12.1.0-h8d9b700_16\n",
            "  libgfortran-ng     conda-forge/linux-64::libgfortran-ng-12.1.0-h69a702a_16\n",
            "  libgfortran5       conda-forge/linux-64::libgfortran5-12.1.0-hdcd56e2_16\n",
            "  libglib            conda-forge/linux-64::libglib-2.70.2-h174f98d_4\n",
            "  libgomp            conda-forge/linux-64::libgomp-12.1.0-h8d9b700_16\n",
            "  libiconv           conda-forge/linux-64::libiconv-1.16-h516909a_0\n",
            "  liblapack          conda-forge/linux-64::liblapack-3.9.0-14_linux64_openblas\n",
            "  libllvm14          conda-forge/linux-64::libllvm14-14.0.4-he0ac6c6_0\n",
            "  libnghttp2         conda-forge/linux-64::libnghttp2-1.47.0-h727a467_0\n",
            "  libnsl             conda-forge/linux-64::libnsl-2.0.0-h7f98852_0\n",
            "  libogg             conda-forge/linux-64::libogg-1.3.4-h7f98852_1\n",
            "  libopenblas        conda-forge/linux-64::libopenblas-0.3.20-pthreads_h78a6416_0\n",
            "  libopus            conda-forge/linux-64::libopus-1.3.1-h7f98852_1\n",
            "  libpng             conda-forge/linux-64::libpng-1.6.37-h21135ba_2\n",
            "  libpq              conda-forge/linux-64::libpq-14.3-hd77ab85_0\n",
            "  libsndfile         conda-forge/linux-64::libsndfile-1.0.31-h9c3ff4c_1\n",
            "  libssh2            conda-forge/linux-64::libssh2-1.10.0-ha56f1ee_2\n",
            "  libstdcxx-ng       conda-forge/linux-64::libstdcxx-ng-12.1.0-ha89aaad_16\n",
            "  libtiff            conda-forge/linux-64::libtiff-4.4.0-h0fcbabc_0\n",
            "  libtool            conda-forge/linux-64::libtool-2.4.6-h9c3ff4c_1008\n",
            "  libudev1           conda-forge/linux-64::libudev1-249-h166bdaf_2\n",
            "  libuuid            conda-forge/linux-64::libuuid-2.32.1-h7f98852_1000\n",
            "  libvorbis          conda-forge/linux-64::libvorbis-1.3.7-h9c3ff4c_0\n",
            "  libwebp            conda-forge/linux-64::libwebp-1.2.2-h3452ae3_0\n",
            "  libwebp-base       conda-forge/linux-64::libwebp-base-1.2.2-h7f98852_1\n",
            "  libxcb             conda-forge/linux-64::libxcb-1.13-h7f98852_1004\n",
            "  libxkbcommon       conda-forge/linux-64::libxkbcommon-1.0.3-he3ba5ed_0\n",
            "  libxml2            conda-forge/linux-64::libxml2-2.9.14-h22db469_0\n",
            "  libzlib            conda-forge/linux-64::libzlib-1.2.12-h166bdaf_0\n",
            "  lz4-c              conda-forge/linux-64::lz4-c-1.9.3-h9c3ff4c_1\n",
            "  matplotlib         conda-forge/linux-64::matplotlib-3.5.2-py39hf3d152e_0\n",
            "  matplotlib-base    conda-forge/linux-64::matplotlib-base-3.5.2-py39h700656a_0\n",
            "  munkres            conda-forge/noarch::munkres-1.1.4-pyh9f0ad1d_0\n",
            "  mysql-common       conda-forge/linux-64::mysql-common-8.0.29-haf5c9bc_1\n",
            "  mysql-libs         conda-forge/linux-64::mysql-libs-8.0.29-h28c427c_1\n",
            "  ncurses            conda-forge/linux-64::ncurses-6.3-h27087fc_1\n",
            "  nspr               conda-forge/linux-64::nspr-4.32-h9c3ff4c_1\n",
            "  nss                conda-forge/linux-64::nss-3.78-h2350873_0\n",
            "  numpy              conda-forge/linux-64::numpy-1.22.4-py39hc58783e_0\n",
            "  openjpeg           conda-forge/linux-64::openjpeg-2.4.0-hb52868f_1\n",
            "  openssl            conda-forge/linux-64::openssl-1.1.1o-h166bdaf_0\n",
            "  packaging          conda-forge/noarch::packaging-21.3-pyhd8ed1ab_0\n",
            "  pandas             conda-forge/linux-64::pandas-1.4.2-py39h1832856_2\n",
            "  pcre               conda-forge/linux-64::pcre-8.45-h9c3ff4c_0\n",
            "  perl               conda-forge/linux-64::perl-5.32.1-2_h7f98852_perl5\n",
            "  pillow             conda-forge/linux-64::pillow-9.1.1-py39hae2aec6_1\n",
            "  pip                conda-forge/noarch::pip-22.1.2-pyhd8ed1ab_0\n",
            "  pthread-stubs      conda-forge/linux-64::pthread-stubs-0.4-h36c2ea0_1001\n",
            "  pulseaudio         conda-forge/linux-64::pulseaudio-14.0-hbc9ff1d_7\n",
            "  pyparsing          conda-forge/noarch::pyparsing-3.0.9-pyhd8ed1ab_0\n",
            "  pyqt               conda-forge/linux-64::pyqt-5.15.4-py39h18e9c17_1\n",
            "  pyqt5-sip          conda-forge/linux-64::pyqt5-sip-12.9.0-py39h5a03fae_1\n",
            "  pysam              bioconda/linux-64::pysam-0.19.1-py39h5030a8b_0\n",
            "  python             conda-forge/linux-64::python-3.9.13-h9a8a25e_0_cpython\n",
            "  python-dateutil    conda-forge/noarch::python-dateutil-2.8.2-pyhd8ed1ab_0\n",
            "  python_abi         conda-forge/linux-64::python_abi-3.9-2_cp39\n",
            "  pytz               conda-forge/noarch::pytz-2022.1-pyhd8ed1ab_0\n",
            "  qt-main            conda-forge/linux-64::qt-main-5.15.3-hf97cb25_2\n",
            "  readline           conda-forge/linux-64::readline-8.1-h46c0cb4_0\n",
            "  samtools           bioconda/linux-64::samtools-1.15.1-h1170115_0\n",
            "  scipy              conda-forge/linux-64::scipy-1.8.1-py39he49c0e8_0\n",
            "  setuptools         conda-forge/linux-64::setuptools-62.3.2-py39hf3d152e_0\n",
            "  sip                conda-forge/linux-64::sip-6.5.1-py39he80948d_2\n",
            "  six                conda-forge/noarch::six-1.16.0-pyh6c4a22f_0\n",
            "  sqlite             conda-forge/linux-64::sqlite-3.38.5-h4ff8645_0\n",
            "  star               bioconda/linux-64::star-2.7.10a-h9ee0642_0\n",
            "  tk                 conda-forge/linux-64::tk-8.6.12-h27826a3_0\n",
            "  toml               conda-forge/noarch::toml-0.10.2-pyhd8ed1ab_0\n",
            "  tornado            conda-forge/linux-64::tornado-6.1-py39hb9d737c_3\n",
            "  tzdata             conda-forge/noarch::tzdata-2022a-h191b570_0\n",
            "  unicodedata2       conda-forge/linux-64::unicodedata2-14.0.0-py39hb9d737c_1\n",
            "  wheel              conda-forge/noarch::wheel-0.37.1-pyhd8ed1ab_0\n",
            "  xorg-libxau        conda-forge/linux-64::xorg-libxau-1.0.9-h7f98852_0\n",
            "  xorg-libxdmcp      conda-forge/linux-64::xorg-libxdmcp-1.1.3-h7f98852_0\n",
            "  xz                 conda-forge/linux-64::xz-5.2.5-h516909a_1\n",
            "  zlib               conda-forge/linux-64::zlib-1.2.12-h166bdaf_0\n",
            "  zstd               conda-forge/linux-64::zstd-1.5.2-h8a70e8d_1\n",
            "\n",
            "\n",
            "\n",
            "Downloading and Extracting Packages\n",
            "bedtools-2.30.0      | 15.5 MB   | : 100% 1.0/1 [00:03<00:00,  3.32s/it]\n",
            "libgfortran5-12.1.0  | 1.8 MB    | : 100% 1.0/1 [00:00<00:00,  2.15it/s]\n",
            "munkres-1.1.4        | 12 KB     | : 100% 1.0/1 [00:00<00:00, 22.80it/s]\n",
            "jack-1.9.18          | 640 KB    | : 100% 1.0/1 [00:00<00:00,  4.97it/s]\n",
            "nspr-4.32            | 233 KB    | : 100% 1.0/1 [00:00<00:00, 10.81it/s]\n",
            "brotli-bin-1.0.9     | 19 KB     | : 100% 1.0/1 [00:00<00:00, 26.23it/s]\n",
            "readline-8.1         | 295 KB    | : 100% 1.0/1 [00:00<00:00,  8.89it/s]\n",
            "setuptools-62.3.2    | 1.3 MB    | : 100% 1.0/1 [00:00<00:00,  1.85it/s]\n",
            "ld_impl_linux-64-2.3 | 667 KB    | : 100% 1.0/1 [00:00<00:00,  4.30it/s]\n",
            "_libgcc_mutex-0.1    | 3 KB      | : 100% 1.0/1 [00:00<00:00, 24.68it/s]\n",
            "pillow-9.1.1         | 44.5 MB   | : 100% 1.0/1 [00:07<00:00,  7.05s/it]\n",
            "perl-5.32.1          | 14.4 MB   | : 100% 1.0/1 [00:04<00:00,  4.84s/it]\n",
            "pulseaudio-14.0      | 1.7 MB    | : 100% 1.0/1 [00:00<00:00,  1.44it/s]\n",
            "libopus-1.3.1        | 255 KB    | : 100% 1.0/1 [00:00<00:00, 11.06it/s]\n",
            "mysql-common-8.0.29  | 1.8 MB    | : 100% 1.0/1 [00:01<00:00,  1.01s/it]\n",
            "libsndfile-1.0.31    | 602 KB    | : 100% 1.0/1 [00:00<00:00,  4.28it/s]\n",
            "libopenblas-0.3.20   | 10.1 MB   | : 100% 1.0/1 [00:02<00:00,  2.35s/it]\n",
            "libblas-3.9.0        | 12 KB     | : 100% 1.0/1 [00:00<00:00, 20.21it/s]\n",
            "attr-2.5.1           | 69 KB     | : 100% 1.0/1 [00:00<00:00, 15.63it/s]\n",
            "libnsl-2.0.0         | 31 KB     | : 100% 1.0/1 [00:00<00:00, 28.08it/s]\n",
            "python_abi-3.9       | 4 KB      | : 100% 1.0/1 [00:00<00:00, 30.90it/s]\n",
            "dbus-1.13.6          | 604 KB    | : 100% 1.0/1 [00:00<00:00,  5.51it/s]\n",
            "libdeflate-1.10      | 77 KB     | : 100% 1.0/1 [00:00<00:00, 22.32it/s]\n",
            "libzlib-1.2.12       | 62 KB     | : 100% 1.0/1 [00:00<00:00, 23.47it/s]\n",
            "libedit-3.1.20191231 | 121 KB    | : 100% 1.0/1 [00:00<00:00, 17.18it/s]\n",
            "libdb-6.2.32         | 23.3 MB   | : 100% 1.0/1 [00:07<00:00,  7.81s/it]              \n",
            "font-ttf-dejavu-sans | 388 KB    | : 100% 1.0/1 [00:00<00:00, 10.05it/s]\n",
            "bwa-0.7.17           | 187 KB    | : 100% 1.0/1 [00:00<00:00, 16.98it/s]\n",
            "font-ttf-ubuntu-0.83 | 1.9 MB    | : 100% 1.0/1 [00:00<00:00,  2.43it/s]\n",
            "tzdata-2022a         | 121 KB    | : 100% 1.0/1 [00:00<00:00,  8.08it/s]\n",
            "wheel-0.37.1         | 31 KB     | : 100% 1.0/1 [00:00<00:00, 27.17it/s]\n",
            "alsa-lib-1.2.3.2     | 554 KB    | : 100% 1.0/1 [00:00<00:00,  5.89it/s]\n",
            "libcups-2.3.3        | 4.6 MB    | : 100% 1.0/1 [00:00<00:00,  1.29it/s]\n",
            "libxcb-1.13          | 391 KB    | : 100% 1.0/1 [00:00<00:00,  5.98it/s]\n",
            "pyparsing-3.0.9      | 79 KB     | : 100% 1.0/1 [00:00<00:00, 14.47it/s]\n",
            "libllvm14-14.0.4     | 35.2 MB   | : 100% 1.0/1 [00:08<00:00,  8.59s/it]               \n",
            "liblapack-3.9.0      | 12 KB     | : 100% 1.0/1 [00:00<00:00, 22.21it/s]\n",
            "jpeg-9e              | 268 KB    | : 100% 1.0/1 [00:00<00:00,  9.65it/s]\n",
            "pyqt-5.15.4          | 6.1 MB    | : 100% 1.0/1 [00:01<00:00,  1.81s/it]\n",
            "libcblas-3.9.0       | 12 KB     | : 100% 1.0/1 [00:00<00:00, 27.05it/s]\n",
            "libxml2-2.9.14       | 770 KB    | : 100% 1.0/1 [00:00<00:00,  4.94it/s]\n",
            "ncurses-6.3          | 1002 KB   | : 100% 1.0/1 [00:00<00:00,  1.67it/s]\n",
            "xz-5.2.5             | 343 KB    | : 100% 1.0/1 [00:00<00:00,  7.26it/s]\n",
            "libclang13-14.0.4    | 10.6 MB   | : 100% 1.0/1 [00:02<00:00,  2.60s/it]               \n",
            "lcms2-2.12           | 443 KB    | : 100% 1.0/1 [00:00<00:00,  7.75it/s]\n",
            "libtool-2.4.6        | 511 KB    | : 100% 1.0/1 [00:00<00:00,  5.59it/s]\n",
            "certifi-2022.5.18.1  | 150 KB    | : 100% 1.0/1 [00:00<00:00, 16.93it/s]\n",
            "libogg-1.3.4         | 206 KB    | : 100% 1.0/1 [00:00<00:00, 12.53it/s]\n",
            "pytz-2022.1          | 242 KB    | : 100% 1.0/1 [00:00<00:00,  5.60it/s]\n",
            "fonttools-4.33.3     | 1.6 MB    | : 100% 1.0/1 [00:00<00:00,  1.61it/s]               \n",
            "libpq-14.3           | 3.0 MB    | : 100% 1.0/1 [00:00<00:00,  1.16it/s]\n",
            "brotli-1.0.9         | 18 KB     | : 100% 1.0/1 [00:00<00:00, 26.99it/s]\n",
            "pip-22.1.2           | 1.5 MB    | : 100% 1.0/1 [00:00<00:00,  1.81it/s]\n",
            "font-ttf-source-code | 684 KB    | : 100% 1.0/1 [00:00<00:00,  4.76it/s]\n",
            "tornado-6.1          | 649 KB    | : 100% 1.0/1 [00:00<00:00,  3.91it/s]\n",
            "pthread-stubs-0.4    | 5 KB      | : 100% 1.0/1 [00:00<00:00, 11.26it/s]\n",
            "qt-main-5.15.3       | 62.0 MB   | : 100% 1.0/1 [00:17<00:00, 17.70s/it]               \n",
            "gettext-0.19.8.1     | 3.6 MB    | : 100% 1.0/1 [00:01<00:00,  1.29s/it]               \n",
            "libuuid-2.32.1       | 28 KB     | : 100% 1.0/1 [00:00<00:00, 20.63it/s]\n",
            "libcap-2.64          | 96 KB     | : 100% 1.0/1 [00:00<00:00, 14.47it/s]\n",
            "mysql-libs-8.0.29    | 1.9 MB    | : 100% 1.0/1 [00:00<00:00,  2.03it/s]               \n",
            "libgfortran-ng-12.1. | 23 KB     | : 100% 1.0/1 [00:00<00:00, 25.17it/s]\n",
            "libbrotlidec-1.0.9   | 33 KB     | : 100% 1.0/1 [00:00<00:00, 17.64it/s]\n",
            "expat-2.4.8          | 187 KB    | : 100% 1.0/1 [00:00<00:00,  9.84it/s]\n",
            "libssh2-1.10.0       | 233 KB    | : 100% 1.0/1 [00:00<00:00,  8.71it/s]\n",
            "giflib-5.2.1         | 77 KB     | : 100% 1.0/1 [00:00<00:00, 18.74it/s]\n",
            "fontconfig-2.14.0    | 305 KB    | : 100% 1.0/1 [00:00<00:00,  7.67it/s]\n",
            "htslib-1.15.1        | 2.1 MB    | : 100% 1.0/1 [00:00<00:00,  1.97it/s]\n",
            "sqlite-3.38.5        | 1.5 MB    | : 100% 1.0/1 [00:00<00:00,  2.38it/s]\n",
            "libnghttp2-1.47.0    | 808 KB    | : 100% 1.0/1 [00:00<00:00,  5.12it/s]\n",
            "openssl-1.1.1o       | 2.1 MB    | : 100% 1.0/1 [00:00<00:00,  2.18it/s]\n",
            "zlib-1.2.12          | 90 KB     | : 100% 1.0/1 [00:00<00:00, 15.58it/s]\n",
            "libwebp-1.2.2        | 85 KB     | : 100% 1.0/1 [00:00<00:00, 17.10it/s]\n",
            "libgcc-ng-12.1.0     | 940 KB    | : 100% 1.0/1 [00:00<00:00,  5.11it/s]\n",
            "kiwisolver-1.4.2     | 75 KB     | : 100% 1.0/1 [00:00<00:00, 16.79it/s]\n",
            "libffi-3.4.2         | 57 KB     | : 100% 1.0/1 [00:00<00:00, 19.12it/s]\n",
            "openjpeg-2.4.0       | 444 KB    | : 100% 1.0/1 [00:00<00:00,  6.68it/s]\n",
            "fftw-3.3.10          | 6.4 MB    | : 100% 1.0/1 [00:01<00:00,  1.54s/it]               \n",
            "cycler-0.11.0        | 10 KB     | : 100% 1.0/1 [00:00<00:00, 27.00it/s]\n",
            "font-ttf-inconsolata | 94 KB     | : 100% 1.0/1 [00:00<00:00, 17.38it/s]\n",
            "matplotlib-3.5.2     | 6 KB      | : 100% 1.0/1 [00:00<00:00, 10.09it/s]\n",
            "libxkbcommon-1.0.3   | 581 KB    | : 100% 1.0/1 [00:00<00:00,  6.30it/s]\n",
            "biopython-1.79       | 2.6 MB    | : 100% 1.0/1 [00:01<00:00,  1.00s/it]\n",
            "krb5-1.19.3          | 1.4 MB    | : 100% 1.0/1 [00:00<00:00,  2.52it/s]\n",
            "sip-6.5.1            | 389 KB    | : 100% 1.0/1 [00:00<00:00,  6.06it/s]\n",
            "packaging-21.3       | 36 KB     | : 100% 1.0/1 [00:00<00:00, 20.06it/s]\n",
            "bzip2-1.0.8          | 484 KB    | : 100% 1.0/1 [00:00<00:00,  6.54it/s]\n",
            "cython-0.29.30       | 2.1 MB    | : 100% 1.0/1 [00:00<00:00,  1.53it/s]\n",
            "pcre-8.45            | 253 KB    | : 100% 1.0/1 [00:00<00:00, 10.06it/s]\n",
            "libiconv-1.16        | 1.4 MB    | : 100% 1.0/1 [00:00<00:00,  4.03it/s]\n",
            "star-2.7.10a         | 4.9 MB    | : 100% 1.0/1 [00:01<00:00,  1.07s/it]\n",
            "libwebp-base-1.2.2   | 824 KB    | : 100% 1.0/1 [00:00<00:00,  3.90it/s]\n",
            "nss-3.78             | 2.1 MB    | : 100% 1.0/1 [00:00<00:00,  1.81it/s]\n",
            "six-1.16.0           | 14 KB     | : 100% 1.0/1 [00:00<00:00, 31.24it/s]\n",
            "ca-certificates-2022 | 144 KB    | : 100% 1.0/1 [00:00<00:00, 20.87it/s]\n",
            "python-dateutil-2.8. | 240 KB    | : 100% 1.0/1 [00:00<00:00, 12.81it/s]\n",
            "libbrotlienc-1.0.9   | 287 KB    | : 100% 1.0/1 [00:00<00:00, 10.42it/s]\n",
            "fonts-conda-ecosyste | 4 KB      | : 100% 1.0/1 [00:00<00:00, 30.05it/s]\n",
            "freetype-2.10.4      | 890 KB    | : 100% 1.0/1 [00:00<00:00,  3.96it/s]\n",
            "libstdcxx-ng-12.1.0  | 4.3 MB    | : 100% 1.0/1 [00:00<00:00,  1.16it/s]\n",
            "xorg-libxau-1.0.9    | 13 KB     | : 100% 1.0/1 [00:00<00:00, 24.37it/s]\n",
            "libflac-1.3.4        | 474 KB    | : 100% 1.0/1 [00:00<00:00,  8.03it/s]\n",
            "lz4-c-1.9.3          | 179 KB    | : 100% 1.0/1 [00:00<00:00,  8.66it/s]\n",
            "libglib-2.70.2       | 3.1 MB    | : 100% 1.0/1 [00:00<00:00,  1.00it/s]\n",
            "tk-8.6.12            | 3.3 MB    | : 100% 1.0/1 [00:00<00:00,  1.27it/s]\n",
            "pandas-1.4.2         | 12.5 MB   | : 100% 1.0/1 [00:04<00:00,  4.36s/it]               \n",
            "scipy-1.8.1          | 24.9 MB   | : 100% 1.0/1 [00:06<00:00,  6.11s/it]\n",
            "keyutils-1.6.1       | 115 KB    | : 100% 1.0/1 [00:00<00:00, 14.54it/s]\n",
            "libevent-2.1.10      | 1.1 MB    | : 100% 1.0/1 [00:00<00:00,  2.20it/s]\n",
            "libev-4.33           | 104 KB    | : 100% 1.0/1 [00:00<00:00, 17.82it/s]\n",
            "gst-plugins-base-1.2 | 2.8 MB    | : 100% 1.0/1 [00:00<00:00,  1.10it/s]\n",
            "lerc-3.0             | 216 KB    | : 100% 1.0/1 [00:00<00:00, 11.07it/s]\n",
            "zstd-1.5.2           | 452 KB    | : 100% 1.0/1 [00:00<00:00,  8.94it/s]\n",
            "pyqt5-sip-12.9.0     | 84 KB     | : 100% 1.0/1 [00:00<00:00, 14.67it/s]\n",
            "libvorbis-1.3.7      | 280 KB    | : 100% 1.0/1 [00:00<00:00, 10.98it/s]\n",
            "toml-0.10.2          | 18 KB     | : 100% 1.0/1 [00:00<00:00, 28.26it/s]\n",
            "python-3.9.13        | 26.7 MB   | : 100% 1.0/1 [00:06<00:00,  6.28s/it]              \n",
            "samtools-1.15.1      | 393 KB    | : 100% 1.0/1 [00:00<00:00,  7.03it/s]\n",
            "fonts-conda-forge-1  | 4 KB      | : 100% 1.0/1 [00:00<00:00, 29.41it/s]\n",
            "_openmp_mutex-4.5    | 23 KB     | : 100% 1.0/1 [00:00<00:00, 24.65it/s]\n",
            "libcurl-7.83.1       | 342 KB    | : 100% 1.0/1 [00:00<00:00,  9.41it/s]\n",
            "xorg-libxdmcp-1.1.3  | 19 KB     | : 100% 1.0/1 [00:00<00:00, 29.20it/s]\n",
            "gstreamer-1.20.2     | 2.0 MB    | : 100% 1.0/1 [00:00<00:00,  1.47it/s]\n",
            "libudev1-249         | 109 KB    | : 100% 1.0/1 [00:00<00:00, 20.49it/s]\n",
            "libgomp-12.1.0       | 459 KB    | : 100% 1.0/1 [00:00<00:00,  8.96it/s]\n",
            "matplotlib-base-3.5. | 7.3 MB    | : 100% 1.0/1 [00:01<00:00,  1.81s/it]\n",
            "libbrotlicommon-1.0. | 65 KB     | : 100% 1.0/1 [00:00<00:00, 25.00it/s]\n",
            "numpy-1.22.4         | 6.8 MB    | : 100% 1.0/1 [00:01<00:00,  1.94s/it]\n",
            "unicodedata2-14.0.0  | 498 KB    | : 100% 1.0/1 [00:00<00:00, 10.08it/s]\n",
            "c-ares-1.18.1        | 113 KB    | : 100% 1.0/1 [00:00<00:00, 16.01it/s]\n",
            "pysam-0.19.1         | 2.7 MB    | : 100% 1.0/1 [00:00<00:00,  1.66it/s]\n",
            "libpng-1.6.37        | 306 KB    | : 100% 1.0/1 [00:00<00:00,  8.67it/s]\n",
            "libtiff-4.4.0        | 606 KB    | : 100% 1.0/1 [00:00<00:00,  5.29it/s]\n",
            "libclang-14.0.4      | 127 KB    | : 100% 1.0/1 [00:00<00:00, 15.83it/s]\n",
            "icu-70.1             | 13.5 MB   | : 100% 1.0/1 [00:02<00:00,  2.69s/it]              \n",
            "Preparing transaction: \\ \b\b| \b\b/ \b\b- \b\b\\ \b\b| \b\b/ \b\b- \b\b\\ \b\b| \b\b/ \b\b- \b\b\\ \b\b| \b\b/ \b\b- \b\b\\ \b\bdone\n",
            "Verifying transaction: / \b\b- \b\b\\ \b\b| \b\b/ \b\b- \b\b\\ \b\b| \b\b/ \b\b- \b\b\\ \b\b| \b\b/ \b\b- \b\b\\ \b\b| \b\b/ \b\b- \b\b\\ \b\b| \b\b/ \b\b- \b\b\\ \b\b| \b\b/ \b\b- \b\b\\ \b\b| \b\b/ \b\b- \b\b\\ \b\b| \b\b/ \b\b- \b\b\\ \b\b| \b\b/ \b\b- \b\b\\ \b\b| \b\b/ \b\b- \b\b\\ \b\b| \b\b/ \b\b- \b\b\\ \b\b| \b\b/ \b\b- \b\b\\ \b\b| \b\b/ \b\b- \b\b\\ \b\b| \b\b/ \b\b- \b\b\\ \b\b| \b\b/ \b\bdone\n",
            "Executing transaction: \\ \b\b| \b\b/ \b\b- \b\b\\ \b\b| \b\b/ \b\b- \b\b\\ \b\b| \b\b/ \b\b- \b\b\\ \b\b| \b\b/ \b\b- \b\b\\ \b\b| \b\b/ \b\b- \b\b\\ \b\b| \b\b/ \b\b- \b\b\\ \b\b| \b\b/ \b\b- \b\b\\ \b\b| \b\b/ \b\b- \b\b\\ \b\b| \b\b/ \b\b- \b\b\\ \b\b| \b\b/ \b\b- \b\b\\ \b\b| \b\b/ \b\b- \b\b\\ \b\b| \b\b/ \b\b- \b\b\\ \b\b| \b\b/ \b\b- \b\b\\ \b\b| \b\b/ \b\b- \b\b\\ \b\b| \b\b/ \b\b- \b\b\\ \b\b| \b\b/ \b\b- \b\b\\ \b\b| \b\b/ \b\b- \b\b\\ \b\b| \b\b/ \b\b- \b\b\\ \b\b| \b\b/ \b\b- \b\b\\ \b\b| \b\b/ \b\bdone\n",
            "#\n",
            "# To activate this environment, use\n",
            "#\n",
            "#     $ conda activate lab\n",
            "#\n",
            "# To deactivate an active environment, use\n",
            "#\n",
            "#     $ conda deactivate\n",
            "\n",
            "Activated conda environment `lab'!\n"
          ]
        }
      ]
    },
    {
      "cell_type": "markdown",
      "metadata": {
        "id": "BnS18ErRPfS2"
      },
      "source": [
        "지난 과제 때 받았던 시퀀싱 데이터 (binfo1-datapack1.tar)를 사용. 혹시 모르니 파일 위치 확인 및 MD5 체크섬 다시 확인.\n",
        "\n",
        "```\n",
        "140aaf30bcb9276cc716f8699f04ddd6  CLIP-35L33G.bam\n",
        "f1b3336ed7e2f97d562dcc71641251bd  CLIP-35L33G.bam.bai\n",
        "328883a73d507eafbf5b60bd6b906201  RNA-control.bam\n",
        "02073818e2f398a73c3b76e5169de1ca  RNA-control.bam.bai\n",
        "b09550d09d6c2a4ce27f0226f426fdb1  RNA-siLin28a.bam\n",
        "fef112c727244060ea62d3f2564a07f6  RNA-siLin28a.bam.bai\n",
        "28bbd0c47d725669340c784f1b772c01  RNA-siLuc.bam\n",
        "43590fdc4d81905c0432e0d1cb8cfd5b  RNA-siLuc.bam.bai\n",
        "5c08a9297307bc83259e658c4474f0cc  RPF-siLin28a.bam\n",
        "a1bb3e29be412dfd7fd8d16b1b1acc4c  RPF-siLin28a.bam.bai\n",
        "f2eebf50943024d0116c9cd3e744c707  RPF-siLuc.bam\n",
        "dc24f69e8f571fc8be30f28ce5b84fcd  RPF-siLuc.bam.bai\n",
        "```"
      ]
    },
    {
      "cell_type": "code",
      "metadata": {
        "id": "6wOX9pzSPfS2",
        "colab": {
          "base_uri": "https://localhost:8080/"
        },
        "outputId": "529e7260-e5f8-428e-a4a2-1a015ae6b525"
      },
      "source": [
        "!md5sum drive/MyDrive/binfo1-datapack1/*"
      ],
      "execution_count": null,
      "outputs": [
        {
          "output_type": "stream",
          "name": "stdout",
          "text": [
            "140aaf30bcb9276cc716f8699f04ddd6  drive/MyDrive/binfo1-datapack1/CLIP-35L33G.bam\n",
            "f1b3336ed7e2f97d562dcc71641251bd  drive/MyDrive/binfo1-datapack1/CLIP-35L33G.bam.bai\n",
            "9f43477870337dfddbc154809a2a3ec8  drive/MyDrive/binfo1-datapack1/CLIP-let7d.bam\n",
            "8f0013aa795510f597e241c1b69e6341  drive/MyDrive/binfo1-datapack1/CLIP-let7d-gene.pileup\n",
            "8f0013aa795510f597e241c1b69e6341  drive/MyDrive/binfo1-datapack1/CLIP-let7d.pileup\n",
            "d5d8996d383d994fe1916bf239f91964  drive/MyDrive/binfo1-datapack1/CLIP-let7f-1.bam\n",
            "1c34f27bcc5f407e54d8112938bc9d2c  drive/MyDrive/binfo1-datapack1/CLIP-let7f-1-gene.pileup\n",
            "9b172b22ce452b8f7ef1b02dcf61516b  drive/MyDrive/binfo1-datapack1/CLIP-let7f-1.pileup\n",
            "0d33bf4b3a5ce22ba13a62323efd6883  drive/MyDrive/binfo1-datapack1/CLIP-let7g.bam\n",
            "4ea14471c5d4bf9ab1fd91b9a5b2193c  drive/MyDrive/binfo1-datapack1/CLIP-let7g-gene.pileup\n",
            "a53f66a5575d4ac2d3b4c44af576d44d  drive/MyDrive/binfo1-datapack1/CLIP-let7g.pileup\n",
            "md5sum: drive/MyDrive/binfo1-datapack1/colab-biolab: Is a directory\n",
            "md5sum: drive/MyDrive/binfo1-datapack1/entropy: Is a directory\n",
            "d477bd9acca237bbc6e0fbd81cdc6c0b  drive/MyDrive/binfo1-datapack1/filtered-RPF-siLuc.bam\n",
            "2b5021d2ac3d4830fd963d950a2dc0b8  drive/MyDrive/binfo1-datapack1/fivepcounts-filtered-RPF-siLuc.txt\n",
            "7211785786bc63bf95a5bb678cad71c1  drive/MyDrive/binfo1-datapack1/fivepcounts-RPF-siLuc.bed\n",
            "ed47186ee44654792a8a130c695f3a22  drive/MyDrive/binfo1-datapack1/gencode-exons-containing-startcodon.bed\n",
            "d54d428f5872030c4ffc43058709b896  drive/MyDrive/binfo1-datapack1/gencode.gtf\n",
            "3469e3e3e018302c5488adc052fd1e21  drive/MyDrive/binfo1-datapack1/gencode-plusexon.gtf\n",
            "b1c38579a9e8e0313c1508f02ce0afaf  drive/MyDrive/binfo1-datapack1/gencode-start.gtf\n",
            "f4e4f2f20c09407e54c107c8da04c32d  drive/MyDrive/binfo1-datapack1/Mirlet7d.txt\n",
            "23eaf27b26fc5f8fc71918c47e9cf135  drive/MyDrive/binfo1-datapack1/Mirlet7f-1.txt\n",
            "d750576628764d5b75aa10abb6a04d99  drive/MyDrive/binfo1-datapack1/Mirlet7g.txt\n",
            "f691d94ca9c72e6feedbfe4561dd5b83  drive/MyDrive/binfo1-datapack1/read-counts.txt\n",
            "7c9528c08ed2f1ae6e2de599db1aa8fb  drive/MyDrive/binfo1-datapack1/read-counts.txt.summary\n",
            "328883a73d507eafbf5b60bd6b906201  drive/MyDrive/binfo1-datapack1/RNA-control.bam\n",
            "02073818e2f398a73c3b76e5169de1ca  drive/MyDrive/binfo1-datapack1/RNA-control.bam.bai\n",
            "b09550d09d6c2a4ce27f0226f426fdb1  drive/MyDrive/binfo1-datapack1/RNA-siLin28a.bam\n",
            "fef112c727244060ea62d3f2564a07f6  drive/MyDrive/binfo1-datapack1/RNA-siLin28a.bam.bai\n",
            "28bbd0c47d725669340c784f1b772c01  drive/MyDrive/binfo1-datapack1/RNA-siLuc.bam\n",
            "43590fdc4d81905c0432e0d1cb8cfd5b  drive/MyDrive/binfo1-datapack1/RNA-siLuc.bam.bai\n",
            "5c08a9297307bc83259e658c4474f0cc  drive/MyDrive/binfo1-datapack1/RPF-siLin28a.bam\n",
            "a1bb3e29be412dfd7fd8d16b1b1acc4c  drive/MyDrive/binfo1-datapack1/RPF-siLin28a.bam.bai\n",
            "f2eebf50943024d0116c9cd3e744c707  drive/MyDrive/binfo1-datapack1/RPF-siLuc.bam\n",
            "dc24f69e8f571fc8be30f28ce5b84fcd  drive/MyDrive/binfo1-datapack1/RPF-siLuc.bam.bai\n",
            "d750576628764d5b75aa10abb6a04d99  drive/MyDrive/binfo1-datapack1/test2.bam\n",
            "d750576628764d5b75aa10abb6a04d99  drive/MyDrive/binfo1-datapack1/test.txt\n"
          ]
        }
      ]
    },
    {
      "cell_type": "markdown",
      "metadata": {
        "id": "ecEA1PPQUlIK"
      },
      "source": [
        "실습에 필요한 프로그램들 몇 가지를 추가로 설치."
      ]
    },
    {
      "cell_type": "code",
      "metadata": {
        "id": "neteyWsWEKBy",
        "colab": {
          "base_uri": "https://localhost:8080/"
        },
        "outputId": "398568af-7c3b-4a8c-eccf-a69b928b3ebc"
      },
      "source": [
        "!conda install -y bedtools bioawk"
      ],
      "execution_count": 3,
      "outputs": [
        {
          "output_type": "stream",
          "name": "stdout",
          "text": [
            "Collecting package metadata (current_repodata.json): - \b\b\\ \b\b| \b\b/ \b\b- \b\b\\ \b\b| \b\b/ \b\b- \b\b\\ \b\b| \b\b/ \b\b- \b\b\\ \b\b| \b\b/ \b\b- \b\b\\ \b\b| \b\b/ \b\b- \b\b\\ \b\b| \b\b/ \b\b- \b\b\\ \b\b| \b\b/ \b\b- \b\bdone\n",
            "Solving environment: | \b\b/ \b\b- \b\b\\ \b\b| \b\b/ \b\b- \b\b\\ \b\b| \b\b/ \b\b- \b\b\\ \b\b| \b\b/ \b\b- \b\b\\ \b\b| \b\b/ \b\b- \b\b\\ \b\b| \b\b/ \b\b- \b\b\\ \b\b| \b\b/ \b\b- \b\b\\ \b\b| \b\b/ \b\b- \b\b\\ \b\b| \b\bdone\n",
            "\n",
            "\n",
            "==> WARNING: A newer version of conda exists. <==\n",
            "  current version: 4.12.0\n",
            "  latest version: 4.13.0\n",
            "\n",
            "Please update conda by running\n",
            "\n",
            "    $ conda update -n base -c defaults conda\n",
            "\n",
            "\n",
            "\n",
            "## Package Plan ##\n",
            "\n",
            "  environment location: /root/conda/envs/lab\n",
            "\n",
            "  added / updated specs:\n",
            "    - bedtools\n",
            "    - bioawk\n",
            "\n",
            "\n",
            "The following packages will be downloaded:\n",
            "\n",
            "    package                    |            build\n",
            "    ---------------------------|-----------------\n",
            "    bioawk-1.0                 |       h7132678_7         196 KB  bioconda\n",
            "    ------------------------------------------------------------\n",
            "                                           Total:         196 KB\n",
            "\n",
            "The following NEW packages will be INSTALLED:\n",
            "\n",
            "  bioawk             bioconda/linux-64::bioawk-1.0-h7132678_7\n",
            "\n",
            "\n",
            "\n",
            "Downloading and Extracting Packages\n",
            "bioawk-1.0           | 196 KB    | : 100% 1.0/1 [00:00<00:00,  6.42it/s]                \n",
            "Preparing transaction: - \b\bdone\n",
            "Verifying transaction: | \b\bdone\n",
            "Executing transaction: - \b\bdone\n"
          ]
        }
      ]
    },
    {
      "cell_type": "markdown",
      "metadata": {
        "id": "Oe_54MZrEi4y"
      },
      "source": [
        "## Fig S2A 재현해보기 - error가 많이 나오는 부분의 unique sequence들의 각각 개수를 세서 genome browser로 표현하고, 점수 트랙을 같이 표시하기\n",
        "\n",
        "참고 논문 ([LIN28A Is a Suppressor of ER-Associated Translation in Embryonic Stem Cells](https://www.cell.com/cell/fulltext/S0092-8674(12)01234-2?_returnURL=https%3A%2F%2Flinkinghub.elsevier.com%2Fretrieve%2Fpii%2FS0092867412012342%3Fshowall%3Dtrue))의 Fig S2A처럼, 오류율을 분석해서 단백질이 앉아 있었던 자리를 분석.\n",
        "\n",
        "--------------------------------\n",
        "\n",
        "데이터는 지난 번과 동일하기 때문에, 미리 다운받은 데이터를 사용. "
      ]
    },
    {
      "cell_type": "code",
      "metadata": {
        "id": "IANz6DmLUkA6",
        "colab": {
          "base_uri": "https://localhost:8080/"
        },
        "outputId": "edff19ea-a060-4671-ed9b-67ef1d3a2170"
      },
      "source": [
        "%cd /content/drive/MyDrive/binfo1-datapack1/"
      ],
      "execution_count": 4,
      "outputs": [
        {
          "output_type": "stream",
          "name": "stdout",
          "text": [
            "/content/drive/MyDrive/binfo1-datapack1\n"
          ]
        }
      ]
    },
    {
      "cell_type": "markdown",
      "metadata": {
        "id": "CMMDdHgyJAB1"
      },
      "source": [
        "Mirlet7d 부분을 레퍼런스 mm9 기준으로 솎아냄"
      ]
    },
    {
      "cell_type": "code",
      "metadata": {
        "id": "sumX23OcI_fl",
        "colab": {
          "base_uri": "https://localhost:8080/"
        },
        "outputId": "3e1b4399-e08c-4b62-858b-6351861fed8d"
      },
      "source": [
        "!grep -i mirlet7d gencode.gtf"
      ],
      "execution_count": null,
      "outputs": [
        {
          "output_type": "stream",
          "name": "stdout",
          "text": [
            "chr13\tENSEMBL\tgene\t48689488\t48689590\t.\t-\t.\tgene_id \"ENSMUSG00000065453.3\"; gene_type \"miRNA\"; gene_name \"Mirlet7d\"; level 3; mgi_id \"MGI:2676796\";\n",
            "chr13\tENSEMBL\ttranscript\t48689488\t48689590\t.\t-\t.\tgene_id \"ENSMUSG00000065453.3\"; transcript_id \"ENSMUST00000083519.3\"; gene_type \"miRNA\"; gene_name \"Mirlet7d\"; transcript_type \"miRNA\"; transcript_name \"Mirlet7d-201\"; level 3; transcript_support_level \"NA\"; mgi_id \"MGI:2676796\"; tag \"basic\";\n",
            "chr13\tENSEMBL\texon\t48689488\t48689590\t.\t-\t.\tgene_id \"ENSMUSG00000065453.3\"; transcript_id \"ENSMUST00000083519.3\"; gene_type \"miRNA\"; gene_name \"Mirlet7d\"; transcript_type \"miRNA\"; transcript_name \"Mirlet7d-201\"; exon_number 1; exon_id \"ENSMUSE00000522678.2\"; level 3; transcript_support_level \"NA\"; mgi_id \"MGI:2676796\"; tag \"basic\";\n"
          ]
        }
      ]
    },
    {
      "cell_type": "markdown",
      "metadata": {
        "id": "iB_C8P1fJkNE"
      },
      "source": [
        ":위의 결과를 반영하여 chromosome number와 범위를 수정."
      ]
    },
    {
      "cell_type": "code",
      "metadata": {
        "id": "opqsj9vNIL-z",
        "colab": {
          "base_uri": "https://localhost:8080/"
        },
        "outputId": "805b5100-a6ec-45fd-8688-b30910d592b5"
      },
      "source": [
        "!samtools view -b -o CLIP-let7d.bam CLIP-35L33G.bam chr13:48689488-48689590\n",
        "!samtools view CLIP-let7d.bam | wc -l"
      ],
      "execution_count": null,
      "outputs": [
        {
          "output_type": "stream",
          "name": "stdout",
          "text": [
            "187\n"
          ]
        }
      ]
    },
    {
      "cell_type": "markdown",
      "source": [
        "Fig S2A를 재현해야 하기 때문에, \n",
        "1. 솎아낸 CLIP-let7d.bam 안의 read alignments들을 [UCSC Genome Browser](http://genome.ucsc.edu/cgi-bin/hgTracks?db=mm39&lastVirtModeType=default&lastVirtModeExtraState=&virtModeType=default&virtMode=0&nonVirtPosition=&position=chr9%3A106056039-106056126)에 submit하여 병렬로 비교해야 하고,\n",
        "2. base별 Shannon entropy를 계산해야 함."
      ],
      "metadata": {
        "id": "xzYEbLAO76tP"
      }
    },
    {
      "cell_type": "markdown",
      "source": [
        "##1. CLIP-let7d.bam 안의 read alignments들을 [UCSC Genome Browser](http://genome.ucsc.edu/cgi-bin/hgTracks?db=mm39&lastVirtModeType=default&lastVirtModeExtraState=&virtModeType=default&virtMode=0&nonVirtPosition=&position=chr9%3A106056039-106056126)에 submit"
      ],
      "metadata": {
        "id": "s5zikhH_8s1H"
      }
    },
    {
      "cell_type": "markdown",
      "source": [
        "UCSC Genome Browser에서 bam 파일을 직접 custom track으로 submit할 순 없음. 따라서:\n",
        "\n",
        "- samtools를 이용해 bam file을 sort하고 index file (bam.bai) 생성\n",
        "- Hosting server에 올림\n",
        "- [BAM Track Format](https://genomequebec.mcgill.ca/compgen/browser-VPR/goldenPath/help/bam.html) 페이지의 안내에 따라 submit"
      ],
      "metadata": {
        "id": "Hq-SHdVw81X3"
      }
    },
    {
      "cell_type": "markdown",
      "source": [
        "우선 samtools를 이용해 bam file을 sort하고 index file (bam.bai) 생성."
      ],
      "metadata": {
        "id": "0SaektqA9hmq"
      }
    },
    {
      "cell_type": "code",
      "source": [
        "!samtools sort CLIP-let7d.bam -o CLIP-let7d_sorted.bam"
      ],
      "metadata": {
        "id": "Q95L8h7OGu1i"
      },
      "execution_count": 6,
      "outputs": []
    },
    {
      "cell_type": "code",
      "source": [
        "!samtools index CLIP-let7d_sorted.bam"
      ],
      "metadata": {
        "id": "VMIB8jD9HbwR"
      },
      "execution_count": 7,
      "outputs": []
    },
    {
      "cell_type": "markdown",
      "source": [
        "Hosting server는 Github를 이용할 수도 있으나, 편의를 위해 [CyVerse](http://www.cyverse.org/)에 가입하여 [Discovery Environment](https://de.cyverse.org/)에 파일을 업로드한 뒤 호스팅."
      ],
      "metadata": {
        "id": "mU9NFJ0I9n9N"
      }
    },
    {
      "cell_type": "markdown",
      "source": [
        "[BAM Track Format](https://genomequebec.mcgill.ca/compgen/browser-VPR/goldenPath/help/bam.html) 페이지의 안내에 따라 submit한 후, read alignment가 나오는 것을 확인."
      ],
      "metadata": {
        "id": "TWaG2bBn-aUM"
      }
    },
    {
      "cell_type": "markdown",
      "source": [
        "##2. Base별 Shannon entropy를 계산"
      ],
      "metadata": {
        "id": "uMLwRXGX-3fV"
      }
    },
    {
      "cell_type": "markdown",
      "source": [
        "각 자리에 mapping된 read들의 분포를 요약하기 위해 samtools mpileup을 이용."
      ],
      "metadata": {
        "id": "hDyYT4mV25A5"
      }
    },
    {
      "cell_type": "code",
      "source": [
        "!samtools mpileup CLIP-let7d.bam > CLIP-let7d.pileup\n",
        "!wc -l CLIP-let7d.pileup"
      ],
      "metadata": {
        "colab": {
          "base_uri": "https://localhost:8080/"
        },
        "id": "hhDnXlS520Aq",
        "outputId": "7e78ab23-92ab-4445-8c7c-6004036f8995"
      },
      "execution_count": null,
      "outputs": [
        {
          "output_type": "stream",
          "name": "stdout",
          "text": [
            "[mpileup] 1 samples in 1 input files\n",
            "87 CLIP-let7d.pileup\n"
          ]
        }
      ]
    },
    {
      "cell_type": "code",
      "metadata": {
        "id": "1WulVeZqIL5W",
        "colab": {
          "base_uri": "https://localhost:8080/"
        },
        "outputId": "f620d0b5-3faf-4fff-f0c6-69e11ba16cfa"
      },
      "source": [
        "!head CLIP-let7d.pileup"
      ],
      "execution_count": null,
      "outputs": [
        {
          "output_type": "stream",
          "name": "stdout",
          "text": [
            "chr13\t48689488\tN\t24\t^Ga^Ia^Ha^Ia^Ha^Ia^Ia^Ia^Ga^Ia^Ia^Ia^Ia^Ia^Ha^Ia^Ga^Ga^Ga^Ia^Ea^Da^Ha^Ga\tBIHGGIHIEIIIGIHIGEGH5BDD\n",
            "chr13\t48689489\tN\t53\taaaaaaaaaaaaaaaaaaaaaaaaa^Ia^Ha^Ia^Ga^Ga^Ha^Ia^Ia^Ga^Ga^Ia^Ia^Ha^Ia^Ia^Ha^Ha^Da^Ia^Ha^Ia^Ia^Ia^Ia^Ia^Ha^Ga^Ga\tGIHIGIIIEIIIIIHIG>EB4@5HDIHIBEGIID?IIGII@H>IGHIIIGHDC\n",
            "chr13\t48689490\tN\t69\tttttttttttttttttttttttttttttttttttttttttttttttttttttt^Gt^Gt^Ht^Gt^It^It^Ht^It^Gt^Gt^Ht^It^It^It^Ht^It\tGIHIGHIFFIIIIIFHGEDG;2>FDIHIDGBIIDBIIDIIAH>IBGIIIGHBG=BG=IIGIDGHFIIHI\n",
            "chr13\t48689491\tN\t105\taaaaaaaaaaaaaaaaaaaaaaaaaaaaaaaaaaaaaaaaaaaaaaaaaaaaaaaaaaaaaaaaaaaaa^Ia^Ia^Ha^Ga^Ia^Ga^Ia^Ga^Ha^Ha^Ha^Ga^Ia^Ha^Ha^Ia^@a^Ia^Ia^Ia^Ga^Ha^Ha^Ga^Ha^Ga^Ia^Ha^Ga^Ia^Ga^Ha^Ga^Ia^Ia^Ga\tEIGHEHHIEIIIIIHIGCBH:?>HGGHI>GBIIGBIIGIHBB;IHIIIIGHDC3=G:IGGIDEHIFIGHII=GIDHEGHHEIGGI7III9=HGBAIGBIGFG>I2\n",
            "chr13\t48689492\tN\t105\taaaaaaaaaaaaaaaaaaaaaaaaaaaaaaaaaaaaaaaaaaaaaaaaaaaaaaaaaaaaaaaaaaaaaaaaaaaaaaaaaaaaaaaaaaaaaaaaaaaaaaaaa\tGIGIEIEI7IIIGIGIG;?F:D@G7GHIAGAIIG3IIGIHDB2IHIIIIDDGC1<GCIIHIGCHIIIEIIIGCIBIEGHH?HHFI9IIIA=GGB?IEGIFEGGIA\n",
            "chr13\t48689493\tN\t105\tggggggggggggggggggggggggggggggggggggggggggggggggggggggggggggggggggggggggggggggggggggggggggggggggggggggggg\tBIEIGHGI7IHHGIGHG=?F58>E5EHIAGAHIDAHIGII:EDHHIHIIGG>>5EDAIIFFGDHIIHGIII8EIDIBBHHBIGHI7HII?=GGBEIG>HFEGGIA\n",
            "chr13\t48689494\tN\t105\tggggggggggggggggggggggggggggggggggggggggggggggggggggggggggggggggggggggggggggggggggggggggggggggggggggggggg\tFIFEGIFE3HFIGIGHG=?D1?@D5EHIAEADIBFIIGHIBD<IHDGIIGBD>03GEEIHF@DHIIIDIIHEAIDIC>HHBHFDI9FIIE=GGBAIGEFEEGIIA\n",
            "chr13\t48689495\tN\t104\tcccccccccccccccccccccccccccccccccccccccccccccccccccccccccccccccccccccccccccccccccccccccccccccccccccccccc\tGID>GHEG.HIHGH>IG2;B;?>E0BCI8G?FGA?HH@HIB?DHBIIIHGBG90BAEIEF8CEDIHGIIHGAI?I3BGH;HHHE7IIIA=GG:?IFEBF2GBI;\n",
            "chr13\t48689496\tN\t102\tcccccccccccccccccccccccccccccccccccccccccccccccccccccccccccccccccccccccccccccccccccccccccccccccccccccc\tFI8EEGEI.GEB<ID>G38B19>BFFI<D<FGAEFIGDFB@@CH>EHH8B7>BDCEEEBBCHBGEEFHIG?I;IG@HH2EEGI9IIIA>;<@IE<E:CDIG<\n",
            "chr13\t48689497\tN\t104\tcccccccccccccccccccccccccccccccccccccccccccccccccccccccccccccccccccccccccccccccccccccccccccccccccccccccc\tDIHFBIFG.HIIFIGIB3;B993E:IGHAGDIDC3IIHDIBDHBIIIII>;58?A>IIEHBAHBHIGHIEFBI0BG<HHEEGDG.III?7H?>3IE<H8EDGG?\n"
          ]
        }
      ]
    },
    {
      "cell_type": "code",
      "metadata": {
        "id": "GUdB31wAIL0K",
        "colab": {
          "base_uri": "https://localhost:8080/"
        },
        "outputId": "ac8e21e1-0a3f-4e1d-b6f4-4e481a4dcd00"
      },
      "source": [
        "!awk '$2 >= 48689488 && $2 <= 48689590 { print $0; }' CLIP-let7d.pileup > CLIP-let7d-gene.pileup\n",
        "!tail CLIP-let7d-gene.pileup"
      ],
      "execution_count": null,
      "outputs": [
        {
          "output_type": "stream",
          "name": "stdout",
          "text": [
            "chr13\t48689565\tN\t6\tcccccc\t>IGIIH\n",
            "chr13\t48689566\tN\t6\ttttttt\t:IGFIH\n",
            "chr13\t48689567\tN\t6\taaaaaa\t8IFIFI\n",
            "chr13\t48689568\tN\t6\tcccccc\t?IGIII\n",
            "chr13\t48689569\tN\t6\ttttttt\t;IGIII\n",
            "chr13\t48689570\tN\t5\taaaaa\tEDECD\n",
            "chr13\t48689571\tN\t6\tcccccc\t:GGIGG\n",
            "chr13\t48689572\tN\t6\tcccccc\t:GGIGG\n",
            "chr13\t48689573\tN\t6\ttttttt\t5GGIGG\n",
            "chr13\t48689574\tN\t6\tc$c$c$c$c$c$\t;GGIGG\n"
          ]
        }
      ]
    },
    {
      "cell_type": "code",
      "source": [
        "!ls"
      ],
      "metadata": {
        "colab": {
          "base_uri": "https://localhost:8080/"
        },
        "id": "DIIjGtoKKK9t",
        "outputId": "f7b716fd-7537-4868-d369-3182d54dcf19"
      },
      "execution_count": null,
      "outputs": [
        {
          "output_type": "stream",
          "name": "stdout",
          "text": [
            "CLIP-35L33G.bam\t\t\t\t gencode-start.gtf\n",
            "CLIP-35L33G.bam.bai\t\t\t Mirlet7d.txt\n",
            "CLIP-let7d.bam\t\t\t\t Mirlet7f-1.txt\n",
            "CLIP-let7d-gene.pileup\t\t\t Mirlet7g.txt\n",
            "CLIP-let7d.pileup\t\t\t read-counts.txt\n",
            "CLIP-let7f-1.bam\t\t\t read-counts.txt.summary\n",
            "CLIP-let7f-1-gene.pileup\t\t RNA-control.bam\n",
            "CLIP-let7f-1.pileup\t\t\t RNA-control.bam.bai\n",
            "CLIP-let7g.bam\t\t\t\t RNA-siLin28a.bam\n",
            "CLIP-let7g-gene.pileup\t\t\t RNA-siLin28a.bam.bai\n",
            "CLIP-let7g.pileup\t\t\t RNA-siLuc.bam\n",
            "colab-biolab\t\t\t\t RNA-siLuc.bam.bai\n",
            "entropy\t\t\t\t\t RPF-siLin28a.bam\n",
            "filtered-RPF-siLuc.bam\t\t\t RPF-siLin28a.bam.bai\n",
            "fivepcounts-filtered-RPF-siLuc.txt\t RPF-siLuc.bam\n",
            "fivepcounts-RPF-siLuc.bed\t\t RPF-siLuc.bam.bai\n",
            "gencode-exons-containing-startcodon.bed  test2.bam\n",
            "gencode.gtf\t\t\t\t test.txt\n",
            "gencode-plusexon.gtf\n"
          ]
        }
      ]
    },
    {
      "cell_type": "markdown",
      "metadata": {
        "id": "CNEWC4t_MA__"
      },
      "source": [
        "pandas에 불러와서 분석"
      ]
    },
    {
      "cell_type": "code",
      "metadata": {
        "id": "PWq1ItOxILxa",
        "colab": {
          "base_uri": "https://localhost:8080/",
          "height": 206
        },
        "outputId": "3f0b7d5e-ad44-4101-b98b-b404d9872938"
      },
      "source": [
        "import pandas as pd\n",
        "dpileup = pd.read_csv('CLIP-let7d-gene.pileup', sep='\\t', names=['chrom', 'pos', '_ref', 'count', 'basereads', 'quals'])\n",
        "dpileup.tail()"
      ],
      "execution_count": null,
      "outputs": [
        {
          "output_type": "execute_result",
          "data": {
            "text/plain": [
              "    chrom       pos _ref  count     basereads   quals\n",
              "82  chr13  48689570    N      5         aaaaa   EDECD\n",
              "83  chr13  48689571    N      6        cccccc  :GGIGG\n",
              "84  chr13  48689572    N      6        cccccc  :GGIGG\n",
              "85  chr13  48689573    N      6        tttttt  5GGIGG\n",
              "86  chr13  48689574    N      6  c$c$c$c$c$c$  ;GGIGG"
            ],
            "text/html": [
              "\n",
              "  <div id=\"df-90bea257-b051-40fa-9024-7d7bec33666b\">\n",
              "    <div class=\"colab-df-container\">\n",
              "      <div>\n",
              "<style scoped>\n",
              "    .dataframe tbody tr th:only-of-type {\n",
              "        vertical-align: middle;\n",
              "    }\n",
              "\n",
              "    .dataframe tbody tr th {\n",
              "        vertical-align: top;\n",
              "    }\n",
              "\n",
              "    .dataframe thead th {\n",
              "        text-align: right;\n",
              "    }\n",
              "</style>\n",
              "<table border=\"1\" class=\"dataframe\">\n",
              "  <thead>\n",
              "    <tr style=\"text-align: right;\">\n",
              "      <th></th>\n",
              "      <th>chrom</th>\n",
              "      <th>pos</th>\n",
              "      <th>_ref</th>\n",
              "      <th>count</th>\n",
              "      <th>basereads</th>\n",
              "      <th>quals</th>\n",
              "    </tr>\n",
              "  </thead>\n",
              "  <tbody>\n",
              "    <tr>\n",
              "      <th>82</th>\n",
              "      <td>chr13</td>\n",
              "      <td>48689570</td>\n",
              "      <td>N</td>\n",
              "      <td>5</td>\n",
              "      <td>aaaaa</td>\n",
              "      <td>EDECD</td>\n",
              "    </tr>\n",
              "    <tr>\n",
              "      <th>83</th>\n",
              "      <td>chr13</td>\n",
              "      <td>48689571</td>\n",
              "      <td>N</td>\n",
              "      <td>6</td>\n",
              "      <td>cccccc</td>\n",
              "      <td>:GGIGG</td>\n",
              "    </tr>\n",
              "    <tr>\n",
              "      <th>84</th>\n",
              "      <td>chr13</td>\n",
              "      <td>48689572</td>\n",
              "      <td>N</td>\n",
              "      <td>6</td>\n",
              "      <td>cccccc</td>\n",
              "      <td>:GGIGG</td>\n",
              "    </tr>\n",
              "    <tr>\n",
              "      <th>85</th>\n",
              "      <td>chr13</td>\n",
              "      <td>48689573</td>\n",
              "      <td>N</td>\n",
              "      <td>6</td>\n",
              "      <td>tttttt</td>\n",
              "      <td>5GGIGG</td>\n",
              "    </tr>\n",
              "    <tr>\n",
              "      <th>86</th>\n",
              "      <td>chr13</td>\n",
              "      <td>48689574</td>\n",
              "      <td>N</td>\n",
              "      <td>6</td>\n",
              "      <td>c$c$c$c$c$c$</td>\n",
              "      <td>;GGIGG</td>\n",
              "    </tr>\n",
              "  </tbody>\n",
              "</table>\n",
              "</div>\n",
              "      <button class=\"colab-df-convert\" onclick=\"convertToInteractive('df-90bea257-b051-40fa-9024-7d7bec33666b')\"\n",
              "              title=\"Convert this dataframe to an interactive table.\"\n",
              "              style=\"display:none;\">\n",
              "        \n",
              "  <svg xmlns=\"http://www.w3.org/2000/svg\" height=\"24px\"viewBox=\"0 0 24 24\"\n",
              "       width=\"24px\">\n",
              "    <path d=\"M0 0h24v24H0V0z\" fill=\"none\"/>\n",
              "    <path d=\"M18.56 5.44l.94 2.06.94-2.06 2.06-.94-2.06-.94-.94-2.06-.94 2.06-2.06.94zm-11 1L8.5 8.5l.94-2.06 2.06-.94-2.06-.94L8.5 2.5l-.94 2.06-2.06.94zm10 10l.94 2.06.94-2.06 2.06-.94-2.06-.94-.94-2.06-.94 2.06-2.06.94z\"/><path d=\"M17.41 7.96l-1.37-1.37c-.4-.4-.92-.59-1.43-.59-.52 0-1.04.2-1.43.59L10.3 9.45l-7.72 7.72c-.78.78-.78 2.05 0 2.83L4 21.41c.39.39.9.59 1.41.59.51 0 1.02-.2 1.41-.59l7.78-7.78 2.81-2.81c.8-.78.8-2.07 0-2.86zM5.41 20L4 18.59l7.72-7.72 1.47 1.35L5.41 20z\"/>\n",
              "  </svg>\n",
              "      </button>\n",
              "      \n",
              "  <style>\n",
              "    .colab-df-container {\n",
              "      display:flex;\n",
              "      flex-wrap:wrap;\n",
              "      gap: 12px;\n",
              "    }\n",
              "\n",
              "    .colab-df-convert {\n",
              "      background-color: #E8F0FE;\n",
              "      border: none;\n",
              "      border-radius: 50%;\n",
              "      cursor: pointer;\n",
              "      display: none;\n",
              "      fill: #1967D2;\n",
              "      height: 32px;\n",
              "      padding: 0 0 0 0;\n",
              "      width: 32px;\n",
              "    }\n",
              "\n",
              "    .colab-df-convert:hover {\n",
              "      background-color: #E2EBFA;\n",
              "      box-shadow: 0px 1px 2px rgba(60, 64, 67, 0.3), 0px 1px 3px 1px rgba(60, 64, 67, 0.15);\n",
              "      fill: #174EA6;\n",
              "    }\n",
              "\n",
              "    [theme=dark] .colab-df-convert {\n",
              "      background-color: #3B4455;\n",
              "      fill: #D2E3FC;\n",
              "    }\n",
              "\n",
              "    [theme=dark] .colab-df-convert:hover {\n",
              "      background-color: #434B5C;\n",
              "      box-shadow: 0px 1px 3px 1px rgba(0, 0, 0, 0.15);\n",
              "      filter: drop-shadow(0px 1px 2px rgba(0, 0, 0, 0.3));\n",
              "      fill: #FFFFFF;\n",
              "    }\n",
              "  </style>\n",
              "\n",
              "      <script>\n",
              "        const buttonEl =\n",
              "          document.querySelector('#df-90bea257-b051-40fa-9024-7d7bec33666b button.colab-df-convert');\n",
              "        buttonEl.style.display =\n",
              "          google.colab.kernel.accessAllowed ? 'block' : 'none';\n",
              "\n",
              "        async function convertToInteractive(key) {\n",
              "          const element = document.querySelector('#df-90bea257-b051-40fa-9024-7d7bec33666b');\n",
              "          const dataTable =\n",
              "            await google.colab.kernel.invokeFunction('convertToInteractive',\n",
              "                                                     [key], {});\n",
              "          if (!dataTable) return;\n",
              "\n",
              "          const docLinkHtml = 'Like what you see? Visit the ' +\n",
              "            '<a target=\"_blank\" href=https://colab.research.google.com/notebooks/data_table.ipynb>data table notebook</a>'\n",
              "            + ' to learn more about interactive tables.';\n",
              "          element.innerHTML = '';\n",
              "          dataTable['output_type'] = 'display_data';\n",
              "          await google.colab.output.renderOutput(dataTable, element);\n",
              "          const docLink = document.createElement('div');\n",
              "          docLink.innerHTML = docLinkHtml;\n",
              "          element.appendChild(docLink);\n",
              "        }\n",
              "      </script>\n",
              "    </div>\n",
              "  </div>\n",
              "  "
            ]
          },
          "metadata": {},
          "execution_count": 47
        }
      ]
    },
    {
      "cell_type": "markdown",
      "metadata": {
        "id": "DOM-v48vMTQ-"
      },
      "source": [
        "위에서 구한 pileup에서 match와 substitution 이용"
      ]
    },
    {
      "cell_type": "code",
      "metadata": {
        "id": "qm25CsvBILug"
      },
      "source": [
        "import re\n",
        "toremove = re.compile('[<>$*#^]')\n",
        "dpileup['matches'] = dpileup['basereads'].apply(lambda x: toremove.sub('', x))"
      ],
      "execution_count": null,
      "outputs": []
    },
    {
      "cell_type": "code",
      "metadata": {
        "id": "uXYF___MILrK",
        "colab": {
          "base_uri": "https://localhost:8080/",
          "height": 424
        },
        "outputId": "e3565309-3bbe-410a-83a0-bcb9395c32aa"
      },
      "source": [
        "dpileup[['chrom', 'pos', 'matches']]"
      ],
      "execution_count": null,
      "outputs": [
        {
          "output_type": "execute_result",
          "data": {
            "text/plain": [
              "    chrom       pos                                            matches\n",
              "0   chr13  48689488   GaIaHaIaHaIaIaIaGaIaIaIaIaIaHaIaGaGaGaIaEaDaHaGa\n",
              "1   chr13  48689489  aaaaaaaaaaaaaaaaaaaaaaaaaIaHaIaGaGaHaIaIaGaGaI...\n",
              "2   chr13  48689490  tttttttttttttttttttttttttttttttttttttttttttttt...\n",
              "3   chr13  48689491  aaaaaaaaaaaaaaaaaaaaaaaaaaaaaaaaaaaaaaaaaaaaaa...\n",
              "4   chr13  48689492  aaaaaaaaaaaaaaaaaaaaaaaaaaaaaaaaaaaaaaaaaaaaaa...\n",
              "..    ...       ...                                                ...\n",
              "82  chr13  48689570                                              aaaaa\n",
              "83  chr13  48689571                                             cccccc\n",
              "84  chr13  48689572                                             cccccc\n",
              "85  chr13  48689573                                             tttttt\n",
              "86  chr13  48689574                                             cccccc\n",
              "\n",
              "[87 rows x 3 columns]"
            ],
            "text/html": [
              "\n",
              "  <div id=\"df-f61f9eb7-003a-4f84-8edc-57745c8f9699\">\n",
              "    <div class=\"colab-df-container\">\n",
              "      <div>\n",
              "<style scoped>\n",
              "    .dataframe tbody tr th:only-of-type {\n",
              "        vertical-align: middle;\n",
              "    }\n",
              "\n",
              "    .dataframe tbody tr th {\n",
              "        vertical-align: top;\n",
              "    }\n",
              "\n",
              "    .dataframe thead th {\n",
              "        text-align: right;\n",
              "    }\n",
              "</style>\n",
              "<table border=\"1\" class=\"dataframe\">\n",
              "  <thead>\n",
              "    <tr style=\"text-align: right;\">\n",
              "      <th></th>\n",
              "      <th>chrom</th>\n",
              "      <th>pos</th>\n",
              "      <th>matches</th>\n",
              "    </tr>\n",
              "  </thead>\n",
              "  <tbody>\n",
              "    <tr>\n",
              "      <th>0</th>\n",
              "      <td>chr13</td>\n",
              "      <td>48689488</td>\n",
              "      <td>GaIaHaIaHaIaIaIaGaIaIaIaIaIaHaIaGaGaGaIaEaDaHaGa</td>\n",
              "    </tr>\n",
              "    <tr>\n",
              "      <th>1</th>\n",
              "      <td>chr13</td>\n",
              "      <td>48689489</td>\n",
              "      <td>aaaaaaaaaaaaaaaaaaaaaaaaaIaHaIaGaGaHaIaIaGaGaI...</td>\n",
              "    </tr>\n",
              "    <tr>\n",
              "      <th>2</th>\n",
              "      <td>chr13</td>\n",
              "      <td>48689490</td>\n",
              "      <td>tttttttttttttttttttttttttttttttttttttttttttttt...</td>\n",
              "    </tr>\n",
              "    <tr>\n",
              "      <th>3</th>\n",
              "      <td>chr13</td>\n",
              "      <td>48689491</td>\n",
              "      <td>aaaaaaaaaaaaaaaaaaaaaaaaaaaaaaaaaaaaaaaaaaaaaa...</td>\n",
              "    </tr>\n",
              "    <tr>\n",
              "      <th>4</th>\n",
              "      <td>chr13</td>\n",
              "      <td>48689492</td>\n",
              "      <td>aaaaaaaaaaaaaaaaaaaaaaaaaaaaaaaaaaaaaaaaaaaaaa...</td>\n",
              "    </tr>\n",
              "    <tr>\n",
              "      <th>...</th>\n",
              "      <td>...</td>\n",
              "      <td>...</td>\n",
              "      <td>...</td>\n",
              "    </tr>\n",
              "    <tr>\n",
              "      <th>82</th>\n",
              "      <td>chr13</td>\n",
              "      <td>48689570</td>\n",
              "      <td>aaaaa</td>\n",
              "    </tr>\n",
              "    <tr>\n",
              "      <th>83</th>\n",
              "      <td>chr13</td>\n",
              "      <td>48689571</td>\n",
              "      <td>cccccc</td>\n",
              "    </tr>\n",
              "    <tr>\n",
              "      <th>84</th>\n",
              "      <td>chr13</td>\n",
              "      <td>48689572</td>\n",
              "      <td>cccccc</td>\n",
              "    </tr>\n",
              "    <tr>\n",
              "      <th>85</th>\n",
              "      <td>chr13</td>\n",
              "      <td>48689573</td>\n",
              "      <td>tttttt</td>\n",
              "    </tr>\n",
              "    <tr>\n",
              "      <th>86</th>\n",
              "      <td>chr13</td>\n",
              "      <td>48689574</td>\n",
              "      <td>cccccc</td>\n",
              "    </tr>\n",
              "  </tbody>\n",
              "</table>\n",
              "<p>87 rows × 3 columns</p>\n",
              "</div>\n",
              "      <button class=\"colab-df-convert\" onclick=\"convertToInteractive('df-f61f9eb7-003a-4f84-8edc-57745c8f9699')\"\n",
              "              title=\"Convert this dataframe to an interactive table.\"\n",
              "              style=\"display:none;\">\n",
              "        \n",
              "  <svg xmlns=\"http://www.w3.org/2000/svg\" height=\"24px\"viewBox=\"0 0 24 24\"\n",
              "       width=\"24px\">\n",
              "    <path d=\"M0 0h24v24H0V0z\" fill=\"none\"/>\n",
              "    <path d=\"M18.56 5.44l.94 2.06.94-2.06 2.06-.94-2.06-.94-.94-2.06-.94 2.06-2.06.94zm-11 1L8.5 8.5l.94-2.06 2.06-.94-2.06-.94L8.5 2.5l-.94 2.06-2.06.94zm10 10l.94 2.06.94-2.06 2.06-.94-2.06-.94-.94-2.06-.94 2.06-2.06.94z\"/><path d=\"M17.41 7.96l-1.37-1.37c-.4-.4-.92-.59-1.43-.59-.52 0-1.04.2-1.43.59L10.3 9.45l-7.72 7.72c-.78.78-.78 2.05 0 2.83L4 21.41c.39.39.9.59 1.41.59.51 0 1.02-.2 1.41-.59l7.78-7.78 2.81-2.81c.8-.78.8-2.07 0-2.86zM5.41 20L4 18.59l7.72-7.72 1.47 1.35L5.41 20z\"/>\n",
              "  </svg>\n",
              "      </button>\n",
              "      \n",
              "  <style>\n",
              "    .colab-df-container {\n",
              "      display:flex;\n",
              "      flex-wrap:wrap;\n",
              "      gap: 12px;\n",
              "    }\n",
              "\n",
              "    .colab-df-convert {\n",
              "      background-color: #E8F0FE;\n",
              "      border: none;\n",
              "      border-radius: 50%;\n",
              "      cursor: pointer;\n",
              "      display: none;\n",
              "      fill: #1967D2;\n",
              "      height: 32px;\n",
              "      padding: 0 0 0 0;\n",
              "      width: 32px;\n",
              "    }\n",
              "\n",
              "    .colab-df-convert:hover {\n",
              "      background-color: #E2EBFA;\n",
              "      box-shadow: 0px 1px 2px rgba(60, 64, 67, 0.3), 0px 1px 3px 1px rgba(60, 64, 67, 0.15);\n",
              "      fill: #174EA6;\n",
              "    }\n",
              "\n",
              "    [theme=dark] .colab-df-convert {\n",
              "      background-color: #3B4455;\n",
              "      fill: #D2E3FC;\n",
              "    }\n",
              "\n",
              "    [theme=dark] .colab-df-convert:hover {\n",
              "      background-color: #434B5C;\n",
              "      box-shadow: 0px 1px 3px 1px rgba(0, 0, 0, 0.15);\n",
              "      filter: drop-shadow(0px 1px 2px rgba(0, 0, 0, 0.3));\n",
              "      fill: #FFFFFF;\n",
              "    }\n",
              "  </style>\n",
              "\n",
              "      <script>\n",
              "        const buttonEl =\n",
              "          document.querySelector('#df-f61f9eb7-003a-4f84-8edc-57745c8f9699 button.colab-df-convert');\n",
              "        buttonEl.style.display =\n",
              "          google.colab.kernel.accessAllowed ? 'block' : 'none';\n",
              "\n",
              "        async function convertToInteractive(key) {\n",
              "          const element = document.querySelector('#df-f61f9eb7-003a-4f84-8edc-57745c8f9699');\n",
              "          const dataTable =\n",
              "            await google.colab.kernel.invokeFunction('convertToInteractive',\n",
              "                                                     [key], {});\n",
              "          if (!dataTable) return;\n",
              "\n",
              "          const docLinkHtml = 'Like what you see? Visit the ' +\n",
              "            '<a target=\"_blank\" href=https://colab.research.google.com/notebooks/data_table.ipynb>data table notebook</a>'\n",
              "            + ' to learn more about interactive tables.';\n",
              "          element.innerHTML = '';\n",
              "          dataTable['output_type'] = 'display_data';\n",
              "          await google.colab.output.renderOutput(dataTable, element);\n",
              "          const docLink = document.createElement('div');\n",
              "          docLink.innerHTML = docLinkHtml;\n",
              "          element.appendChild(docLink);\n",
              "        }\n",
              "      </script>\n",
              "    </div>\n",
              "  </div>\n",
              "  "
            ]
          },
          "metadata": {},
          "execution_count": 49
        }
      ]
    },
    {
      "cell_type": "code",
      "metadata": {
        "id": "k55NUm9OILhw",
        "colab": {
          "base_uri": "https://localhost:8080/",
          "height": 72
        },
        "outputId": "9d0431b6-40d8-4e59-d431-6da1653b4ea1"
      },
      "source": [
        "dpileup[pileup['pos'] == 106056094].iloc[0]['matches']"
      ],
      "execution_count": null,
      "outputs": [
        {
          "output_type": "stream",
          "name": "stderr",
          "text": [
            "/usr/local/lib/python3.7/dist-packages/ipykernel_launcher.py:1: UserWarning: Boolean Series key will be reindexed to match DataFrame index.\n",
            "  \"\"\"Entry point for launching an IPython kernel.\n"
          ]
        },
        {
          "output_type": "execute_result",
          "data": {
            "text/plain": [
              "'ccccccccccccccccccccccccccccccccccccccccccccccccccccccccccccccccccccccccccccccccccccccccccccccccccccccccccc'"
            ],
            "application/vnd.google.colaboratory.intrinsic+json": {
              "type": "string"
            }
          },
          "metadata": {},
          "execution_count": 50
        }
      ]
    },
    {
      "cell_type": "code",
      "source": [
        "dpileup2 = dpileup[['chrom', 'pos', 'matches']]"
      ],
      "metadata": {
        "id": "rMTiaInooS44"
      },
      "execution_count": null,
      "outputs": []
    },
    {
      "cell_type": "code",
      "source": [
        "dpileup3 = dpileup2['matches']"
      ],
      "metadata": {
        "id": "Hwrg0J2pp7Tw"
      },
      "execution_count": null,
      "outputs": []
    },
    {
      "cell_type": "markdown",
      "source": [
        "1. 각 position별로 base수를 셈."
      ],
      "metadata": {
        "id": "hzgYgSOLwsj0"
      }
    },
    {
      "cell_type": "code",
      "source": [
        "dpileup2['base'] = dpileup3.str.len()"
      ],
      "metadata": {
        "colab": {
          "base_uri": "https://localhost:8080/"
        },
        "id": "vyMBf9aiuiUX",
        "outputId": "fde61397-67d4-4169-aa14-fc0784714c76"
      },
      "execution_count": null,
      "outputs": [
        {
          "output_type": "stream",
          "name": "stderr",
          "text": [
            "/usr/local/lib/python3.7/dist-packages/ipykernel_launcher.py:1: SettingWithCopyWarning: \n",
            "A value is trying to be set on a copy of a slice from a DataFrame.\n",
            "Try using .loc[row_indexer,col_indexer] = value instead\n",
            "\n",
            "See the caveats in the documentation: https://pandas.pydata.org/pandas-docs/stable/user_guide/indexing.html#returning-a-view-versus-a-copy\n",
            "  \"\"\"Entry point for launching an IPython kernel.\n"
          ]
        }
      ]
    },
    {
      "cell_type": "code",
      "source": [
        "dpileup2"
      ],
      "metadata": {
        "colab": {
          "base_uri": "https://localhost:8080/",
          "height": 424
        },
        "id": "kCDnESpou26A",
        "outputId": "295a2fde-d08d-45d4-fc74-99cf553e228a"
      },
      "execution_count": null,
      "outputs": [
        {
          "output_type": "execute_result",
          "data": {
            "text/plain": [
              "    chrom       pos                                            matches  base\n",
              "0   chr13  48689488   GaIaHaIaHaIaIaIaGaIaIaIaIaIaHaIaGaGaGaIaEaDaHaGa    48\n",
              "1   chr13  48689489  aaaaaaaaaaaaaaaaaaaaaaaaaIaHaIaGaGaHaIaIaGaGaI...    81\n",
              "2   chr13  48689490  tttttttttttttttttttttttttttttttttttttttttttttt...    85\n",
              "3   chr13  48689491  aaaaaaaaaaaaaaaaaaaaaaaaaaaaaaaaaaaaaaaaaaaaaa...   141\n",
              "4   chr13  48689492  aaaaaaaaaaaaaaaaaaaaaaaaaaaaaaaaaaaaaaaaaaaaaa...   105\n",
              "..    ...       ...                                                ...   ...\n",
              "82  chr13  48689570                                              aaaaa     5\n",
              "83  chr13  48689571                                             cccccc     6\n",
              "84  chr13  48689572                                             cccccc     6\n",
              "85  chr13  48689573                                             tttttt     6\n",
              "86  chr13  48689574                                             cccccc     6\n",
              "\n",
              "[87 rows x 4 columns]"
            ],
            "text/html": [
              "\n",
              "  <div id=\"df-4bc018b8-ff9a-4c1b-9e67-c277e6cf6322\">\n",
              "    <div class=\"colab-df-container\">\n",
              "      <div>\n",
              "<style scoped>\n",
              "    .dataframe tbody tr th:only-of-type {\n",
              "        vertical-align: middle;\n",
              "    }\n",
              "\n",
              "    .dataframe tbody tr th {\n",
              "        vertical-align: top;\n",
              "    }\n",
              "\n",
              "    .dataframe thead th {\n",
              "        text-align: right;\n",
              "    }\n",
              "</style>\n",
              "<table border=\"1\" class=\"dataframe\">\n",
              "  <thead>\n",
              "    <tr style=\"text-align: right;\">\n",
              "      <th></th>\n",
              "      <th>chrom</th>\n",
              "      <th>pos</th>\n",
              "      <th>matches</th>\n",
              "      <th>base</th>\n",
              "    </tr>\n",
              "  </thead>\n",
              "  <tbody>\n",
              "    <tr>\n",
              "      <th>0</th>\n",
              "      <td>chr13</td>\n",
              "      <td>48689488</td>\n",
              "      <td>GaIaHaIaHaIaIaIaGaIaIaIaIaIaHaIaGaGaGaIaEaDaHaGa</td>\n",
              "      <td>48</td>\n",
              "    </tr>\n",
              "    <tr>\n",
              "      <th>1</th>\n",
              "      <td>chr13</td>\n",
              "      <td>48689489</td>\n",
              "      <td>aaaaaaaaaaaaaaaaaaaaaaaaaIaHaIaGaGaHaIaIaGaGaI...</td>\n",
              "      <td>81</td>\n",
              "    </tr>\n",
              "    <tr>\n",
              "      <th>2</th>\n",
              "      <td>chr13</td>\n",
              "      <td>48689490</td>\n",
              "      <td>tttttttttttttttttttttttttttttttttttttttttttttt...</td>\n",
              "      <td>85</td>\n",
              "    </tr>\n",
              "    <tr>\n",
              "      <th>3</th>\n",
              "      <td>chr13</td>\n",
              "      <td>48689491</td>\n",
              "      <td>aaaaaaaaaaaaaaaaaaaaaaaaaaaaaaaaaaaaaaaaaaaaaa...</td>\n",
              "      <td>141</td>\n",
              "    </tr>\n",
              "    <tr>\n",
              "      <th>4</th>\n",
              "      <td>chr13</td>\n",
              "      <td>48689492</td>\n",
              "      <td>aaaaaaaaaaaaaaaaaaaaaaaaaaaaaaaaaaaaaaaaaaaaaa...</td>\n",
              "      <td>105</td>\n",
              "    </tr>\n",
              "    <tr>\n",
              "      <th>...</th>\n",
              "      <td>...</td>\n",
              "      <td>...</td>\n",
              "      <td>...</td>\n",
              "      <td>...</td>\n",
              "    </tr>\n",
              "    <tr>\n",
              "      <th>82</th>\n",
              "      <td>chr13</td>\n",
              "      <td>48689570</td>\n",
              "      <td>aaaaa</td>\n",
              "      <td>5</td>\n",
              "    </tr>\n",
              "    <tr>\n",
              "      <th>83</th>\n",
              "      <td>chr13</td>\n",
              "      <td>48689571</td>\n",
              "      <td>cccccc</td>\n",
              "      <td>6</td>\n",
              "    </tr>\n",
              "    <tr>\n",
              "      <th>84</th>\n",
              "      <td>chr13</td>\n",
              "      <td>48689572</td>\n",
              "      <td>cccccc</td>\n",
              "      <td>6</td>\n",
              "    </tr>\n",
              "    <tr>\n",
              "      <th>85</th>\n",
              "      <td>chr13</td>\n",
              "      <td>48689573</td>\n",
              "      <td>tttttt</td>\n",
              "      <td>6</td>\n",
              "    </tr>\n",
              "    <tr>\n",
              "      <th>86</th>\n",
              "      <td>chr13</td>\n",
              "      <td>48689574</td>\n",
              "      <td>cccccc</td>\n",
              "      <td>6</td>\n",
              "    </tr>\n",
              "  </tbody>\n",
              "</table>\n",
              "<p>87 rows × 4 columns</p>\n",
              "</div>\n",
              "      <button class=\"colab-df-convert\" onclick=\"convertToInteractive('df-4bc018b8-ff9a-4c1b-9e67-c277e6cf6322')\"\n",
              "              title=\"Convert this dataframe to an interactive table.\"\n",
              "              style=\"display:none;\">\n",
              "        \n",
              "  <svg xmlns=\"http://www.w3.org/2000/svg\" height=\"24px\"viewBox=\"0 0 24 24\"\n",
              "       width=\"24px\">\n",
              "    <path d=\"M0 0h24v24H0V0z\" fill=\"none\"/>\n",
              "    <path d=\"M18.56 5.44l.94 2.06.94-2.06 2.06-.94-2.06-.94-.94-2.06-.94 2.06-2.06.94zm-11 1L8.5 8.5l.94-2.06 2.06-.94-2.06-.94L8.5 2.5l-.94 2.06-2.06.94zm10 10l.94 2.06.94-2.06 2.06-.94-2.06-.94-.94-2.06-.94 2.06-2.06.94z\"/><path d=\"M17.41 7.96l-1.37-1.37c-.4-.4-.92-.59-1.43-.59-.52 0-1.04.2-1.43.59L10.3 9.45l-7.72 7.72c-.78.78-.78 2.05 0 2.83L4 21.41c.39.39.9.59 1.41.59.51 0 1.02-.2 1.41-.59l7.78-7.78 2.81-2.81c.8-.78.8-2.07 0-2.86zM5.41 20L4 18.59l7.72-7.72 1.47 1.35L5.41 20z\"/>\n",
              "  </svg>\n",
              "      </button>\n",
              "      \n",
              "  <style>\n",
              "    .colab-df-container {\n",
              "      display:flex;\n",
              "      flex-wrap:wrap;\n",
              "      gap: 12px;\n",
              "    }\n",
              "\n",
              "    .colab-df-convert {\n",
              "      background-color: #E8F0FE;\n",
              "      border: none;\n",
              "      border-radius: 50%;\n",
              "      cursor: pointer;\n",
              "      display: none;\n",
              "      fill: #1967D2;\n",
              "      height: 32px;\n",
              "      padding: 0 0 0 0;\n",
              "      width: 32px;\n",
              "    }\n",
              "\n",
              "    .colab-df-convert:hover {\n",
              "      background-color: #E2EBFA;\n",
              "      box-shadow: 0px 1px 2px rgba(60, 64, 67, 0.3), 0px 1px 3px 1px rgba(60, 64, 67, 0.15);\n",
              "      fill: #174EA6;\n",
              "    }\n",
              "\n",
              "    [theme=dark] .colab-df-convert {\n",
              "      background-color: #3B4455;\n",
              "      fill: #D2E3FC;\n",
              "    }\n",
              "\n",
              "    [theme=dark] .colab-df-convert:hover {\n",
              "      background-color: #434B5C;\n",
              "      box-shadow: 0px 1px 3px 1px rgba(0, 0, 0, 0.15);\n",
              "      filter: drop-shadow(0px 1px 2px rgba(0, 0, 0, 0.3));\n",
              "      fill: #FFFFFF;\n",
              "    }\n",
              "  </style>\n",
              "\n",
              "      <script>\n",
              "        const buttonEl =\n",
              "          document.querySelector('#df-4bc018b8-ff9a-4c1b-9e67-c277e6cf6322 button.colab-df-convert');\n",
              "        buttonEl.style.display =\n",
              "          google.colab.kernel.accessAllowed ? 'block' : 'none';\n",
              "\n",
              "        async function convertToInteractive(key) {\n",
              "          const element = document.querySelector('#df-4bc018b8-ff9a-4c1b-9e67-c277e6cf6322');\n",
              "          const dataTable =\n",
              "            await google.colab.kernel.invokeFunction('convertToInteractive',\n",
              "                                                     [key], {});\n",
              "          if (!dataTable) return;\n",
              "\n",
              "          const docLinkHtml = 'Like what you see? Visit the ' +\n",
              "            '<a target=\"_blank\" href=https://colab.research.google.com/notebooks/data_table.ipynb>data table notebook</a>'\n",
              "            + ' to learn more about interactive tables.';\n",
              "          element.innerHTML = '';\n",
              "          dataTable['output_type'] = 'display_data';\n",
              "          await google.colab.output.renderOutput(dataTable, element);\n",
              "          const docLink = document.createElement('div');\n",
              "          docLink.innerHTML = docLinkHtml;\n",
              "          element.appendChild(docLink);\n",
              "        }\n",
              "      </script>\n",
              "    </div>\n",
              "  </div>\n",
              "  "
            ]
          },
          "metadata": {},
          "execution_count": 54
        }
      ]
    },
    {
      "cell_type": "markdown",
      "source": [
        "2. Shannon entropy 계산."
      ],
      "metadata": {
        "id": "1gfMcIZRwj8d"
      }
    },
    {
      "cell_type": "code",
      "source": [
        "import math\n",
        "from collections import Counter\n",
        "\n",
        "def entropy(s):\n",
        "\tp, lns = Counter(s), float(len(s))\n",
        "\treturn -sum( count/lns * math.log(count/lns, 2) for count in p.values())"
      ],
      "metadata": {
        "id": "YCfMhfkf5D6X"
      },
      "execution_count": null,
      "outputs": []
    },
    {
      "cell_type": "code",
      "source": [
        "count = ['1','2']\n",
        "dent = pd.Series(count)\n",
        "print(dent)\n",
        "print(dent[1])"
      ],
      "metadata": {
        "colab": {
          "base_uri": "https://localhost:8080/"
        },
        "id": "mLFl-KLb7oGY",
        "outputId": "cc41223a-2054-4ad2-d227-937ff2eb63c8"
      },
      "execution_count": null,
      "outputs": [
        {
          "output_type": "stream",
          "name": "stdout",
          "text": [
            "0    1\n",
            "1    2\n",
            "dtype: object\n",
            "2\n"
          ]
        }
      ]
    },
    {
      "cell_type": "code",
      "source": [
        "count = ['1','2']\n",
        "ent = pd.Series(count)\n",
        "print(ent)\n",
        "print(ent[1])"
      ],
      "metadata": {
        "colab": {
          "base_uri": "https://localhost:8080/"
        },
        "id": "MtgH0ZjOLGau",
        "outputId": "7ea95732-5375-4af5-ce5b-189dd7578b6e"
      },
      "execution_count": null,
      "outputs": [
        {
          "output_type": "stream",
          "name": "stdout",
          "text": [
            "0    1\n",
            "1    2\n",
            "dtype: object\n",
            "2\n"
          ]
        }
      ]
    },
    {
      "cell_type": "code",
      "source": [
        "i = 0\n",
        "while i <= 86:\n",
        "  dent[i] = entropy(dpileup3[i])\n",
        "  i += 1"
      ],
      "metadata": {
        "id": "KPPviBpCGJys"
      },
      "execution_count": null,
      "outputs": []
    },
    {
      "cell_type": "code",
      "source": [
        "dpileup4 = dpileup2\n",
        "dpileup4['Shannon_entropy'] = dent\n",
        "print(dpileup4)"
      ],
      "metadata": {
        "colab": {
          "base_uri": "https://localhost:8080/"
        },
        "id": "YLltrMa1L0mU",
        "outputId": "a3a0a81a-41f4-468d-96c4-129c45a6864c"
      },
      "execution_count": null,
      "outputs": [
        {
          "output_type": "stream",
          "name": "stdout",
          "text": [
            "    chrom       pos                                            matches  base  \\\n",
            "0   chr13  48689488   GaIaHaIaHaIaIaIaGaIaIaIaIaIaHaIaGaGaGaIaEaDaHaGa    48   \n",
            "1   chr13  48689489  aaaaaaaaaaaaaaaaaaaaaaaaaIaHaIaGaGaHaIaIaGaGaI...    81   \n",
            "2   chr13  48689490  tttttttttttttttttttttttttttttttttttttttttttttt...    85   \n",
            "3   chr13  48689491  aaaaaaaaaaaaaaaaaaaaaaaaaaaaaaaaaaaaaaaaaaaaaa...   141   \n",
            "4   chr13  48689492  aaaaaaaaaaaaaaaaaaaaaaaaaaaaaaaaaaaaaaaaaaaaaa...   105   \n",
            "..    ...       ...                                                ...   ...   \n",
            "82  chr13  48689570                                              aaaaa     5   \n",
            "83  chr13  48689571                                             cccccc     6   \n",
            "84  chr13  48689572                                             cccccc     6   \n",
            "85  chr13  48689573                                             tttttt     6   \n",
            "86  chr13  48689574                                             cccccc     6   \n",
            "\n",
            "   Shannon_entropy  \n",
            "0         1.906454  \n",
            "1           1.4998  \n",
            "2         0.988811  \n",
            "3         1.258637  \n",
            "4             -0.0  \n",
            "..             ...  \n",
            "82            -0.0  \n",
            "83            -0.0  \n",
            "84            -0.0  \n",
            "85            -0.0  \n",
            "86            -0.0  \n",
            "\n",
            "[87 rows x 5 columns]\n"
          ]
        },
        {
          "output_type": "stream",
          "name": "stderr",
          "text": [
            "/usr/local/lib/python3.7/dist-packages/ipykernel_launcher.py:2: SettingWithCopyWarning: \n",
            "A value is trying to be set on a copy of a slice from a DataFrame.\n",
            "Try using .loc[row_indexer,col_indexer] = value instead\n",
            "\n",
            "See the caveats in the documentation: https://pandas.pydata.org/pandas-docs/stable/user_guide/indexing.html#returning-a-view-versus-a-copy\n",
            "  \n"
          ]
        }
      ]
    },
    {
      "cell_type": "markdown",
      "source": [
        "2-2. chrom, pos, pos2를 pileup5로 받고, 계산한 Shannon entropy column을 붙임."
      ],
      "metadata": {
        "id": "JY1nJeN6xBGE"
      }
    },
    {
      "cell_type": "code",
      "source": [
        "dpileup5 = dpileup4[['chrom','pos']]\n",
        "dpileup5['pos2']=dpileup4['pos']+1\n",
        "dpileup5['Shannon_entropy'] = dpileup4['Shannon_entropy']"
      ],
      "metadata": {
        "id": "EjbidUrUTM5K",
        "colab": {
          "base_uri": "https://localhost:8080/"
        },
        "outputId": "c32dcba3-16eb-4bd5-cdae-7d91a32fdf1a"
      },
      "execution_count": null,
      "outputs": [
        {
          "output_type": "stream",
          "name": "stderr",
          "text": [
            "/usr/local/lib/python3.7/dist-packages/ipykernel_launcher.py:2: SettingWithCopyWarning: \n",
            "A value is trying to be set on a copy of a slice from a DataFrame.\n",
            "Try using .loc[row_indexer,col_indexer] = value instead\n",
            "\n",
            "See the caveats in the documentation: https://pandas.pydata.org/pandas-docs/stable/user_guide/indexing.html#returning-a-view-versus-a-copy\n",
            "  \n",
            "/usr/local/lib/python3.7/dist-packages/ipykernel_launcher.py:3: SettingWithCopyWarning: \n",
            "A value is trying to be set on a copy of a slice from a DataFrame.\n",
            "Try using .loc[row_indexer,col_indexer] = value instead\n",
            "\n",
            "See the caveats in the documentation: https://pandas.pydata.org/pandas-docs/stable/user_guide/indexing.html#returning-a-view-versus-a-copy\n",
            "  This is separate from the ipykernel package so we can avoid doing imports until\n"
          ]
        }
      ]
    },
    {
      "cell_type": "code",
      "source": [
        "dpileup5"
      ],
      "metadata": {
        "colab": {
          "base_uri": "https://localhost:8080/",
          "height": 424
        },
        "id": "uZeegPNQTzou",
        "outputId": "fc7c5fd9-05c3-4bba-c36b-f8cc0671b2dc"
      },
      "execution_count": null,
      "outputs": [
        {
          "output_type": "execute_result",
          "data": {
            "text/plain": [
              "    chrom       pos      pos2 Shannon_entropy\n",
              "0   chr13  48689488  48689489        1.906454\n",
              "1   chr13  48689489  48689490          1.4998\n",
              "2   chr13  48689490  48689491        0.988811\n",
              "3   chr13  48689491  48689492        1.258637\n",
              "4   chr13  48689492  48689493            -0.0\n",
              "..    ...       ...       ...             ...\n",
              "82  chr13  48689570  48689571            -0.0\n",
              "83  chr13  48689571  48689572            -0.0\n",
              "84  chr13  48689572  48689573            -0.0\n",
              "85  chr13  48689573  48689574            -0.0\n",
              "86  chr13  48689574  48689575            -0.0\n",
              "\n",
              "[87 rows x 4 columns]"
            ],
            "text/html": [
              "\n",
              "  <div id=\"df-277ac0eb-e958-4fab-a300-b996669dc0e1\">\n",
              "    <div class=\"colab-df-container\">\n",
              "      <div>\n",
              "<style scoped>\n",
              "    .dataframe tbody tr th:only-of-type {\n",
              "        vertical-align: middle;\n",
              "    }\n",
              "\n",
              "    .dataframe tbody tr th {\n",
              "        vertical-align: top;\n",
              "    }\n",
              "\n",
              "    .dataframe thead th {\n",
              "        text-align: right;\n",
              "    }\n",
              "</style>\n",
              "<table border=\"1\" class=\"dataframe\">\n",
              "  <thead>\n",
              "    <tr style=\"text-align: right;\">\n",
              "      <th></th>\n",
              "      <th>chrom</th>\n",
              "      <th>pos</th>\n",
              "      <th>pos2</th>\n",
              "      <th>Shannon_entropy</th>\n",
              "    </tr>\n",
              "  </thead>\n",
              "  <tbody>\n",
              "    <tr>\n",
              "      <th>0</th>\n",
              "      <td>chr13</td>\n",
              "      <td>48689488</td>\n",
              "      <td>48689489</td>\n",
              "      <td>1.906454</td>\n",
              "    </tr>\n",
              "    <tr>\n",
              "      <th>1</th>\n",
              "      <td>chr13</td>\n",
              "      <td>48689489</td>\n",
              "      <td>48689490</td>\n",
              "      <td>1.4998</td>\n",
              "    </tr>\n",
              "    <tr>\n",
              "      <th>2</th>\n",
              "      <td>chr13</td>\n",
              "      <td>48689490</td>\n",
              "      <td>48689491</td>\n",
              "      <td>0.988811</td>\n",
              "    </tr>\n",
              "    <tr>\n",
              "      <th>3</th>\n",
              "      <td>chr13</td>\n",
              "      <td>48689491</td>\n",
              "      <td>48689492</td>\n",
              "      <td>1.258637</td>\n",
              "    </tr>\n",
              "    <tr>\n",
              "      <th>4</th>\n",
              "      <td>chr13</td>\n",
              "      <td>48689492</td>\n",
              "      <td>48689493</td>\n",
              "      <td>-0.0</td>\n",
              "    </tr>\n",
              "    <tr>\n",
              "      <th>...</th>\n",
              "      <td>...</td>\n",
              "      <td>...</td>\n",
              "      <td>...</td>\n",
              "      <td>...</td>\n",
              "    </tr>\n",
              "    <tr>\n",
              "      <th>82</th>\n",
              "      <td>chr13</td>\n",
              "      <td>48689570</td>\n",
              "      <td>48689571</td>\n",
              "      <td>-0.0</td>\n",
              "    </tr>\n",
              "    <tr>\n",
              "      <th>83</th>\n",
              "      <td>chr13</td>\n",
              "      <td>48689571</td>\n",
              "      <td>48689572</td>\n",
              "      <td>-0.0</td>\n",
              "    </tr>\n",
              "    <tr>\n",
              "      <th>84</th>\n",
              "      <td>chr13</td>\n",
              "      <td>48689572</td>\n",
              "      <td>48689573</td>\n",
              "      <td>-0.0</td>\n",
              "    </tr>\n",
              "    <tr>\n",
              "      <th>85</th>\n",
              "      <td>chr13</td>\n",
              "      <td>48689573</td>\n",
              "      <td>48689574</td>\n",
              "      <td>-0.0</td>\n",
              "    </tr>\n",
              "    <tr>\n",
              "      <th>86</th>\n",
              "      <td>chr13</td>\n",
              "      <td>48689574</td>\n",
              "      <td>48689575</td>\n",
              "      <td>-0.0</td>\n",
              "    </tr>\n",
              "  </tbody>\n",
              "</table>\n",
              "<p>87 rows × 4 columns</p>\n",
              "</div>\n",
              "      <button class=\"colab-df-convert\" onclick=\"convertToInteractive('df-277ac0eb-e958-4fab-a300-b996669dc0e1')\"\n",
              "              title=\"Convert this dataframe to an interactive table.\"\n",
              "              style=\"display:none;\">\n",
              "        \n",
              "  <svg xmlns=\"http://www.w3.org/2000/svg\" height=\"24px\"viewBox=\"0 0 24 24\"\n",
              "       width=\"24px\">\n",
              "    <path d=\"M0 0h24v24H0V0z\" fill=\"none\"/>\n",
              "    <path d=\"M18.56 5.44l.94 2.06.94-2.06 2.06-.94-2.06-.94-.94-2.06-.94 2.06-2.06.94zm-11 1L8.5 8.5l.94-2.06 2.06-.94-2.06-.94L8.5 2.5l-.94 2.06-2.06.94zm10 10l.94 2.06.94-2.06 2.06-.94-2.06-.94-.94-2.06-.94 2.06-2.06.94z\"/><path d=\"M17.41 7.96l-1.37-1.37c-.4-.4-.92-.59-1.43-.59-.52 0-1.04.2-1.43.59L10.3 9.45l-7.72 7.72c-.78.78-.78 2.05 0 2.83L4 21.41c.39.39.9.59 1.41.59.51 0 1.02-.2 1.41-.59l7.78-7.78 2.81-2.81c.8-.78.8-2.07 0-2.86zM5.41 20L4 18.59l7.72-7.72 1.47 1.35L5.41 20z\"/>\n",
              "  </svg>\n",
              "      </button>\n",
              "      \n",
              "  <style>\n",
              "    .colab-df-container {\n",
              "      display:flex;\n",
              "      flex-wrap:wrap;\n",
              "      gap: 12px;\n",
              "    }\n",
              "\n",
              "    .colab-df-convert {\n",
              "      background-color: #E8F0FE;\n",
              "      border: none;\n",
              "      border-radius: 50%;\n",
              "      cursor: pointer;\n",
              "      display: none;\n",
              "      fill: #1967D2;\n",
              "      height: 32px;\n",
              "      padding: 0 0 0 0;\n",
              "      width: 32px;\n",
              "    }\n",
              "\n",
              "    .colab-df-convert:hover {\n",
              "      background-color: #E2EBFA;\n",
              "      box-shadow: 0px 1px 2px rgba(60, 64, 67, 0.3), 0px 1px 3px 1px rgba(60, 64, 67, 0.15);\n",
              "      fill: #174EA6;\n",
              "    }\n",
              "\n",
              "    [theme=dark] .colab-df-convert {\n",
              "      background-color: #3B4455;\n",
              "      fill: #D2E3FC;\n",
              "    }\n",
              "\n",
              "    [theme=dark] .colab-df-convert:hover {\n",
              "      background-color: #434B5C;\n",
              "      box-shadow: 0px 1px 3px 1px rgba(0, 0, 0, 0.15);\n",
              "      filter: drop-shadow(0px 1px 2px rgba(0, 0, 0, 0.3));\n",
              "      fill: #FFFFFF;\n",
              "    }\n",
              "  </style>\n",
              "\n",
              "      <script>\n",
              "        const buttonEl =\n",
              "          document.querySelector('#df-277ac0eb-e958-4fab-a300-b996669dc0e1 button.colab-df-convert');\n",
              "        buttonEl.style.display =\n",
              "          google.colab.kernel.accessAllowed ? 'block' : 'none';\n",
              "\n",
              "        async function convertToInteractive(key) {\n",
              "          const element = document.querySelector('#df-277ac0eb-e958-4fab-a300-b996669dc0e1');\n",
              "          const dataTable =\n",
              "            await google.colab.kernel.invokeFunction('convertToInteractive',\n",
              "                                                     [key], {});\n",
              "          if (!dataTable) return;\n",
              "\n",
              "          const docLinkHtml = 'Like what you see? Visit the ' +\n",
              "            '<a target=\"_blank\" href=https://colab.research.google.com/notebooks/data_table.ipynb>data table notebook</a>'\n",
              "            + ' to learn more about interactive tables.';\n",
              "          element.innerHTML = '';\n",
              "          dataTable['output_type'] = 'display_data';\n",
              "          await google.colab.output.renderOutput(dataTable, element);\n",
              "          const docLink = document.createElement('div');\n",
              "          docLink.innerHTML = docLinkHtml;\n",
              "          element.appendChild(docLink);\n",
              "        }\n",
              "      </script>\n",
              "    </div>\n",
              "  </div>\n",
              "  "
            ]
          },
          "metadata": {},
          "execution_count": 60
        }
      ]
    },
    {
      "cell_type": "markdown",
      "source": [
        "계산한 결과를 Mirlet7d.txt로 빼냄."
      ],
      "metadata": {
        "id": "EHOC9ZbGxSB0"
      }
    },
    {
      "cell_type": "code",
      "source": [
        "dpileup5.to_csv(\"Mirlet7d.txt\",header=False, index=False, sep='\\t')"
      ],
      "metadata": {
        "id": "BDo5FcGuRDL7"
      },
      "execution_count": null,
      "outputs": []
    },
    {
      "cell_type": "markdown",
      "source": [
        "Bedgraph format의 txt 파일을 만들기 위해 맨 위 row에\n",
        "\n",
        "track type=bedGraph name=\"Mirlet7d\" description=\"Mirlet7d\" visibility=full color=200,100,0 altColor=0,100,200 priority=20 alwaysZero=on\n",
        "\n",
        "를 붙이고 저장함.\n"
      ],
      "metadata": {
        "id": "F4VqlZj06rqV"
      }
    },
    {
      "cell_type": "markdown",
      "source": [
        "dpileup5를 dpileup5sorted로 받고, 컬럼 Shannon_entropy를 기준으로 오름차순 정렬."
      ],
      "metadata": {
        "id": "W5OBarfdzo4p"
      }
    },
    {
      "cell_type": "code",
      "source": [
        "dpileup5sorted = dpileup5"
      ],
      "metadata": {
        "id": "CK36VMtHznmL"
      },
      "execution_count": null,
      "outputs": []
    },
    {
      "cell_type": "code",
      "source": [
        "dpileup5sorted.sort_values('Shannon_entropy',ascending=False)"
      ],
      "metadata": {
        "colab": {
          "base_uri": "https://localhost:8080/",
          "height": 424
        },
        "id": "XYbIWelXz5Mh",
        "outputId": "ac12cf04-66be-4838-ada6-718878819816"
      },
      "execution_count": null,
      "outputs": [
        {
          "output_type": "execute_result",
          "data": {
            "text/plain": [
              "    chrom       pos      pos2 Shannon_entropy\n",
              "0   chr13  48689488  48689489        1.906454\n",
              "1   chr13  48689489  48689490          1.4998\n",
              "41  chr13  48689529  48689530        1.450881\n",
              "39  chr13  48689527  48689528        1.343948\n",
              "3   chr13  48689491  48689492        1.258637\n",
              "..    ...       ...       ...             ...\n",
              "38  chr13  48689526  48689527            -0.0\n",
              "36  chr13  48689524  48689525            -0.0\n",
              "35  chr13  48689523  48689524            -0.0\n",
              "34  chr13  48689522  48689523            -0.0\n",
              "86  chr13  48689574  48689575            -0.0\n",
              "\n",
              "[87 rows x 4 columns]"
            ],
            "text/html": [
              "\n",
              "  <div id=\"df-6a54d5a7-bd55-4945-96bd-d47269dd8512\">\n",
              "    <div class=\"colab-df-container\">\n",
              "      <div>\n",
              "<style scoped>\n",
              "    .dataframe tbody tr th:only-of-type {\n",
              "        vertical-align: middle;\n",
              "    }\n",
              "\n",
              "    .dataframe tbody tr th {\n",
              "        vertical-align: top;\n",
              "    }\n",
              "\n",
              "    .dataframe thead th {\n",
              "        text-align: right;\n",
              "    }\n",
              "</style>\n",
              "<table border=\"1\" class=\"dataframe\">\n",
              "  <thead>\n",
              "    <tr style=\"text-align: right;\">\n",
              "      <th></th>\n",
              "      <th>chrom</th>\n",
              "      <th>pos</th>\n",
              "      <th>pos2</th>\n",
              "      <th>Shannon_entropy</th>\n",
              "    </tr>\n",
              "  </thead>\n",
              "  <tbody>\n",
              "    <tr>\n",
              "      <th>0</th>\n",
              "      <td>chr13</td>\n",
              "      <td>48689488</td>\n",
              "      <td>48689489</td>\n",
              "      <td>1.906454</td>\n",
              "    </tr>\n",
              "    <tr>\n",
              "      <th>1</th>\n",
              "      <td>chr13</td>\n",
              "      <td>48689489</td>\n",
              "      <td>48689490</td>\n",
              "      <td>1.4998</td>\n",
              "    </tr>\n",
              "    <tr>\n",
              "      <th>41</th>\n",
              "      <td>chr13</td>\n",
              "      <td>48689529</td>\n",
              "      <td>48689530</td>\n",
              "      <td>1.450881</td>\n",
              "    </tr>\n",
              "    <tr>\n",
              "      <th>39</th>\n",
              "      <td>chr13</td>\n",
              "      <td>48689527</td>\n",
              "      <td>48689528</td>\n",
              "      <td>1.343948</td>\n",
              "    </tr>\n",
              "    <tr>\n",
              "      <th>3</th>\n",
              "      <td>chr13</td>\n",
              "      <td>48689491</td>\n",
              "      <td>48689492</td>\n",
              "      <td>1.258637</td>\n",
              "    </tr>\n",
              "    <tr>\n",
              "      <th>...</th>\n",
              "      <td>...</td>\n",
              "      <td>...</td>\n",
              "      <td>...</td>\n",
              "      <td>...</td>\n",
              "    </tr>\n",
              "    <tr>\n",
              "      <th>38</th>\n",
              "      <td>chr13</td>\n",
              "      <td>48689526</td>\n",
              "      <td>48689527</td>\n",
              "      <td>-0.0</td>\n",
              "    </tr>\n",
              "    <tr>\n",
              "      <th>36</th>\n",
              "      <td>chr13</td>\n",
              "      <td>48689524</td>\n",
              "      <td>48689525</td>\n",
              "      <td>-0.0</td>\n",
              "    </tr>\n",
              "    <tr>\n",
              "      <th>35</th>\n",
              "      <td>chr13</td>\n",
              "      <td>48689523</td>\n",
              "      <td>48689524</td>\n",
              "      <td>-0.0</td>\n",
              "    </tr>\n",
              "    <tr>\n",
              "      <th>34</th>\n",
              "      <td>chr13</td>\n",
              "      <td>48689522</td>\n",
              "      <td>48689523</td>\n",
              "      <td>-0.0</td>\n",
              "    </tr>\n",
              "    <tr>\n",
              "      <th>86</th>\n",
              "      <td>chr13</td>\n",
              "      <td>48689574</td>\n",
              "      <td>48689575</td>\n",
              "      <td>-0.0</td>\n",
              "    </tr>\n",
              "  </tbody>\n",
              "</table>\n",
              "<p>87 rows × 4 columns</p>\n",
              "</div>\n",
              "      <button class=\"colab-df-convert\" onclick=\"convertToInteractive('df-6a54d5a7-bd55-4945-96bd-d47269dd8512')\"\n",
              "              title=\"Convert this dataframe to an interactive table.\"\n",
              "              style=\"display:none;\">\n",
              "        \n",
              "  <svg xmlns=\"http://www.w3.org/2000/svg\" height=\"24px\"viewBox=\"0 0 24 24\"\n",
              "       width=\"24px\">\n",
              "    <path d=\"M0 0h24v24H0V0z\" fill=\"none\"/>\n",
              "    <path d=\"M18.56 5.44l.94 2.06.94-2.06 2.06-.94-2.06-.94-.94-2.06-.94 2.06-2.06.94zm-11 1L8.5 8.5l.94-2.06 2.06-.94-2.06-.94L8.5 2.5l-.94 2.06-2.06.94zm10 10l.94 2.06.94-2.06 2.06-.94-2.06-.94-.94-2.06-.94 2.06-2.06.94z\"/><path d=\"M17.41 7.96l-1.37-1.37c-.4-.4-.92-.59-1.43-.59-.52 0-1.04.2-1.43.59L10.3 9.45l-7.72 7.72c-.78.78-.78 2.05 0 2.83L4 21.41c.39.39.9.59 1.41.59.51 0 1.02-.2 1.41-.59l7.78-7.78 2.81-2.81c.8-.78.8-2.07 0-2.86zM5.41 20L4 18.59l7.72-7.72 1.47 1.35L5.41 20z\"/>\n",
              "  </svg>\n",
              "      </button>\n",
              "      \n",
              "  <style>\n",
              "    .colab-df-container {\n",
              "      display:flex;\n",
              "      flex-wrap:wrap;\n",
              "      gap: 12px;\n",
              "    }\n",
              "\n",
              "    .colab-df-convert {\n",
              "      background-color: #E8F0FE;\n",
              "      border: none;\n",
              "      border-radius: 50%;\n",
              "      cursor: pointer;\n",
              "      display: none;\n",
              "      fill: #1967D2;\n",
              "      height: 32px;\n",
              "      padding: 0 0 0 0;\n",
              "      width: 32px;\n",
              "    }\n",
              "\n",
              "    .colab-df-convert:hover {\n",
              "      background-color: #E2EBFA;\n",
              "      box-shadow: 0px 1px 2px rgba(60, 64, 67, 0.3), 0px 1px 3px 1px rgba(60, 64, 67, 0.15);\n",
              "      fill: #174EA6;\n",
              "    }\n",
              "\n",
              "    [theme=dark] .colab-df-convert {\n",
              "      background-color: #3B4455;\n",
              "      fill: #D2E3FC;\n",
              "    }\n",
              "\n",
              "    [theme=dark] .colab-df-convert:hover {\n",
              "      background-color: #434B5C;\n",
              "      box-shadow: 0px 1px 3px 1px rgba(0, 0, 0, 0.15);\n",
              "      filter: drop-shadow(0px 1px 2px rgba(0, 0, 0, 0.3));\n",
              "      fill: #FFFFFF;\n",
              "    }\n",
              "  </style>\n",
              "\n",
              "      <script>\n",
              "        const buttonEl =\n",
              "          document.querySelector('#df-6a54d5a7-bd55-4945-96bd-d47269dd8512 button.colab-df-convert');\n",
              "        buttonEl.style.display =\n",
              "          google.colab.kernel.accessAllowed ? 'block' : 'none';\n",
              "\n",
              "        async function convertToInteractive(key) {\n",
              "          const element = document.querySelector('#df-6a54d5a7-bd55-4945-96bd-d47269dd8512');\n",
              "          const dataTable =\n",
              "            await google.colab.kernel.invokeFunction('convertToInteractive',\n",
              "                                                     [key], {});\n",
              "          if (!dataTable) return;\n",
              "\n",
              "          const docLinkHtml = 'Like what you see? Visit the ' +\n",
              "            '<a target=\"_blank\" href=https://colab.research.google.com/notebooks/data_table.ipynb>data table notebook</a>'\n",
              "            + ' to learn more about interactive tables.';\n",
              "          element.innerHTML = '';\n",
              "          dataTable['output_type'] = 'display_data';\n",
              "          await google.colab.output.renderOutput(dataTable, element);\n",
              "          const docLink = document.createElement('div');\n",
              "          docLink.innerHTML = docLinkHtml;\n",
              "          element.appendChild(docLink);\n",
              "        }\n",
              "      </script>\n",
              "    </div>\n",
              "  </div>\n",
              "  "
            ]
          },
          "metadata": {},
          "execution_count": 63
        }
      ]
    },
    {
      "cell_type": "markdown",
      "source": [
        "이에 따라 Shannon entropy값이 가장 높은 포지션, 다시 말해 위쪽 row에 있는 base position에서 error가 나올 것으로 추정됨.\n",
        "\n",
        "다만 visualization 결과 48689488-48689490 부분은 aligment 끝부분으로 보이기 때문에, 48689527-48689530\t부분을 unique sequence 확인 target으로 잡음."
      ],
      "metadata": {
        "id": "SqGnFvz509EB"
      }
    },
    {
      "cell_type": "markdown",
      "source": [
        "해당 부분이 정말 error가 많이 나오는 지 확인해보기 위해, [UCSC Genome Browser](http://genome.ucsc.edu/cgi-bin/hgTracks?db=mm39&lastVirtModeType=default&lastVirtModeExtraState=&virtModeType=default&virtMode=0&nonVirtPosition=&position=chr9%3A106056039-106056126)로 접속 후 custom tracks에 CLIP-let7d_sorted.bam (with CLIP-let7d_sorted.bam.bai)와 Mirlet7d.txt를 submit하고 visualization.\n",
        "\n",
        "확인 결과, 48689528, 48689529 base에서 unique sequence를 확인함.\n",
        "\n",
        "View 메뉴의 PDF/PS 를 눌러서 이를 PDF 파일화 (220602_project_2021_36845_Heeun_Kwon_Mirlet7d).\n",
        "\n",
        "해당 결과를 https://github.com/Heeun93/2021-36845_Homework 에 업로드함."
      ],
      "metadata": {
        "id": "2auzc5npxchd"
      }
    }
  ]
}
