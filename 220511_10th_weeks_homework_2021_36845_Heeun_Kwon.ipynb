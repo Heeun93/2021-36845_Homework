{
  "nbformat": 4,
  "nbformat_minor": 0,
  "metadata": {
    "colab": {
      "name": "220511_10th_weeks_homework_2021_36845_Heeun_Kwon.ipynb",
      "provenance": [],
      "collapsed_sections": [],
      "include_colab_link": true
    },
    "kernelspec": {
      "name": "python3",
      "display_name": "Python 3"
    }
  },
  "cells": [
    {
      "cell_type": "markdown",
      "metadata": {
        "id": "view-in-github",
        "colab_type": "text"
      },
      "source": [
        "<a href=\"https://colab.research.google.com/github/Heeun93/2021-36845_Homework/blob/main/220511_10th_weeks_homework_2021_36845_Heeun_Kwon.ipynb\" target=\"_parent\"><img src=\"https://colab.research.google.com/assets/colab-badge.svg\" alt=\"Open In Colab\"/></a>"
      ]
    },
    {
      "cell_type": "markdown",
      "metadata": {
        "id": "O4ofnSipMuHa"
      },
      "source": [
        "##데이터 다운 및 환경설정\n",
        "Google colab 기반으로 데이터 파일들을 불러오고 저장하기 위해서 Google Drive를 연결함."
      ]
    },
    {
      "cell_type": "code",
      "metadata": {
        "id": "2kWbS8JWMuHa",
        "colab": {
          "base_uri": "https://localhost:8080/"
        },
        "outputId": "c7dce510-e0d0-4279-ddc3-5ab0826e1246"
      },
      "source": [
        "from google.colab import drive\n",
        "drive.mount('/content/drive')"
      ],
      "execution_count": 1,
      "outputs": [
        {
          "output_type": "stream",
          "name": "stdout",
          "text": [
            "Mounted at /content/drive\n"
          ]
        }
      ]
    },
    {
      "cell_type": "code",
      "metadata": {
        "id": "_i5ZwVHUMuHb",
        "colab": {
          "base_uri": "https://localhost:8080/"
        },
        "outputId": "1f598a44-e329-4fbd-ebd4-5e64da0ccf30"
      },
      "source": [
        "!git clone https://github.com/hyeshik/colab-biolab.git\n",
        "!cd colab-biolab && bash tools/setup.sh\n",
        "exec(open('colab-biolab/tools/activate_conda.py').read())"
      ],
      "execution_count": 2,
      "outputs": [
        {
          "output_type": "stream",
          "name": "stdout",
          "text": [
            "Cloning into 'colab-biolab'...\n",
            "remote: Enumerating objects: 69, done.\u001b[K\n",
            "remote: Counting objects: 100% (69/69), done.\u001b[K\n",
            "remote: Compressing objects: 100% (43/43), done.\u001b[K\n",
            "remote: Total 69 (delta 22), reused 54 (delta 13), pack-reused 0\u001b[K\n",
            "Unpacking objects: 100% (69/69), done.\n",
            "./\n",
            "./root/\n",
            "./root/.tmux.conf\n",
            "./root/.profile\n",
            "./root/.bin.priority/\n",
            "./root/.bin.priority/pip\n",
            "./root/.bin.priority/pip2\n",
            "./root/.bin.priority/pip3\n",
            "./root/.condarc\n",
            "./root/.bashrc.biolab\n",
            "./root/.vimrc\n",
            "--2022-05-11 14:28:45--  https://repo.anaconda.com/miniconda/Miniconda3-latest-Linux-x86_64.sh\n",
            "Resolving repo.anaconda.com (repo.anaconda.com)... 104.16.130.3, 104.16.131.3, 2606:4700::6810:8203, ...\n",
            "Connecting to repo.anaconda.com (repo.anaconda.com)|104.16.130.3|:443... connected.\n",
            "HTTP request sent, awaiting response... 200 OK\n",
            "Length: 75660608 (72M) [application/x-sh]\n",
            "Saving to: ‘miniconda3.sh’\n",
            "\n",
            "miniconda3.sh       100%[===================>]  72.16M   176MB/s    in 0.4s    \n",
            "\n",
            "2022-05-11 14:28:45 (176 MB/s) - ‘miniconda3.sh’ saved [75660608/75660608]\n",
            "\n",
            "PREFIX=/root/conda\n",
            "Unpacking payload ...\n",
            "Collecting package metadata (current_repodata.json): - \b\b\\ \b\b| \b\bdone\n",
            "Solving environment: - \b\b\\ \b\b| \b\bdone\n",
            "\n",
            "## Package Plan ##\n",
            "\n",
            "  environment location: /root/conda\n",
            "\n",
            "  added / updated specs:\n",
            "    - _libgcc_mutex==0.1=main\n",
            "    - _openmp_mutex==4.5=1_gnu\n",
            "    - brotlipy==0.7.0=py39h27cfd23_1003\n",
            "    - ca-certificates==2021.10.26=h06a4308_2\n",
            "    - certifi==2021.10.8=py39h06a4308_2\n",
            "    - cffi==1.15.0=py39hd667e15_1\n",
            "    - charset-normalizer==2.0.4=pyhd3eb1b0_0\n",
            "    - conda-content-trust==0.1.1=pyhd3eb1b0_0\n",
            "    - conda-package-handling==1.7.3=py39h27cfd23_1\n",
            "    - conda==4.11.0=py39h06a4308_0\n",
            "    - cryptography==36.0.0=py39h9ce1e76_0\n",
            "    - idna==3.3=pyhd3eb1b0_0\n",
            "    - ld_impl_linux-64==2.35.1=h7274673_9\n",
            "    - libffi==3.3=he6710b0_2\n",
            "    - libgcc-ng==9.3.0=h5101ec6_17\n",
            "    - libgomp==9.3.0=h5101ec6_17\n",
            "    - libstdcxx-ng==9.3.0=hd4cf53a_17\n",
            "    - ncurses==6.3=h7f8727e_2\n",
            "    - openssl==1.1.1m=h7f8727e_0\n",
            "    - pip==21.2.4=py39h06a4308_0\n",
            "    - pycosat==0.6.3=py39h27cfd23_0\n",
            "    - pycparser==2.21=pyhd3eb1b0_0\n",
            "    - pyopenssl==21.0.0=pyhd3eb1b0_1\n",
            "    - pysocks==1.7.1=py39h06a4308_0\n",
            "    - python==3.9.7=h12debd9_1\n",
            "    - readline==8.1.2=h7f8727e_1\n",
            "    - requests==2.27.1=pyhd3eb1b0_0\n",
            "    - ruamel_yaml==0.15.100=py39h27cfd23_0\n",
            "    - setuptools==58.0.4=py39h06a4308_0\n",
            "    - six==1.16.0=pyhd3eb1b0_0\n",
            "    - sqlite==3.37.0=hc218d9a_0\n",
            "    - tk==8.6.11=h1ccaba5_0\n",
            "    - tqdm==4.62.3=pyhd3eb1b0_1\n",
            "    - tzdata==2021e=hda174b7_0\n",
            "    - urllib3==1.26.7=pyhd3eb1b0_0\n",
            "    - wheel==0.37.1=pyhd3eb1b0_0\n",
            "    - xz==5.2.5=h7b6447c_0\n",
            "    - yaml==0.2.5=h7b6447c_0\n",
            "    - zlib==1.2.11=h7f8727e_4\n",
            "\n",
            "\n",
            "The following NEW packages will be INSTALLED:\n",
            "\n",
            "  _libgcc_mutex      pkgs/main/linux-64::_libgcc_mutex-0.1-main\n",
            "  _openmp_mutex      pkgs/main/linux-64::_openmp_mutex-4.5-1_gnu\n",
            "  brotlipy           pkgs/main/linux-64::brotlipy-0.7.0-py39h27cfd23_1003\n",
            "  ca-certificates    pkgs/main/linux-64::ca-certificates-2021.10.26-h06a4308_2\n",
            "  certifi            pkgs/main/linux-64::certifi-2021.10.8-py39h06a4308_2\n",
            "  cffi               pkgs/main/linux-64::cffi-1.15.0-py39hd667e15_1\n",
            "  charset-normalizer pkgs/main/noarch::charset-normalizer-2.0.4-pyhd3eb1b0_0\n",
            "  conda              pkgs/main/linux-64::conda-4.11.0-py39h06a4308_0\n",
            "  conda-content-tru~ pkgs/main/noarch::conda-content-trust-0.1.1-pyhd3eb1b0_0\n",
            "  conda-package-han~ pkgs/main/linux-64::conda-package-handling-1.7.3-py39h27cfd23_1\n",
            "  cryptography       pkgs/main/linux-64::cryptography-36.0.0-py39h9ce1e76_0\n",
            "  idna               pkgs/main/noarch::idna-3.3-pyhd3eb1b0_0\n",
            "  ld_impl_linux-64   pkgs/main/linux-64::ld_impl_linux-64-2.35.1-h7274673_9\n",
            "  libffi             pkgs/main/linux-64::libffi-3.3-he6710b0_2\n",
            "  libgcc-ng          pkgs/main/linux-64::libgcc-ng-9.3.0-h5101ec6_17\n",
            "  libgomp            pkgs/main/linux-64::libgomp-9.3.0-h5101ec6_17\n",
            "  libstdcxx-ng       pkgs/main/linux-64::libstdcxx-ng-9.3.0-hd4cf53a_17\n",
            "  ncurses            pkgs/main/linux-64::ncurses-6.3-h7f8727e_2\n",
            "  openssl            pkgs/main/linux-64::openssl-1.1.1m-h7f8727e_0\n",
            "  pip                pkgs/main/linux-64::pip-21.2.4-py39h06a4308_0\n",
            "  pycosat            pkgs/main/linux-64::pycosat-0.6.3-py39h27cfd23_0\n",
            "  pycparser          pkgs/main/noarch::pycparser-2.21-pyhd3eb1b0_0\n",
            "  pyopenssl          pkgs/main/noarch::pyopenssl-21.0.0-pyhd3eb1b0_1\n",
            "  pysocks            pkgs/main/linux-64::pysocks-1.7.1-py39h06a4308_0\n",
            "  python             pkgs/main/linux-64::python-3.9.7-h12debd9_1\n",
            "  readline           pkgs/main/linux-64::readline-8.1.2-h7f8727e_1\n",
            "  requests           pkgs/main/noarch::requests-2.27.1-pyhd3eb1b0_0\n",
            "  ruamel_yaml        pkgs/main/linux-64::ruamel_yaml-0.15.100-py39h27cfd23_0\n",
            "  setuptools         pkgs/main/linux-64::setuptools-58.0.4-py39h06a4308_0\n",
            "  six                pkgs/main/noarch::six-1.16.0-pyhd3eb1b0_0\n",
            "  sqlite             pkgs/main/linux-64::sqlite-3.37.0-hc218d9a_0\n",
            "  tk                 pkgs/main/linux-64::tk-8.6.11-h1ccaba5_0\n",
            "  tqdm               pkgs/main/noarch::tqdm-4.62.3-pyhd3eb1b0_1\n",
            "  tzdata             pkgs/main/noarch::tzdata-2021e-hda174b7_0\n",
            "  urllib3            pkgs/main/noarch::urllib3-1.26.7-pyhd3eb1b0_0\n",
            "  wheel              pkgs/main/noarch::wheel-0.37.1-pyhd3eb1b0_0\n",
            "  xz                 pkgs/main/linux-64::xz-5.2.5-h7b6447c_0\n",
            "  yaml               pkgs/main/linux-64::yaml-0.2.5-h7b6447c_0\n",
            "  zlib               pkgs/main/linux-64::zlib-1.2.11-h7f8727e_4\n",
            "\n",
            "\n",
            "Preparing transaction: - \b\b\\ \b\b| \b\b/ \b\bdone\n",
            "Executing transaction: \\ \b\b| \b\b/ \b\b- \b\b\\ \b\b| \b\b/ \b\b- \b\b\\ \b\b| \b\b/ \b\b- \b\b\\ \b\b| \b\b/ \b\b- \b\b\\ \b\bdone\n",
            "installation finished.\n",
            "WARNING:\n",
            "    You currently have a PYTHONPATH environment variable set. This may cause\n",
            "    unexpected behavior when running the Python interpreter in Miniconda3.\n",
            "    For best results, please verify that your PYTHONPATH only points to\n",
            "    directories of packages that are compatible with the Python interpreter\n",
            "    in Miniconda3: /root/conda\n",
            "Collecting package metadata (current_repodata.json): - \b\b\\ \b\b| \b\b/ \b\b- \b\b\\ \b\b| \b\b/ \b\b- \b\b\\ \b\b| \b\b/ \b\b- \b\b\\ \b\b| \b\b/ \b\b- \b\b\\ \b\b| \b\b/ \b\b- \b\b\\ \b\b| \b\b/ \b\b- \b\b\\ \b\b| \b\b/ \b\b- \b\b\\ \b\b| \b\b/ \b\b- \b\b\\ \b\b| \b\b/ \b\b- \b\b\\ \b\b| \b\b/ \b\b- \b\b\\ \b\b| \b\b/ \b\b- \b\b\\ \b\b| \b\b/ \b\b- \b\b\\ \b\b| \b\b/ \b\b- \b\b\\ \b\b| \b\b/ \b\b- \b\b\\ \b\b| \b\b/ \b\b- \b\b\\ \b\b| \b\b/ \b\b- \b\b\\ \b\b| \b\b/ \b\b- \b\b\\ \b\b| \b\b/ \b\b- \b\b\\ \b\b| \b\b/ \b\b- \b\b\\ \b\b| \b\b/ \b\b- \b\b\\ \b\b| \b\b/ \b\b- \b\b\\ \b\b| \b\b/ \b\b- \b\b\\ \b\b| \b\b/ \b\b- \b\b\\ \b\b| \b\b/ \b\b- \b\b\\ \b\b| \b\b/ \b\b- \b\b\\ \b\b| \b\b/ \b\b- \b\b\\ \b\b| \b\b/ \b\b- \b\b\\ \b\b| \b\b/ \b\b- \b\b\\ \b\b| \b\b/ \b\b- \b\b\\ \b\b| \b\b/ \b\b- \b\b\\ \b\b| \b\b/ \b\b- \b\bdone\n",
            "Solving environment: | \b\b/ \b\b- \b\b\\ \b\b| \b\b/ \b\b- \b\b\\ \b\b| \b\b/ \b\b- \b\b\\ \b\b| \b\b/ \b\b- \b\b\\ \b\b| \b\b/ \b\b- \b\b\\ \b\b| \b\b/ \b\b- \b\b\\ \b\b| \b\b/ \b\b- \b\b\\ \b\b| \b\b/ \b\b- \b\b\\ \b\b| \b\b/ \b\b- \b\b\\ \b\b| \b\b/ \b\b- \b\b\\ \b\b| \b\b/ \b\b- \b\b\\ \b\b| \b\b/ \b\b- \b\b\\ \b\b| \b\b/ \b\b- \b\b\\ \b\b| \b\b/ \b\b- \b\b\\ \b\b| \b\b/ \b\b- \b\b\\ \b\b| \b\b/ \b\b- \b\b\\ \b\b| \b\b/ \b\b- \b\b\\ \b\b| \b\b/ \b\b- \b\b\\ \b\b| \b\b/ \b\b- \b\b\\ \b\b| \b\b/ \b\b- \b\b\\ \b\b| \b\b/ \b\b- \b\b\\ \b\b| \b\b/ \b\b- \b\b\\ \b\b| \b\b/ \b\b- \b\b\\ \b\b| \b\b/ \b\b- \b\b\\ \b\b| \b\b/ \b\b- \b\b\\ \b\b| \b\b/ \b\b- \b\b\\ \b\b| \b\b/ \b\b- \b\b\\ \b\b| \b\b/ \b\b- \b\b\\ \b\b| \b\b/ \b\bdone\n",
            "\n",
            "\n",
            "==> WARNING: A newer version of conda exists. <==\n",
            "  current version: 4.11.0\n",
            "  latest version: 4.12.0\n",
            "\n",
            "Please update conda by running\n",
            "\n",
            "    $ conda update -n base -c defaults conda\n",
            "\n",
            "\n",
            "\n",
            "## Package Plan ##\n",
            "\n",
            "  environment location: /root/conda/envs/lab\n",
            "\n",
            "  added / updated specs:\n",
            "    - bedtools\n",
            "    - biopython\n",
            "    - bwa\n",
            "    - cython\n",
            "    - matplotlib\n",
            "    - numpy\n",
            "    - pandas\n",
            "    - pip\n",
            "    - pysam\n",
            "    - samtools\n",
            "    - scipy\n",
            "    - star\n",
            "\n",
            "\n",
            "The following packages will be downloaded:\n",
            "\n",
            "    package                    |            build\n",
            "    ---------------------------|-----------------\n",
            "    _libgcc_mutex-0.1          |      conda_forge           3 KB  conda-forge\n",
            "    _openmp_mutex-4.5          |            2_gnu          23 KB  conda-forge\n",
            "    alsa-lib-1.2.3.2           |       h166bdaf_0         554 KB  conda-forge\n",
            "    bedtools-2.30.0            |       h468198e_3        15.5 MB  bioconda\n",
            "    biopython-1.79             |   py39h3811e60_1         2.6 MB  conda-forge\n",
            "    brotli-1.0.9               |       h166bdaf_7          18 KB  conda-forge\n",
            "    brotli-bin-1.0.9           |       h166bdaf_7          19 KB  conda-forge\n",
            "    bwa-0.7.17                 |       h7132678_9         187 KB  bioconda\n",
            "    bzip2-1.0.8                |       h7f98852_4         484 KB  conda-forge\n",
            "    c-ares-1.18.1              |       h7f98852_0         113 KB  conda-forge\n",
            "    ca-certificates-2021.10.8  |       ha878542_0         139 KB  conda-forge\n",
            "    certifi-2021.10.8          |   py39hf3d152e_2         145 KB  conda-forge\n",
            "    cycler-0.11.0              |     pyhd8ed1ab_0          10 KB  conda-forge\n",
            "    cython-0.29.28             |   py39h5a03fae_2         2.1 MB  conda-forge\n",
            "    dbus-1.13.6                |       h5008d03_3         604 KB  conda-forge\n",
            "    expat-2.4.8                |       h27087fc_0         187 KB  conda-forge\n",
            "    fontconfig-2.14.0          |       h8e229c2_0         305 KB  conda-forge\n",
            "    fonttools-4.33.3           |   py39hb9d737c_0         1.6 MB  conda-forge\n",
            "    freetype-2.10.4            |       h0708190_1         890 KB  conda-forge\n",
            "    gettext-0.19.8.1           |    h73d1719_1008         3.6 MB  conda-forge\n",
            "    giflib-5.2.1               |       h36c2ea0_2          77 KB  conda-forge\n",
            "    gst-plugins-base-1.18.5    |       hf529b03_3         2.6 MB  conda-forge\n",
            "    gstreamer-1.18.5           |       h9f60fe5_3         2.0 MB  conda-forge\n",
            "    htslib-1.15.1              |       h9753748_0         2.1 MB  bioconda\n",
            "    icu-68.2                   |       h9c3ff4c_0        13.1 MB  conda-forge\n",
            "    jbig-2.1                   |    h7f98852_2003          43 KB  conda-forge\n",
            "    jpeg-9e                    |       h166bdaf_1         268 KB  conda-forge\n",
            "    keyutils-1.6.1             |       h166bdaf_0         115 KB  conda-forge\n",
            "    kiwisolver-1.4.2           |   py39hf939315_1          75 KB  conda-forge\n",
            "    krb5-1.19.3                |       h3790be6_0         1.4 MB  conda-forge\n",
            "    lcms2-2.12                 |       hddcbb42_0         443 KB  conda-forge\n",
            "    ld_impl_linux-64-2.36.1    |       hea4e1c9_2         667 KB  conda-forge\n",
            "    lerc-3.0                   |       h9c3ff4c_0         216 KB  conda-forge\n",
            "    libblas-3.9.0              |14_linux64_openblas          12 KB  conda-forge\n",
            "    libbrotlicommon-1.0.9      |       h166bdaf_7          65 KB  conda-forge\n",
            "    libbrotlidec-1.0.9         |       h166bdaf_7          33 KB  conda-forge\n",
            "    libbrotlienc-1.0.9         |       h166bdaf_7         287 KB  conda-forge\n",
            "    libcblas-3.9.0             |14_linux64_openblas          12 KB  conda-forge\n",
            "    libclang-11.1.0            |default_ha53f305_1        19.2 MB  conda-forge\n",
            "    libcurl-7.83.0             |       h7bff187_0         342 KB  conda-forge\n",
            "    libdeflate-1.10            |       h7f98852_0          77 KB  conda-forge\n",
            "    libedit-3.1.20191231       |       he28a2e2_2         121 KB  conda-forge\n",
            "    libev-4.33                 |       h516909a_1         104 KB  conda-forge\n",
            "    libevent-2.1.10            |       h9b69904_4         1.1 MB  conda-forge\n",
            "    libffi-3.4.2               |       h7f98852_5          57 KB  conda-forge\n",
            "    libgcc-ng-11.2.0           |      h1d223b6_16         902 KB  conda-forge\n",
            "    libgfortran-ng-11.2.0      |      h69a702a_16          23 KB  conda-forge\n",
            "    libgfortran5-11.2.0        |      h5c6108e_16         1.7 MB  conda-forge\n",
            "    libglib-2.70.2             |       h174f98d_4         3.1 MB  conda-forge\n",
            "    libgomp-11.2.0             |      h1d223b6_16         428 KB  conda-forge\n",
            "    libiconv-1.16              |       h516909a_0         1.4 MB  conda-forge\n",
            "    liblapack-3.9.0            |14_linux64_openblas          12 KB  conda-forge\n",
            "    libllvm11-11.1.0           |       hf817b99_3        29.1 MB  conda-forge\n",
            "    libnghttp2-1.47.0          |       h727a467_0         808 KB  conda-forge\n",
            "    libnsl-2.0.0               |       h7f98852_0          31 KB  conda-forge\n",
            "    libogg-1.3.4               |       h7f98852_1         206 KB  conda-forge\n",
            "    libopenblas-0.3.20         |pthreads_h78a6416_0        10.1 MB  conda-forge\n",
            "    libopus-1.3.1              |       h7f98852_1         255 KB  conda-forge\n",
            "    libpng-1.6.37              |       h21135ba_2         306 KB  conda-forge\n",
            "    libpq-13.5                 |       hd57d9b9_1         2.8 MB  conda-forge\n",
            "    libssh2-1.10.0             |       ha56f1ee_2         233 KB  conda-forge\n",
            "    libstdcxx-ng-11.2.0        |      he4da1e4_16         4.2 MB  conda-forge\n",
            "    libtiff-4.3.0              |       h542a066_3         638 KB  conda-forge\n",
            "    libuuid-2.32.1             |    h7f98852_1000          28 KB  conda-forge\n",
            "    libvorbis-1.3.7            |       h9c3ff4c_0         280 KB  conda-forge\n",
            "    libwebp-1.2.2              |       h3452ae3_0          85 KB  conda-forge\n",
            "    libwebp-base-1.2.2         |       h7f98852_1         824 KB  conda-forge\n",
            "    libxcb-1.13                |    h7f98852_1004         391 KB  conda-forge\n",
            "    libxkbcommon-1.0.3         |       he3ba5ed_0         581 KB  conda-forge\n",
            "    libxml2-2.9.10             |       h72842e0_4         774 KB  conda-forge\n",
            "    libzlib-1.2.11             |    h166bdaf_1014          60 KB  conda-forge\n",
            "    lz4-c-1.9.3                |       h9c3ff4c_1         179 KB  conda-forge\n",
            "    matplotlib-3.5.2           |   py39hf3d152e_0           6 KB  conda-forge\n",
            "    matplotlib-base-3.5.2      |   py39h700656a_0         7.3 MB  conda-forge\n",
            "    munkres-1.1.4              |     pyh9f0ad1d_0          12 KB  conda-forge\n",
            "    mysql-common-8.0.29        |       haf5c9bc_0         1.8 MB  conda-forge\n",
            "    mysql-libs-8.0.29          |       h28c427c_0         1.9 MB  conda-forge\n",
            "    ncurses-6.3                |       h27087fc_1        1002 KB  conda-forge\n",
            "    nspr-4.32                  |       h9c3ff4c_1         233 KB  conda-forge\n",
            "    nss-3.77                   |       h2350873_0         2.1 MB  conda-forge\n",
            "    numpy-1.22.3               |   py39hc58783e_2         6.8 MB  conda-forge\n",
            "    openjpeg-2.4.0             |       hb52868f_1         444 KB  conda-forge\n",
            "    openssl-1.1.1o             |       h166bdaf_0         2.1 MB  conda-forge\n",
            "    packaging-21.3             |     pyhd8ed1ab_0          36 KB  conda-forge\n",
            "    pandas-1.4.2               |   py39h1832856_1        12.5 MB  conda-forge\n",
            "    pcre-8.45                  |       h9c3ff4c_0         253 KB  conda-forge\n",
            "    perl-5.32.1                | 2_h7f98852_perl5        14.4 MB  conda-forge\n",
            "    pillow-9.1.0               |   py39hae2aec6_2        45.0 MB  conda-forge\n",
            "    pip-22.0.4                 |     pyhd8ed1ab_0         1.5 MB  conda-forge\n",
            "    pthread-stubs-0.4          |    h36c2ea0_1001           5 KB  conda-forge\n",
            "    pyparsing-3.0.9            |     pyhd8ed1ab_0          79 KB  conda-forge\n",
            "    pyqt-5.12.3                |   py39hf3d152e_8          22 KB  conda-forge\n",
            "    pyqt-impl-5.12.3           |   py39hde8b62d_8         5.9 MB  conda-forge\n",
            "    pyqt5-sip-4.19.18          |   py39he80948d_8         311 KB  conda-forge\n",
            "    pyqtchart-5.12             |   py39h0fcd23e_8         257 KB  conda-forge\n",
            "    pyqtwebengine-5.12.1       |   py39h0fcd23e_8         174 KB  conda-forge\n",
            "    pysam-0.19.0               |   py39h5030a8b_0         2.7 MB  bioconda\n",
            "    python-3.9.12              |h9a8a25e_1_cpython        26.7 MB  conda-forge\n",
            "    python-dateutil-2.8.2      |     pyhd8ed1ab_0         240 KB  conda-forge\n",
            "    python_abi-3.9             |           2_cp39           4 KB  conda-forge\n",
            "    pytz-2022.1                |     pyhd8ed1ab_0         242 KB  conda-forge\n",
            "    qt-5.12.9                  |       hda022c4_4        99.5 MB  conda-forge\n",
            "    readline-8.1               |       h46c0cb4_0         295 KB  conda-forge\n",
            "    samtools-1.15.1            |       h1170115_0         393 KB  bioconda\n",
            "    scipy-1.8.0                |   py39hee8e79c_1        25.4 MB  conda-forge\n",
            "    setuptools-62.2.0          |   py39hf3d152e_0         1.2 MB  conda-forge\n",
            "    six-1.16.0                 |     pyh6c4a22f_0          14 KB  conda-forge\n",
            "    sqlite-3.38.5              |       h4ff8645_0         1.5 MB  conda-forge\n",
            "    star-2.7.10a               |       h9ee0642_0         4.9 MB  bioconda\n",
            "    tk-8.6.12                  |       h27826a3_0         3.3 MB  conda-forge\n",
            "    tornado-6.1                |   py39hb9d737c_3         649 KB  conda-forge\n",
            "    tzdata-2022a               |       h191b570_0         121 KB  conda-forge\n",
            "    unicodedata2-14.0.0        |   py39hb9d737c_1         498 KB  conda-forge\n",
            "    wheel-0.37.1               |     pyhd8ed1ab_0          31 KB  conda-forge\n",
            "    xorg-libxau-1.0.9          |       h7f98852_0          13 KB  conda-forge\n",
            "    xorg-libxdmcp-1.1.3        |       h7f98852_0          19 KB  conda-forge\n",
            "    xz-5.2.5                   |       h516909a_1         343 KB  conda-forge\n",
            "    zlib-1.2.11                |    h166bdaf_1014          88 KB  conda-forge\n",
            "    zstd-1.5.2                 |       ha95c52a_0         458 KB  conda-forge\n",
            "    ------------------------------------------------------------\n",
            "                                           Total:       405.6 MB\n",
            "\n",
            "The following NEW packages will be INSTALLED:\n",
            "\n",
            "  _libgcc_mutex      conda-forge/linux-64::_libgcc_mutex-0.1-conda_forge\n",
            "  _openmp_mutex      conda-forge/linux-64::_openmp_mutex-4.5-2_gnu\n",
            "  alsa-lib           conda-forge/linux-64::alsa-lib-1.2.3.2-h166bdaf_0\n",
            "  bedtools           bioconda/linux-64::bedtools-2.30.0-h468198e_3\n",
            "  biopython          conda-forge/linux-64::biopython-1.79-py39h3811e60_1\n",
            "  brotli             conda-forge/linux-64::brotli-1.0.9-h166bdaf_7\n",
            "  brotli-bin         conda-forge/linux-64::brotli-bin-1.0.9-h166bdaf_7\n",
            "  bwa                bioconda/linux-64::bwa-0.7.17-h7132678_9\n",
            "  bzip2              conda-forge/linux-64::bzip2-1.0.8-h7f98852_4\n",
            "  c-ares             conda-forge/linux-64::c-ares-1.18.1-h7f98852_0\n",
            "  ca-certificates    conda-forge/linux-64::ca-certificates-2021.10.8-ha878542_0\n",
            "  certifi            conda-forge/linux-64::certifi-2021.10.8-py39hf3d152e_2\n",
            "  cycler             conda-forge/noarch::cycler-0.11.0-pyhd8ed1ab_0\n",
            "  cython             conda-forge/linux-64::cython-0.29.28-py39h5a03fae_2\n",
            "  dbus               conda-forge/linux-64::dbus-1.13.6-h5008d03_3\n",
            "  expat              conda-forge/linux-64::expat-2.4.8-h27087fc_0\n",
            "  fontconfig         conda-forge/linux-64::fontconfig-2.14.0-h8e229c2_0\n",
            "  fonttools          conda-forge/linux-64::fonttools-4.33.3-py39hb9d737c_0\n",
            "  freetype           conda-forge/linux-64::freetype-2.10.4-h0708190_1\n",
            "  gettext            conda-forge/linux-64::gettext-0.19.8.1-h73d1719_1008\n",
            "  giflib             conda-forge/linux-64::giflib-5.2.1-h36c2ea0_2\n",
            "  gst-plugins-base   conda-forge/linux-64::gst-plugins-base-1.18.5-hf529b03_3\n",
            "  gstreamer          conda-forge/linux-64::gstreamer-1.18.5-h9f60fe5_3\n",
            "  htslib             bioconda/linux-64::htslib-1.15.1-h9753748_0\n",
            "  icu                conda-forge/linux-64::icu-68.2-h9c3ff4c_0\n",
            "  jbig               conda-forge/linux-64::jbig-2.1-h7f98852_2003\n",
            "  jpeg               conda-forge/linux-64::jpeg-9e-h166bdaf_1\n",
            "  keyutils           conda-forge/linux-64::keyutils-1.6.1-h166bdaf_0\n",
            "  kiwisolver         conda-forge/linux-64::kiwisolver-1.4.2-py39hf939315_1\n",
            "  krb5               conda-forge/linux-64::krb5-1.19.3-h3790be6_0\n",
            "  lcms2              conda-forge/linux-64::lcms2-2.12-hddcbb42_0\n",
            "  ld_impl_linux-64   conda-forge/linux-64::ld_impl_linux-64-2.36.1-hea4e1c9_2\n",
            "  lerc               conda-forge/linux-64::lerc-3.0-h9c3ff4c_0\n",
            "  libblas            conda-forge/linux-64::libblas-3.9.0-14_linux64_openblas\n",
            "  libbrotlicommon    conda-forge/linux-64::libbrotlicommon-1.0.9-h166bdaf_7\n",
            "  libbrotlidec       conda-forge/linux-64::libbrotlidec-1.0.9-h166bdaf_7\n",
            "  libbrotlienc       conda-forge/linux-64::libbrotlienc-1.0.9-h166bdaf_7\n",
            "  libcblas           conda-forge/linux-64::libcblas-3.9.0-14_linux64_openblas\n",
            "  libclang           conda-forge/linux-64::libclang-11.1.0-default_ha53f305_1\n",
            "  libcurl            conda-forge/linux-64::libcurl-7.83.0-h7bff187_0\n",
            "  libdeflate         conda-forge/linux-64::libdeflate-1.10-h7f98852_0\n",
            "  libedit            conda-forge/linux-64::libedit-3.1.20191231-he28a2e2_2\n",
            "  libev              conda-forge/linux-64::libev-4.33-h516909a_1\n",
            "  libevent           conda-forge/linux-64::libevent-2.1.10-h9b69904_4\n",
            "  libffi             conda-forge/linux-64::libffi-3.4.2-h7f98852_5\n",
            "  libgcc-ng          conda-forge/linux-64::libgcc-ng-11.2.0-h1d223b6_16\n",
            "  libgfortran-ng     conda-forge/linux-64::libgfortran-ng-11.2.0-h69a702a_16\n",
            "  libgfortran5       conda-forge/linux-64::libgfortran5-11.2.0-h5c6108e_16\n",
            "  libglib            conda-forge/linux-64::libglib-2.70.2-h174f98d_4\n",
            "  libgomp            conda-forge/linux-64::libgomp-11.2.0-h1d223b6_16\n",
            "  libiconv           conda-forge/linux-64::libiconv-1.16-h516909a_0\n",
            "  liblapack          conda-forge/linux-64::liblapack-3.9.0-14_linux64_openblas\n",
            "  libllvm11          conda-forge/linux-64::libllvm11-11.1.0-hf817b99_3\n",
            "  libnghttp2         conda-forge/linux-64::libnghttp2-1.47.0-h727a467_0\n",
            "  libnsl             conda-forge/linux-64::libnsl-2.0.0-h7f98852_0\n",
            "  libogg             conda-forge/linux-64::libogg-1.3.4-h7f98852_1\n",
            "  libopenblas        conda-forge/linux-64::libopenblas-0.3.20-pthreads_h78a6416_0\n",
            "  libopus            conda-forge/linux-64::libopus-1.3.1-h7f98852_1\n",
            "  libpng             conda-forge/linux-64::libpng-1.6.37-h21135ba_2\n",
            "  libpq              conda-forge/linux-64::libpq-13.5-hd57d9b9_1\n",
            "  libssh2            conda-forge/linux-64::libssh2-1.10.0-ha56f1ee_2\n",
            "  libstdcxx-ng       conda-forge/linux-64::libstdcxx-ng-11.2.0-he4da1e4_16\n",
            "  libtiff            conda-forge/linux-64::libtiff-4.3.0-h542a066_3\n",
            "  libuuid            conda-forge/linux-64::libuuid-2.32.1-h7f98852_1000\n",
            "  libvorbis          conda-forge/linux-64::libvorbis-1.3.7-h9c3ff4c_0\n",
            "  libwebp            conda-forge/linux-64::libwebp-1.2.2-h3452ae3_0\n",
            "  libwebp-base       conda-forge/linux-64::libwebp-base-1.2.2-h7f98852_1\n",
            "  libxcb             conda-forge/linux-64::libxcb-1.13-h7f98852_1004\n",
            "  libxkbcommon       conda-forge/linux-64::libxkbcommon-1.0.3-he3ba5ed_0\n",
            "  libxml2            conda-forge/linux-64::libxml2-2.9.10-h72842e0_4\n",
            "  libzlib            conda-forge/linux-64::libzlib-1.2.11-h166bdaf_1014\n",
            "  lz4-c              conda-forge/linux-64::lz4-c-1.9.3-h9c3ff4c_1\n",
            "  matplotlib         conda-forge/linux-64::matplotlib-3.5.2-py39hf3d152e_0\n",
            "  matplotlib-base    conda-forge/linux-64::matplotlib-base-3.5.2-py39h700656a_0\n",
            "  munkres            conda-forge/noarch::munkres-1.1.4-pyh9f0ad1d_0\n",
            "  mysql-common       conda-forge/linux-64::mysql-common-8.0.29-haf5c9bc_0\n",
            "  mysql-libs         conda-forge/linux-64::mysql-libs-8.0.29-h28c427c_0\n",
            "  ncurses            conda-forge/linux-64::ncurses-6.3-h27087fc_1\n",
            "  nspr               conda-forge/linux-64::nspr-4.32-h9c3ff4c_1\n",
            "  nss                conda-forge/linux-64::nss-3.77-h2350873_0\n",
            "  numpy              conda-forge/linux-64::numpy-1.22.3-py39hc58783e_2\n",
            "  openjpeg           conda-forge/linux-64::openjpeg-2.4.0-hb52868f_1\n",
            "  openssl            conda-forge/linux-64::openssl-1.1.1o-h166bdaf_0\n",
            "  packaging          conda-forge/noarch::packaging-21.3-pyhd8ed1ab_0\n",
            "  pandas             conda-forge/linux-64::pandas-1.4.2-py39h1832856_1\n",
            "  pcre               conda-forge/linux-64::pcre-8.45-h9c3ff4c_0\n",
            "  perl               conda-forge/linux-64::perl-5.32.1-2_h7f98852_perl5\n",
            "  pillow             conda-forge/linux-64::pillow-9.1.0-py39hae2aec6_2\n",
            "  pip                conda-forge/noarch::pip-22.0.4-pyhd8ed1ab_0\n",
            "  pthread-stubs      conda-forge/linux-64::pthread-stubs-0.4-h36c2ea0_1001\n",
            "  pyparsing          conda-forge/noarch::pyparsing-3.0.9-pyhd8ed1ab_0\n",
            "  pyqt               conda-forge/linux-64::pyqt-5.12.3-py39hf3d152e_8\n",
            "  pyqt-impl          conda-forge/linux-64::pyqt-impl-5.12.3-py39hde8b62d_8\n",
            "  pyqt5-sip          conda-forge/linux-64::pyqt5-sip-4.19.18-py39he80948d_8\n",
            "  pyqtchart          conda-forge/linux-64::pyqtchart-5.12-py39h0fcd23e_8\n",
            "  pyqtwebengine      conda-forge/linux-64::pyqtwebengine-5.12.1-py39h0fcd23e_8\n",
            "  pysam              bioconda/linux-64::pysam-0.19.0-py39h5030a8b_0\n",
            "  python             conda-forge/linux-64::python-3.9.12-h9a8a25e_1_cpython\n",
            "  python-dateutil    conda-forge/noarch::python-dateutil-2.8.2-pyhd8ed1ab_0\n",
            "  python_abi         conda-forge/linux-64::python_abi-3.9-2_cp39\n",
            "  pytz               conda-forge/noarch::pytz-2022.1-pyhd8ed1ab_0\n",
            "  qt                 conda-forge/linux-64::qt-5.12.9-hda022c4_4\n",
            "  readline           conda-forge/linux-64::readline-8.1-h46c0cb4_0\n",
            "  samtools           bioconda/linux-64::samtools-1.15.1-h1170115_0\n",
            "  scipy              conda-forge/linux-64::scipy-1.8.0-py39hee8e79c_1\n",
            "  setuptools         conda-forge/linux-64::setuptools-62.2.0-py39hf3d152e_0\n",
            "  six                conda-forge/noarch::six-1.16.0-pyh6c4a22f_0\n",
            "  sqlite             conda-forge/linux-64::sqlite-3.38.5-h4ff8645_0\n",
            "  star               bioconda/linux-64::star-2.7.10a-h9ee0642_0\n",
            "  tk                 conda-forge/linux-64::tk-8.6.12-h27826a3_0\n",
            "  tornado            conda-forge/linux-64::tornado-6.1-py39hb9d737c_3\n",
            "  tzdata             conda-forge/noarch::tzdata-2022a-h191b570_0\n",
            "  unicodedata2       conda-forge/linux-64::unicodedata2-14.0.0-py39hb9d737c_1\n",
            "  wheel              conda-forge/noarch::wheel-0.37.1-pyhd8ed1ab_0\n",
            "  xorg-libxau        conda-forge/linux-64::xorg-libxau-1.0.9-h7f98852_0\n",
            "  xorg-libxdmcp      conda-forge/linux-64::xorg-libxdmcp-1.1.3-h7f98852_0\n",
            "  xz                 conda-forge/linux-64::xz-5.2.5-h516909a_1\n",
            "  zlib               conda-forge/linux-64::zlib-1.2.11-h166bdaf_1014\n",
            "  zstd               conda-forge/linux-64::zstd-1.5.2-ha95c52a_0\n",
            "\n",
            "\n",
            "\n",
            "Downloading and Extracting Packages\n",
            "libpng-1.6.37        | 306 KB    | : 100% 1.0/1 [00:00<00:00,  5.59it/s]\n",
            "gettext-0.19.8.1     | 3.6 MB    | : 100% 1.0/1 [00:01<00:00,  1.44s/it]\n",
            "ld_impl_linux-64-2.3 | 667 KB    | : 100% 1.0/1 [00:00<00:00,  3.94it/s]\n",
            "jbig-2.1             | 43 KB     | : 100% 1.0/1 [00:00<00:00, 20.72it/s]\n",
            "python_abi-3.9       | 4 KB      | : 100% 1.0/1 [00:00<00:00, 23.04it/s]\n",
            "xz-5.2.5             | 343 KB    | : 100% 1.0/1 [00:00<00:00,  7.38it/s]\n",
            "qt-5.12.9            | 99.5 MB   | : 100% 1.0/1 [00:31<00:00, 31.14s/it]               \n",
            "libbrotlienc-1.0.9   | 287 KB    | : 100% 1.0/1 [00:00<00:00,  7.66it/s]\n",
            "pyqt-impl-5.12.3     | 5.9 MB    | : 100% 1.0/1 [00:02<00:00,  2.22s/it]\n",
            "six-1.16.0           | 14 KB     | : 100% 1.0/1 [00:00<00:00,  1.97it/s]\n",
            "pyqtwebengine-5.12.1 | 174 KB    | : 100% 1.0/1 [00:00<00:00,  7.94it/s]\n",
            "kiwisolver-1.4.2     | 75 KB     | : 100% 1.0/1 [00:00<00:00, 18.31it/s]\n",
            "matplotlib-base-3.5. | 7.3 MB    | : 100% 1.0/1 [00:02<00:00,  2.29s/it]               \n",
            "alsa-lib-1.2.3.2     | 554 KB    | : 100% 1.0/1 [00:00<00:00,  5.06it/s]\n",
            "pillow-9.1.0         | 45.0 MB   | : 100% 1.0/1 [00:09<00:00,  9.33s/it]\n",
            "zlib-1.2.11          | 88 KB     | : 100% 1.0/1 [00:00<00:00, 14.74it/s]\n",
            "fontconfig-2.14.0    | 305 KB    | : 100% 1.0/1 [00:00<00:00,  7.18it/s]\n",
            "openjpeg-2.4.0       | 444 KB    | : 100% 1.0/1 [00:00<00:00,  5.88it/s]\n",
            "scipy-1.8.0          | 25.4 MB   | : 100% 1.0/1 [00:07<00:00,  7.18s/it]               \n",
            "brotli-1.0.9         | 18 KB     | : 100% 1.0/1 [00:00<00:00, 16.08it/s]\n",
            "libopus-1.3.1        | 255 KB    | : 100% 1.0/1 [00:00<00:00,  7.42it/s]\n",
            "expat-2.4.8          | 187 KB    | : 100% 1.0/1 [00:00<00:00, 11.47it/s]\n",
            "tk-8.6.12            | 3.3 MB    | : 100% 1.0/1 [00:00<00:00,  1.04it/s]\n",
            "brotli-bin-1.0.9     | 19 KB     | : 100% 1.0/1 [00:00<00:00, 24.46it/s]\n",
            "libxkbcommon-1.0.3   | 581 KB    | : 100% 1.0/1 [00:00<00:00,  5.88it/s]\n",
            "wheel-0.37.1         | 31 KB     | : 100% 1.0/1 [00:00<00:00, 20.06it/s]\n",
            "pyqt5-sip-4.19.18    | 311 KB    | : 100% 1.0/1 [00:00<00:00,  8.62it/s]\n",
            "libnghttp2-1.47.0    | 808 KB    | : 100% 1.0/1 [00:00<00:00,  4.18it/s]\n",
            "pip-22.0.4           | 1.5 MB    | : 100% 1.0/1 [00:00<00:00,  1.74it/s]\n",
            "keyutils-1.6.1       | 115 KB    | : 100% 1.0/1 [00:00<00:00, 13.66it/s]\n",
            "jpeg-9e              | 268 KB    | : 100% 1.0/1 [00:00<00:00,  7.92it/s]\n",
            "xorg-libxdmcp-1.1.3  | 19 KB     | : 100% 1.0/1 [00:00<00:00, 20.52it/s]\n",
            "cython-0.29.28       | 2.1 MB    | : 100% 1.0/1 [00:00<00:00,  1.34it/s]\n",
            "python-3.9.12        | 26.7 MB   | : 100% 1.0/1 [00:06<00:00,  6.99s/it]\n",
            "nspr-4.32            | 233 KB    | : 100% 1.0/1 [00:00<00:00,  6.99it/s]\n",
            "pandas-1.4.2         | 12.5 MB   | : 100% 1.0/1 [00:04<00:00,  4.68s/it]\n",
            "libwebp-1.2.2        | 85 KB     | : 100% 1.0/1 [00:00<00:00, 18.87it/s]\n",
            "readline-8.1         | 295 KB    | : 100% 1.0/1 [00:00<00:00,  8.81it/s]\n",
            "samtools-1.15.1      | 393 KB    | : 100% 1.0/1 [00:00<00:00,  7.87it/s]\n",
            "libxml2-2.9.10       | 774 KB    | : 100% 1.0/1 [00:00<00:00,  4.87it/s]\n",
            "cycler-0.11.0        | 10 KB     | : 100% 1.0/1 [00:00<00:00, 18.89it/s]\n",
            "setuptools-62.2.0    | 1.2 MB    | : 100% 1.0/1 [00:00<00:00,  1.85it/s]\n",
            "libwebp-base-1.2.2   | 824 KB    | : 100% 1.0/1 [00:00<00:00,  3.60it/s]\n",
            "libevent-2.1.10      | 1.1 MB    | : 100% 1.0/1 [00:00<00:00,  2.26it/s]\n",
            "matplotlib-3.5.2     | 6 KB      | : 100% 1.0/1 [00:00<00:00, 29.69it/s]\n",
            "libvorbis-1.3.7      | 280 KB    | : 100% 1.0/1 [00:00<00:00,  9.33it/s]\n",
            "giflib-5.2.1         | 77 KB     | : 100% 1.0/1 [00:00<00:00, 15.26it/s]\n",
            "unicodedata2-14.0.0  | 498 KB    | : 100% 1.0/1 [00:00<00:00,  7.69it/s]\n",
            "libnsl-2.0.0         | 31 KB     | : 100% 1.0/1 [00:00<00:00, 18.15it/s]\n",
            "libxcb-1.13          | 391 KB    | : 100% 1.0/1 [00:00<00:00,  4.49it/s]\n",
            "pcre-8.45            | 253 KB    | : 100% 1.0/1 [00:00<00:00,  7.76it/s]\n",
            "libstdcxx-ng-11.2.0  | 4.2 MB    | : 100% 1.0/1 [00:01<00:00,  1.05s/it]               \n",
            "pyqt-5.12.3          | 22 KB     | : 100% 1.0/1 [00:00<00:00, 18.67it/s]\n",
            "munkres-1.1.4        | 12 KB     | : 100% 1.0/1 [00:00<00:00, 21.23it/s]\n",
            "zstd-1.5.2           | 458 KB    | : 100% 1.0/1 [00:00<00:00,  6.50it/s]\n",
            "liblapack-3.9.0      | 12 KB     | : 100% 1.0/1 [00:00<00:00, 27.78it/s]\n",
            "sqlite-3.38.5        | 1.5 MB    | : 100% 1.0/1 [00:00<00:00,  2.41it/s]\n",
            "freetype-2.10.4      | 890 KB    | : 100% 1.0/1 [00:00<00:00,  3.85it/s]\n",
            "pthread-stubs-0.4    | 5 KB      | : 100% 1.0/1 [00:00<00:00, 25.76it/s]\n",
            "lz4-c-1.9.3          | 179 KB    | : 100% 1.0/1 [00:00<00:00, 12.76it/s]\n",
            "lerc-3.0             | 216 KB    | : 100% 1.0/1 [00:00<00:00, 12.33it/s]\n",
            "fonttools-4.33.3     | 1.6 MB    | : 100% 1.0/1 [00:00<00:00,  1.46it/s]\n",
            "bzip2-1.0.8          | 484 KB    | : 100% 1.0/1 [00:00<00:00,  5.87it/s]\n",
            "star-2.7.10a         | 4.9 MB    | : 100% 1.0/1 [00:01<00:00,  1.15s/it]              \n",
            "libcblas-3.9.0       | 12 KB     | : 100% 1.0/1 [00:00<00:00, 26.06it/s]\n",
            "numpy-1.22.3         | 6.8 MB    | : 100% 1.0/1 [00:02<00:00,  2.43s/it]               \n",
            "gstreamer-1.18.5     | 2.0 MB    | : 100% 1.0/1 [00:00<00:00,  1.26it/s]\n",
            "libcurl-7.83.0       | 342 KB    | : 100% 1.0/1 [00:00<00:00,  7.73it/s]\n",
            "dbus-1.13.6          | 604 KB    | : 100% 1.0/1 [00:00<00:00,  3.84it/s]\n",
            "nss-3.77             | 2.1 MB    | : 100% 1.0/1 [00:00<00:00,  1.49it/s]\n",
            "libssh2-1.10.0       | 233 KB    | : 100% 1.0/1 [00:00<00:00,  4.44it/s]                \n",
            "libev-4.33           | 104 KB    | : 100% 1.0/1 [00:00<00:00, 15.54it/s]\n",
            "libgfortran5-11.2.0  | 1.7 MB    | : 100% 1.0/1 [00:00<00:00,  2.03it/s]\n",
            "libuuid-2.32.1       | 28 KB     | : 100% 1.0/1 [00:00<00:00, 24.22it/s]\n",
            "libzlib-1.2.11       | 60 KB     | : 100% 1.0/1 [00:00<00:00, 19.48it/s]\n",
            "perl-5.32.1          | 14.4 MB   | : 100% 1.0/1 [00:06<00:00,  6.07s/it]\n",
            "tornado-6.1          | 649 KB    | : 100% 1.0/1 [00:00<00:00,  2.79it/s]\n",
            "certifi-2021.10.8    | 145 KB    | : 100% 1.0/1 [00:00<00:00, 17.03it/s]\n",
            "lcms2-2.12           | 443 KB    | : 100% 1.0/1 [00:00<00:00,  5.85it/s]\n",
            "libffi-3.4.2         | 57 KB     | : 100% 1.0/1 [00:00<00:00, 19.68it/s]\n",
            "icu-68.2             | 13.1 MB   | : 100% 1.0/1 [00:03<00:00,  3.04s/it]\n",
            "libdeflate-1.10      | 77 KB     | : 100% 1.0/1 [00:00<00:00, 17.18it/s]\n",
            "htslib-1.15.1        | 2.1 MB    | : 100% 1.0/1 [00:00<00:00,  1.85it/s]\n",
            "libgomp-11.2.0       | 428 KB    | : 100% 1.0/1 [00:00<00:00,  7.57it/s]\n",
            "xorg-libxau-1.0.9    | 13 KB     | : 100% 1.0/1 [00:00<00:00, 25.20it/s]\n",
            "libopenblas-0.3.20   | 10.1 MB   | : 100% 1.0/1 [00:02<00:00,  2.55s/it]               \n",
            "packaging-21.3       | 36 KB     | : 100% 1.0/1 [00:00<00:00, 15.36it/s]\n",
            "_libgcc_mutex-0.1    | 3 KB      | : 100% 1.0/1 [00:00<00:00, 18.61it/s]\n",
            "ca-certificates-2021 | 139 KB    | : 100% 1.0/1 [00:00<00:00, 12.92it/s]\n",
            "libgcc-ng-11.2.0     | 902 KB    | : 100% 1.0/1 [00:00<00:00,  4.82it/s]\n",
            "tzdata-2022a         | 121 KB    | : 100% 1.0/1 [00:00<00:00,  6.76it/s]\n",
            "gst-plugins-base-1.1 | 2.6 MB    | : 100% 1.0/1 [00:00<00:00,  1.15it/s]\n",
            "ncurses-6.3          | 1002 KB   | : 100% 1.0/1 [00:00<00:00,  1.66it/s]\n",
            "libiconv-1.16        | 1.4 MB    | : 100% 1.0/1 [00:00<00:00,  3.81it/s]\n",
            "biopython-1.79       | 2.6 MB    | : 100% 1.0/1 [00:01<00:00,  1.10s/it]\n",
            "libogg-1.3.4         | 206 KB    | : 100% 1.0/1 [00:00<00:00, 10.78it/s]\n",
            "libglib-2.70.2       | 3.1 MB    | : 100% 1.0/1 [00:01<00:00,  1.05s/it]\n",
            "pyparsing-3.0.9      | 79 KB     | : 100% 1.0/1 [00:00<00:00, 15.68it/s]\n",
            "libllvm11-11.1.0     | 29.1 MB   | : 100% 1.0/1 [00:08<00:00,  8.23s/it]\n",
            "pyqtchart-5.12       | 257 KB    | : 100% 1.0/1 [00:00<00:00,  8.06it/s]\n",
            "libbrotlicommon-1.0. | 65 KB     | : 100% 1.0/1 [00:00<00:00, 18.69it/s]\n",
            "mysql-libs-8.0.29    | 1.9 MB    | : 100% 1.0/1 [00:00<00:00,  1.98it/s]               \n",
            "openssl-1.1.1o       | 2.1 MB    | : 100% 1.0/1 [00:00<00:00,  1.81it/s]\n",
            "bedtools-2.30.0      | 15.5 MB   | : 100% 1.0/1 [00:04<00:00,  4.24s/it]               \n",
            "_openmp_mutex-4.5    | 23 KB     | : 100% 1.0/1 [00:00<00:00, 18.98it/s]\n",
            "bwa-0.7.17           | 187 KB    | : 100% 1.0/1 [00:00<00:00, 13.89it/s]\n",
            "libtiff-4.3.0        | 638 KB    | : 100% 1.0/1 [00:00<00:00,  4.56it/s]\n",
            "libgfortran-ng-11.2. | 23 KB     | : 100% 1.0/1 [00:00<00:00, 21.97it/s]\n",
            "mysql-common-8.0.29  | 1.8 MB    | : 100% 1.0/1 [00:01<00:00,  1.03s/it]\n",
            "libclang-11.1.0      | 19.2 MB   | : 100% 1.0/1 [00:05<00:00,  5.83s/it]\n",
            "libblas-3.9.0        | 12 KB     | : 100% 1.0/1 [00:00<00:00, 13.73it/s]\n",
            "c-ares-1.18.1        | 113 KB    | : 100% 1.0/1 [00:00<00:00, 11.32it/s]\n",
            "pysam-0.19.0         | 2.7 MB    | : 100% 1.0/1 [00:00<00:00,  1.50it/s]\n",
            "libpq-13.5           | 2.8 MB    | : 100% 1.0/1 [00:00<00:00,  1.02it/s]\n",
            "pytz-2022.1          | 242 KB    | : 100% 1.0/1 [00:00<00:00,  4.51it/s]\n",
            "krb5-1.19.3          | 1.4 MB    | : 100% 1.0/1 [00:00<00:00,  2.27it/s]\n",
            "python-dateutil-2.8. | 240 KB    | : 100% 1.0/1 [00:00<00:00,  9.10it/s]\n",
            "libedit-3.1.20191231 | 121 KB    | : 100% 1.0/1 [00:00<00:00, 15.05it/s]\n",
            "libbrotlidec-1.0.9   | 33 KB     | : 100% 1.0/1 [00:00<00:00, 20.04it/s]\n",
            "Preparing transaction: \\ \b\b| \b\b/ \b\b- \b\b\\ \b\b| \b\b/ \b\b- \b\b\\ \b\b| \b\b/ \b\b- \b\b\\ \b\b| \b\b/ \b\bdone\n",
            "Verifying transaction: \\ \b\b| \b\b/ \b\b- \b\b\\ \b\b| \b\b/ \b\b- \b\b\\ \b\b| \b\b/ \b\b- \b\b\\ \b\b| \b\b/ \b\b- \b\b\\ \b\b| \b\b/ \b\b- \b\b\\ \b\b| \b\b/ \b\b- \b\b\\ \b\b| \b\b/ \b\b- \b\b\\ \b\b| \b\b/ \b\b- \b\b\\ \b\b| \b\b/ \b\b- \b\b\\ \b\b| \b\b/ \b\b- \b\b\\ \b\b| \b\b/ \b\b- \b\b\\ \b\b| \b\b/ \b\b- \b\b\\ \b\b| \b\b/ \b\b- \b\b\\ \b\b| \b\b/ \b\b- \b\bdone\n",
            "Executing transaction: | \b\b/ \b\b- \b\b\\ \b\b| \b\b/ \b\b- \b\b\\ \b\b| \b\b/ \b\b- \b\b\\ \b\b| \b\b/ \b\b- \b\b\\ \b\b| \b\b/ \b\b- \b\b\\ \b\b| \b\b/ \b\b- \b\b\\ \b\b| \b\b/ \b\b- \b\b\\ \b\b| \b\b/ \b\b- \b\b\\ \b\b| \b\b/ \b\b- \b\b\\ \b\b| \b\b/ \b\b- \b\b\\ \b\b| \b\b/ \b\b- \b\b\\ \b\b| \b\b/ \b\b- \b\b\\ \b\b| \b\b/ \b\b- \b\b\\ \b\b| \b\b/ \b\bdone\n",
            "#\n",
            "# To activate this environment, use\n",
            "#\n",
            "#     $ conda activate lab\n",
            "#\n",
            "# To deactivate an active environment, use\n",
            "#\n",
            "#     $ conda deactivate\n",
            "\n",
            "Activated conda environment `lab'!\n"
          ]
        }
      ]
    },
    {
      "cell_type": "markdown",
      "metadata": {
        "id": "z6RiPiSRMuHb"
      },
      "source": [
        "지난 과제 때 받았던 시퀀싱 데이터 (binfo1-datapack1.tar)를 사용. 혹시 모르니 파일 위치 확인 및 MD5 체크섬 다시 확인.\n"
      ]
    },
    {
      "cell_type": "markdown",
      "metadata": {
        "id": "LRmsio_KMuHc"
      },
      "source": [
        "각 파일들의 원래 MD5 체크섬:\n",
        "\n",
        "```\n",
        "140aaf30bcb9276cc716f8699f04ddd6  CLIP-35L33G.bam\n",
        "f1b3336ed7e2f97d562dcc71641251bd  CLIP-35L33G.bam.bai\n",
        "328883a73d507eafbf5b60bd6b906201  RNA-control.bam\n",
        "02073818e2f398a73c3b76e5169de1ca  RNA-control.bam.bai\n",
        "b09550d09d6c2a4ce27f0226f426fdb1  RNA-siLin28a.bam\n",
        "fef112c727244060ea62d3f2564a07f6  RNA-siLin28a.bam.bai\n",
        "28bbd0c47d725669340c784f1b772c01  RNA-siLuc.bam\n",
        "43590fdc4d81905c0432e0d1cb8cfd5b  RNA-siLuc.bam.bai\n",
        "5c08a9297307bc83259e658c4474f0cc  RPF-siLin28a.bam\n",
        "a1bb3e29be412dfd7fd8d16b1b1acc4c  RPF-siLin28a.bam.bai\n",
        "f2eebf50943024d0116c9cd3e744c707  RPF-siLuc.bam\n",
        "dc24f69e8f571fc8be30f28ce5b84fcd  RPF-siLuc.bam.bai\n",
        "```"
      ]
    },
    {
      "cell_type": "code",
      "metadata": {
        "id": "g8lC_YJRBCPf",
        "colab": {
          "base_uri": "https://localhost:8080/"
        },
        "outputId": "cc203627-962e-43e2-fec8-ba289c738291"
      },
      "source": [
        "!md5sum drive/MyDrive/binfo1-datapack1/*"
      ],
      "execution_count": 4,
      "outputs": [
        {
          "output_type": "stream",
          "name": "stdout",
          "text": [
            "140aaf30bcb9276cc716f8699f04ddd6  drive/MyDrive/binfo1-datapack1/CLIP-35L33G.bam\n",
            "f1b3336ed7e2f97d562dcc71641251bd  drive/MyDrive/binfo1-datapack1/CLIP-35L33G.bam.bai\n",
            "0d33bf4b3a5ce22ba13a62323efd6883  drive/MyDrive/binfo1-datapack1/CLIP-let7g.bam\n",
            "4ea14471c5d4bf9ab1fd91b9a5b2193c  drive/MyDrive/binfo1-datapack1/CLIP-let7g-gene.pileup\n",
            "a53f66a5575d4ac2d3b4c44af576d44d  drive/MyDrive/binfo1-datapack1/CLIP-let7g.pileup\n",
            "md5sum: drive/MyDrive/binfo1-datapack1/colab-biolab: Is a directory\n",
            "md5sum: drive/MyDrive/binfo1-datapack1/entropy: Is a directory\n",
            "d54d428f5872030c4ffc43058709b896  drive/MyDrive/binfo1-datapack1/gencode.gtf\n",
            "f691d94ca9c72e6feedbfe4561dd5b83  drive/MyDrive/binfo1-datapack1/read-counts.txt\n",
            "7c9528c08ed2f1ae6e2de599db1aa8fb  drive/MyDrive/binfo1-datapack1/read-counts.txt.summary\n",
            "328883a73d507eafbf5b60bd6b906201  drive/MyDrive/binfo1-datapack1/RNA-control.bam\n",
            "02073818e2f398a73c3b76e5169de1ca  drive/MyDrive/binfo1-datapack1/RNA-control.bam.bai\n",
            "b09550d09d6c2a4ce27f0226f426fdb1  drive/MyDrive/binfo1-datapack1/RNA-siLin28a.bam\n",
            "fef112c727244060ea62d3f2564a07f6  drive/MyDrive/binfo1-datapack1/RNA-siLin28a.bam.bai\n",
            "28bbd0c47d725669340c784f1b772c01  drive/MyDrive/binfo1-datapack1/RNA-siLuc.bam\n",
            "43590fdc4d81905c0432e0d1cb8cfd5b  drive/MyDrive/binfo1-datapack1/RNA-siLuc.bam.bai\n",
            "5c08a9297307bc83259e658c4474f0cc  drive/MyDrive/binfo1-datapack1/RPF-siLin28a.bam\n",
            "a1bb3e29be412dfd7fd8d16b1b1acc4c  drive/MyDrive/binfo1-datapack1/RPF-siLin28a.bam.bai\n",
            "f2eebf50943024d0116c9cd3e744c707  drive/MyDrive/binfo1-datapack1/RPF-siLuc.bam\n",
            "dc24f69e8f571fc8be30f28ce5b84fcd  drive/MyDrive/binfo1-datapack1/RPF-siLuc.bam.bai\n",
            "3a3d25e3a3b66f2ab8cc89204255c01c  drive/MyDrive/binfo1-datapack1/test2.bam\n",
            "3a3d25e3a3b66f2ab8cc89204255c01c  drive/MyDrive/binfo1-datapack1/test.txt\n"
          ]
        }
      ]
    },
    {
      "cell_type": "code",
      "metadata": {
        "id": "PVXzIs5FE3Q4",
        "colab": {
          "base_uri": "https://localhost:8080/"
        },
        "outputId": "f25d0a66-d1cc-40f4-8527-3b6a7a34629b"
      },
      "source": [
        "!ls -al drive/MyDrive/binfo*"
      ],
      "execution_count": 5,
      "outputs": [
        {
          "output_type": "stream",
          "name": "stdout",
          "text": [
            "-rw------- 1 root root 6424668160 Apr 29 10:55 drive/MyDrive/binfo1-datapack1.tar\n",
            "\n",
            "drive/MyDrive/binfo1-datapack1:\n",
            "total 7162870\n",
            "-rw------- 1 root root 1370036258 May  2 01:01 CLIP-35L33G.bam\n",
            "-rw------- 1 root root    3118336 May  2 01:01 CLIP-35L33G.bam.bai\n",
            "-rw------- 1 root root       7077 May 11 12:17 CLIP-let7g.bam\n",
            "-rw------- 1 root root      14561 May 11 12:17 CLIP-let7g-gene.pileup\n",
            "-rw------- 1 root root    2685065 May 11 12:17 CLIP-let7g.pileup\n",
            "drwx------ 5 root root       4096 May  2 20:48 colab-biolab\n",
            "drwx------ 8 root root       4096 May  6 05:06 entropy\n",
            "-rw------- 1 root root  883334756 May  2 18:19 gencode.gtf\n",
            "drwx------ 2 root root       4096 May  2 22:30 .git\n",
            "-rw------- 1 root root   24065406 May  2 18:23 read-counts.txt\n",
            "-rw------- 1 root root        751 May  2 18:23 read-counts.txt.summary\n",
            "-rw------- 1 root root 1003658801 May  2 01:02 RNA-control.bam\n",
            "-rw------- 1 root root    2276104 May  2 01:02 RNA-control.bam.bai\n",
            "-rw------- 1 root root 1260991122 May  2 01:02 RNA-siLin28a.bam\n",
            "-rw------- 1 root root    2710744 May  6  2021 RNA-siLin28a.bam.bai\n",
            "-rw------- 1 root root  981684502 May  6  2021 RNA-siLuc.bam\n",
            "-rw------- 1 root root    2606104 May  6  2021 RNA-siLuc.bam.bai\n",
            "-rw------- 1 root root  737352902 May  6  2021 RPF-siLin28a.bam\n",
            "-rw------- 1 root root    2482768 May  6  2021 RPF-siLin28a.bam.bai\n",
            "-rw------- 1 root root 1055123479 May  6  2021 RPF-siLuc.bam\n",
            "-rw------- 1 root root    2605912 May  6  2021 RPF-siLuc.bam.bai\n",
            "-rw------- 1 root root       2802 May 11 13:31 test2.bam\n",
            "-rw------- 1 root root       2802 May 11 13:31 test.txt\n"
          ]
        }
      ]
    },
    {
      "cell_type": "markdown",
      "metadata": {
        "id": "ecEA1PPQUlIK"
      },
      "source": [
        "실습에 필요한 프로그램들 몇 가지를 추가로 설치.\n",
        "\n"
      ]
    },
    {
      "cell_type": "code",
      "metadata": {
        "id": "neteyWsWEKBy",
        "colab": {
          "base_uri": "https://localhost:8080/"
        },
        "outputId": "3ae16ba6-b1b4-4d9a-af8d-01ab6ef72147"
      },
      "source": [
        "!conda install -y bedtools bioawk"
      ],
      "execution_count": 6,
      "outputs": [
        {
          "output_type": "stream",
          "name": "stdout",
          "text": [
            "Collecting package metadata (current_repodata.json): - \b\b\\ \b\b| \b\b/ \b\b- \b\b\\ \b\b| \b\b/ \b\b- \b\b\\ \b\b| \b\b/ \b\b- \b\b\\ \b\b| \b\b/ \b\b- \b\b\\ \b\b| \b\b/ \b\b- \b\b\\ \b\b| \b\b/ \b\b- \b\b\\ \b\b| \b\b/ \b\b- \b\b\\ \b\b| \b\b/ \b\b- \b\b\\ \b\b| \b\b/ \b\bdone\n",
            "Solving environment: \\ \b\b| \b\b/ \b\b- \b\b\\ \b\b| \b\b/ \b\b- \b\b\\ \b\b| \b\b/ \b\b- \b\b\\ \b\b| \b\b/ \b\b- \b\b\\ \b\b| \b\b/ \b\b- \b\b\\ \b\b| \b\b/ \b\b- \b\b\\ \b\b| \b\b/ \b\b- \b\b\\ \b\b| \b\b/ \b\b- \b\b\\ \b\b| \b\b/ \b\b- \b\bdone\n",
            "\n",
            "\n",
            "==> WARNING: A newer version of conda exists. <==\n",
            "  current version: 4.11.0\n",
            "  latest version: 4.12.0\n",
            "\n",
            "Please update conda by running\n",
            "\n",
            "    $ conda update -n base -c defaults conda\n",
            "\n",
            "\n",
            "\n",
            "## Package Plan ##\n",
            "\n",
            "  environment location: /root/conda/envs/lab\n",
            "\n",
            "  added / updated specs:\n",
            "    - bedtools\n",
            "    - bioawk\n",
            "\n",
            "\n",
            "The following packages will be downloaded:\n",
            "\n",
            "    package                    |            build\n",
            "    ---------------------------|-----------------\n",
            "    bioawk-1.0                 |       h7132678_7         196 KB  bioconda\n",
            "    ------------------------------------------------------------\n",
            "                                           Total:         196 KB\n",
            "\n",
            "The following NEW packages will be INSTALLED:\n",
            "\n",
            "  bioawk             bioconda/linux-64::bioawk-1.0-h7132678_7\n",
            "\n",
            "\n",
            "\n",
            "Downloading and Extracting Packages\n",
            "bioawk-1.0           | 196 KB    | : 100% 1.0/1 [00:00<00:00,  8.61it/s]\n",
            "Preparing transaction: | \b\bdone\n",
            "Verifying transaction: - \b\bdone\n",
            "Executing transaction: | \b\bdone\n"
          ]
        }
      ]
    },
    {
      "cell_type": "markdown",
      "metadata": {
        "id": "Oe_54MZrEi4y"
      },
      "source": [
        "## Mission 2\n",
        "\n",
        "이번 미션에서는 start codon 주변에서 ribosome-protected fragment의 분포를 한 번 살펴보겠습니다. 보통은 RPF의 5'-end 분포가 start codon 앞 15nt 정도에서부터 본격적으로 많이 나오고, 거기서부터 CDS를 걸쳐서 3nt 주기로 올록볼록한 패턴이 나타납니다.\n",
        "\n",
        "이 그림을 제대로 그리려면 genome coordinate를 start codon을 기준으로 변환해서 작업해야 하지만, 이번 미션에서는 난이도를 적절히 내리기 위해서 start codon이 포함된 exon에 존재하는 5' end만 추려서 작업하도록 합시다. (여유가 좀 있어서 난이도를 적당히 올리고 싶은 분들은 negative strand를 포함할 수도 있고, start codon과 다른 exon에 있는 경우를 포함할 수도 있습니다. 또한 APPRIS 등을 기반으로 해서 transcript 중에 가장 )"
      ]
    },
    {
      "cell_type": "code",
      "metadata": {
        "id": "IANz6DmLUkA6",
        "colab": {
          "base_uri": "https://localhost:8080/"
        },
        "outputId": "59745b29-29e7-4d9e-c07f-8df9286a86be"
      },
      "source": [
        "%cd /content/drive/MyDrive/binfo1-datapack1/"
      ],
      "execution_count": 7,
      "outputs": [
        {
          "output_type": "stream",
          "name": "stdout",
          "text": [
            "/content/drive/MyDrive/binfo1-datapack1\n"
          ]
        }
      ]
    },
    {
      "cell_type": "markdown",
      "metadata": {
        "id": "68uh7WVkUjhr"
      },
      "source": [
        "우선 annotation에서 start codon이 포함된 exon만 추립니다. Gene 한 개에 isoform이 여러 개 있는 경우 모두 쓰면 read가 너무 부풀려질 수 있기 때문에 우선 transcript support level이 1인 것만 추려서 사용합니다. 여전히 TSL 1만 쓰더라도 부풀려질 가능성은 있기 때문에 제대로 하자면 APPRIS나 RNA-seq 데이터 기준으로 하나만 선정하는 것이 좋습니다만, 일단 여기서는 간단히..\n",
        "\n",
        "그리고, - strand가 들어가면 좀 계산이 복잡해지니까 또 간단하게 하기 위해서 + strand만 고릅니다. 이번엔 일단 무조건 간단하게 해 봅시다~"
      ]
    },
    {
      "cell_type": "code",
      "metadata": {
        "id": "vvFgM8hJUzDx",
        "colab": {
          "base_uri": "https://localhost:8080/"
        },
        "outputId": "f0d8577d-7784-479b-e6a8-c1563945f39a"
      },
      "source": [
        "!grep '\tstart_codon\t.*\t+\t.*transcript_support_level \"1\"' gencode.gtf | \\\n",
        " sed -e 's/\t[^\t]*transcript_id \"\\([^\"]*\\)\".*$/\t\\1/g' > gencode-start.gtf\n",
        "!head gencode-start.gtf"
      ],
      "execution_count": 8,
      "outputs": [
        {
          "output_type": "stream",
          "name": "stdout",
          "text": [
            "chr1\tHAVANA\tstart_codon\t4878137\t4878139\t.\t+\t0\tENSMUST00000134384.8\n",
            "chr1\tHAVANA\tstart_codon\t4878137\t4878139\t.\t+\t0\tENSMUST00000027036.11\n",
            "chr1\tHAVANA\tstart_codon\t4878137\t4878139\t.\t+\t0\tENSMUST00000150971.8\n",
            "chr1\tHAVANA\tstart_codon\t4928137\t4928139\t.\t+\t0\tENSMUST00000081551.14\n",
            "chr1\tHAVANA\tstart_codon\t5154674\t5154676\t.\t+\t0\tENSMUST00000044369.13\n",
            "chr1\tHAVANA\tstart_codon\t5659272\t5659274\t.\t+\t0\tENSMUST00000160777.8\n",
            "chr1\tHAVANA\tstart_codon\t5659272\t5659274\t.\t+\t0\tENSMUST00000027038.11\n",
            "chr1\tHAVANA\tstart_codon\t6300227\t6300229\t.\t+\t0\tENSMUST00000027040.13\n",
            "chr1\tHAVANA\tstart_codon\t6429555\t6429557\t.\t+\t0\tENSMUST00000133144.4\n",
            "chr1\tHAVANA\tstart_codon\t6839122\t6839124\t.\t+\t0\tENSMUST00000140079.8\n"
          ]
        }
      ]
    },
    {
      "cell_type": "markdown",
      "metadata": {
        "id": "iWvIeTYOWsR6"
      },
      "source": [
        "start codon가 들어가 있는 exon들을 고르기 위해서 미리 + strand에 있는 exon를 추립니다.. start codon 쪽에서 TSL 기준으로 골랐기 때문에 여기서는 고르지 않아도 됩니다. 물론 좀 느려지기는 하지만..."
      ]
    },
    {
      "cell_type": "code",
      "metadata": {
        "id": "yCqK2wyYWitn",
        "colab": {
          "base_uri": "https://localhost:8080/"
        },
        "outputId": "28861bed-6dfd-4a5f-c10a-9aa241d0019f"
      },
      "source": [
        "!grep '\texon\t.*\t+\t' gencode.gtf | \\\n",
        " sed -e 's/\t[^\t]*transcript_id \"\\([^\"]*\\)\".*$/\t\\1/g' > gencode-plusexon.gtf\n",
        "!head gencode-plusexon.gtf"
      ],
      "execution_count": 9,
      "outputs": [
        {
          "output_type": "stream",
          "name": "stdout",
          "text": [
            "chr1\tHAVANA\texon\t3143476\t3144545\t.\t+\t.\tENSMUST00000193812.2\n",
            "chr1\tENSEMBL\texon\t3172239\t3172348\t.\t+\t.\tENSMUST00000082908.3\n",
            "chr1\tHAVANA\texon\t3322980\t3323459\t.\t+\t.\tENSMUST00000192857.2\n",
            "chr1\tHAVANA\texon\t3536810\t3536910\t.\t+\t.\tENSMUST00000161581.2\n",
            "chr1\tHAVANA\texon\t3583628\t3583776\t.\t+\t.\tENSMUST00000161581.2\n",
            "chr1\tHAVANA\texon\t3602018\t3602943\t.\t+\t.\tENSMUST00000192183.2\n",
            "chr1\tHAVANA\texon\t3750378\t3752011\t.\t+\t.\tENSMUST00000193244.2\n",
            "chr1\tHAVANA\texon\t3822233\t3824583\t.\t+\t.\tENSMUST00000194454.2\n",
            "chr1\tHAVANA\texon\t4566774\t4569601\t.\t+\t.\tENSMUST00000193450.2\n",
            "chr1\tHAVANA\texon\t4567697\t4567877\t.\t+\t.\tENSMUST00000194935.2\n"
          ]
        }
      ]
    },
    {
      "cell_type": "markdown",
      "metadata": {
        "id": "suULe5k6Yelf"
      },
      "source": [
        "그 다음엔 exon 리스트와 start codon 리스트를 겹치고, transcript가 같은 것만 살려둡니다. 기왕 좀 다루기 쉽도록 출력은 bed로 하면서 좌표계를 바꿉니다. 결과는 bedtools에서 빠르게 다룰 수 있게 sort해 둡니다."
      ]
    },
    {
      "cell_type": "code",
      "metadata": {
        "id": "Zsv2_w5OXU9c",
        "colab": {
          "base_uri": "https://localhost:8080/"
        },
        "outputId": "11d6c0c1-b7be-4f38-c51d-44ade848997e"
      },
      "source": [
        "!bedtools intersect -a gencode-start.gtf -b gencode-plusexon.gtf -wa -wb | \\\n",
        " awk -F'\t' -v OFS='\t' '$9 == $18 { print $10, $13-1, $14, $18, $4-1, $16; }' | \\\n",
        " sort -k1,1 -k2,3n -k4,4 > gencode-exons-containing-startcodon.bed\n",
        "!head gencode-exons-containing-startcodon.bed; tail gencode-exons-containing-startcodon.bed"
      ],
      "execution_count": 10,
      "outputs": [
        {
          "output_type": "stream",
          "name": "stdout",
          "text": [
            "chr1\t4878010\t4878205\tENSMUST00000134384.8\t4878136\t+\n",
            "chr1\t4878045\t4878205\tENSMUST00000027036.11\t4878136\t+\n",
            "chr1\t4878052\t4878205\tENSMUST00000150971.8\t4878136\t+\n",
            "chr1\t4928036\t4928199\tENSMUST00000081551.14\t4928136\t+\n",
            "chr1\t5154639\t5154786\tENSMUST00000044369.13\t5154673\t+\n",
            "chr1\t5659227\t5659528\tENSMUST00000027038.11\t5659271\t+\n",
            "chr1\t5659257\t5659528\tENSMUST00000160777.8\t5659271\t+\n",
            "chr1\t6300182\t6300297\tENSMUST00000027040.13\t6300226\t+\n",
            "chr1\t6429441\t6429738\tENSMUST00000133144.4\t6429554\t+\n",
            "chr1\t6839121\t6839176\tENSMUST00000043578.13\t6839121\t+\n",
            "chrY\t80939672\t80939804\tENSMUST00000185340.2\t80939686\t+\n",
            "chrY\t81470683\t81470815\tENSMUST00000187135.2\t81470697\t+\n",
            "chrY\t82237903\t82238035\tENSMUST00000185636.2\t82237917\t+\n",
            "chrY\t83043623\t83043755\tENSMUST00000187165.2\t83043637\t+\n",
            "chrY\t84109956\t84110088\tENSMUST00000185776.7\t84109970\t+\n",
            "chrY\t84759361\t84759493\tENSMUST00000186110.2\t84759375\t+\n",
            "chrY\t86074448\t86074580\tENSMUST00000188754.2\t86074462\t+\n",
            "chrY\t87129500\t87129632\tENSMUST00000189543.7\t87129514\t+\n",
            "chrY\t87563647\t87563779\tENSMUST00000186493.2\t87563661\t+\n",
            "chrY\t88065992\t88066124\tENSMUST00000187146.2\t88066006\t+\n"
          ]
        }
      ]
    },
    {
      "cell_type": "markdown",
      "metadata": {
        "id": "KvPNCpbtaYnC"
      },
      "source": [
        "컬럼 4번에 transcript id, 5번에 start codon 위치를 넣었는데, start codon이 같은 것들이 여러개 눈에 띕니다. 아주 찝찝하지만, 우선 이번은 간단하게 할 것이기 때문에 눈을 질끈 감고 넘어가 봅시다.\n",
        "\n",
        "이제 alignment를 준비합니다. + strand alignment에서 read length가 짧은 것도 미리 필터링 합니다. RPF는 보통 25nt 이상이기 때문에 그 이하는 거의 확실히 rRNA, tRNA 등에서 오염된 것들입니다. SAM 파일 전체를 필터링해서 다시 인코딩하기 때문에 시간이 좀 걸립니다."
      ]
    },
    {
      "cell_type": "code",
      "metadata": {
        "id": "ZZaOeHo1alCB"
      },
      "source": [
        "!(samtools view -H RPF-siLuc.bam; \\\n",
        "  samtools view -F20 RPF-siLuc.bam | \\\n",
        "  bioawk -c sam '{ if (length($seq) >= 25) print $0; }') | \\\n",
        " samtools view -b -o filtered-RPF-siLuc.bam"
      ],
      "execution_count": 11,
      "outputs": []
    },
    {
      "cell_type": "markdown",
      "metadata": {
        "id": "U1JDNb8ndTdk"
      },
      "source": [
        "큰 일을 했으니 용량을 한 번 봅니다."
      ]
    },
    {
      "cell_type": "code",
      "metadata": {
        "id": "5OrnDxegFAip",
        "colab": {
          "base_uri": "https://localhost:8080/"
        },
        "outputId": "e0541a38-79a0-4079-8b7e-6584208ad9dd"
      },
      "source": [
        "!ls -al *RPF-siLuc.bam"
      ],
      "execution_count": 12,
      "outputs": [
        {
          "output_type": "stream",
          "name": "stdout",
          "text": [
            "-rw------- 1 root root  567739792 May 11 14:38 filtered-RPF-siLuc.bam\n",
            "-rw------- 1 root root 1055123479 May  6  2021 RPF-siLuc.bam\n"
          ]
        }
      ]
    },
    {
      "cell_type": "markdown",
      "metadata": {
        "id": "pr9zpKFmdi2e"
      },
      "source": [
        "자 이제 read의 5' end 위치를 셉니다. bedtools의 `genomecov`를 쓰면 아주 편리합니다."
      ]
    },
    {
      "cell_type": "code",
      "metadata": {
        "id": "IZjHau7zftoU",
        "colab": {
          "base_uri": "https://localhost:8080/"
        },
        "outputId": "62f17976-de57-4c49-cc22-338a844a752b"
      },
      "source": [
        "!bedtools genomecov -ibam filtered-RPF-siLuc.bam -bg -5 > fivepcounts-RPF-siLuc.bed\n",
        "!head fivepcounts-RPF-siLuc.bed"
      ],
      "execution_count": 13,
      "outputs": [
        {
          "output_type": "stream",
          "name": "stdout",
          "text": [
            "tcmalloc: large alloc 1561239552 bytes == 0x563dfbec6000 @  0x7f9de5a39887 0x563df9693a26 0x563df9696b7b 0x563df9697b1e 0x563df9690132 0x563df964768d 0x7f9de4eccc87 0x563df964eee9\n",
            "tcmalloc: large alloc 1454047232 bytes == 0x563dfbec6000 @  0x7f9de5a39887 0x563df9693a26 0x563df9696b7b 0x563df9697b1e 0x563df9690132 0x563df964768d 0x7f9de4eccc87 0x563df964eee9\n",
            "chr1\t3176534\t3176535\t1\n",
            "chr1\t3196256\t3196257\t1\n",
            "chr1\t3221526\t3221527\t1\n",
            "chr1\t3221542\t3221543\t2\n",
            "chr1\t3221545\t3221546\t3\n",
            "chr1\t3221546\t3221547\t2\n",
            "chr1\t3221548\t3221550\t1\n",
            "chr1\t3221571\t3221572\t1\n",
            "chr1\t3221897\t3221898\t1\n",
            "chr1\t3221994\t3221995\t1\n"
          ]
        }
      ]
    },
    {
      "cell_type": "markdown",
      "metadata": {
        "id": "y_AHnHnZmYJu"
      },
      "source": [
        "그렇게 match 된 것들 중에 앞에서 찾은 start codon을 포함한 exon과 겹치는 것만 골라냅니다."
      ]
    },
    {
      "cell_type": "code",
      "metadata": {
        "id": "k1cOiX2Hftlx",
        "colab": {
          "base_uri": "https://localhost:8080/"
        },
        "outputId": "f0ed8f78-aa52-4d55-f7a9-311e585065fa"
      },
      "source": [
        "!bedtools intersect -a fivepcounts-RPF-siLuc.bed -b gencode-exons-containing-startcodon.bed \\\n",
        " -wa -wb -nonamecheck > fivepcounts-filtered-RPF-siLuc.txt\n",
        "!head fivepcounts-filtered-RPF-siLuc.txt"
      ],
      "execution_count": 14,
      "outputs": [
        {
          "output_type": "stream",
          "name": "stdout",
          "text": [
            "chr1\t4878048\t4878049\t1\tchr1\t4878010\t4878205\tENSMUST00000134384.8\t4878136\t+\n",
            "chr1\t4878048\t4878049\t1\tchr1\t4878045\t4878205\tENSMUST00000027036.11\t4878136\t+\n",
            "chr1\t4878077\t4878078\t1\tchr1\t4878010\t4878205\tENSMUST00000134384.8\t4878136\t+\n",
            "chr1\t4878077\t4878078\t1\tchr1\t4878045\t4878205\tENSMUST00000027036.11\t4878136\t+\n",
            "chr1\t4878077\t4878078\t1\tchr1\t4878052\t4878205\tENSMUST00000150971.8\t4878136\t+\n",
            "chr1\t4878101\t4878102\t4\tchr1\t4878010\t4878205\tENSMUST00000134384.8\t4878136\t+\n",
            "chr1\t4878101\t4878102\t4\tchr1\t4878045\t4878205\tENSMUST00000027036.11\t4878136\t+\n",
            "chr1\t4878101\t4878102\t4\tchr1\t4878052\t4878205\tENSMUST00000150971.8\t4878136\t+\n",
            "chr1\t4878103\t4878104\t1\tchr1\t4878010\t4878205\tENSMUST00000134384.8\t4878136\t+\n",
            "chr1\t4878103\t4878104\t1\tchr1\t4878045\t4878205\tENSMUST00000027036.11\t4878136\t+\n"
          ]
        }
      ]
    },
    {
      "cell_type": "markdown",
      "metadata": {
        "id": "0OcjYZ9bnL_6"
      },
      "source": [
        "모든 준비가 끝났습니다. 이제 Figure S5A 도전해 보세요!\n",
        "\n",
        "* stop codon은 빼고 start codon 만입니다.\n",
        "* 논문에서는 처리가 어려운 부분까지 모두 포함됐고, read를 중첩해서 세지 않았기 때문에, 여기서 세는 것과는 수치는 다를 수 있습니다.\n",
        "* `pandas`로 한꺼번에 데이터를 모두 불러들이면 메모리가 부족할 수도 있습니다. 그런 경우에는 chunk를 쓰거나, 줄 단위로 처리해 보세요."
      ]
    },
    {
      "cell_type": "markdown",
      "source": [
        "##실제 그림 그려보기"
      ],
      "metadata": {
        "id": "sDUIWBSi95mP"
      }
    },
    {
      "cell_type": "markdown",
      "source": [
        "위 과정에서 데이터 준비 과정에서 최종적으로 만든 fivepcounts-filtered-RPF-siLuc.txt 파일을 list로 받고 내용 확인함."
      ],
      "metadata": {
        "id": "vYvjv__Q99rp"
      }
    },
    {
      "cell_type": "code",
      "source": [
        "list = pd.read_csv('fivepcounts-filtered-RPF-siLuc.txt', sep='\\t', names=['chrom1', 'start1', 'stop1', 'no', 'chrom2', 'start2', 'end2', 'name', 'start', 'strand'])\n",
        "list.tail()"
      ],
      "metadata": {
        "colab": {
          "base_uri": "https://localhost:8080/",
          "height": 206
        },
        "id": "Krn55WEQonTC",
        "outputId": "77a9e502-41c0-4c00-ee41-0343838cfb36"
      },
      "execution_count": 76,
      "outputs": [
        {
          "output_type": "execute_result",
          "data": {
            "text/plain": [
              "       chrom1    start1     stop1  no chrom2    start2      end2  \\\n",
              "340494   chrY  87129502  87129503   1   chrY  87129500  87129632   \n",
              "340495   chrY  87129574  87129575   1   chrY  87129500  87129632   \n",
              "340496   chrY  87563721  87563722   1   chrY  87563647  87563779   \n",
              "340497   chrY  88065994  88065995   1   chrY  88065992  88066124   \n",
              "340498   chrY  88066066  88066067   1   chrY  88065992  88066124   \n",
              "\n",
              "                        name     start strand  \n",
              "340494  ENSMUST00000189543.7  87129514      +  \n",
              "340495  ENSMUST00000189543.7  87129514      +  \n",
              "340496  ENSMUST00000186493.2  87563661      +  \n",
              "340497  ENSMUST00000187146.2  88066006      +  \n",
              "340498  ENSMUST00000187146.2  88066006      +  "
            ],
            "text/html": [
              "\n",
              "  <div id=\"df-0685e14b-6d07-4048-9206-0a73dd7dce50\">\n",
              "    <div class=\"colab-df-container\">\n",
              "      <div>\n",
              "<style scoped>\n",
              "    .dataframe tbody tr th:only-of-type {\n",
              "        vertical-align: middle;\n",
              "    }\n",
              "\n",
              "    .dataframe tbody tr th {\n",
              "        vertical-align: top;\n",
              "    }\n",
              "\n",
              "    .dataframe thead th {\n",
              "        text-align: right;\n",
              "    }\n",
              "</style>\n",
              "<table border=\"1\" class=\"dataframe\">\n",
              "  <thead>\n",
              "    <tr style=\"text-align: right;\">\n",
              "      <th></th>\n",
              "      <th>chrom1</th>\n",
              "      <th>start1</th>\n",
              "      <th>stop1</th>\n",
              "      <th>no</th>\n",
              "      <th>chrom2</th>\n",
              "      <th>start2</th>\n",
              "      <th>end2</th>\n",
              "      <th>name</th>\n",
              "      <th>start</th>\n",
              "      <th>strand</th>\n",
              "    </tr>\n",
              "  </thead>\n",
              "  <tbody>\n",
              "    <tr>\n",
              "      <th>340494</th>\n",
              "      <td>chrY</td>\n",
              "      <td>87129502</td>\n",
              "      <td>87129503</td>\n",
              "      <td>1</td>\n",
              "      <td>chrY</td>\n",
              "      <td>87129500</td>\n",
              "      <td>87129632</td>\n",
              "      <td>ENSMUST00000189543.7</td>\n",
              "      <td>87129514</td>\n",
              "      <td>+</td>\n",
              "    </tr>\n",
              "    <tr>\n",
              "      <th>340495</th>\n",
              "      <td>chrY</td>\n",
              "      <td>87129574</td>\n",
              "      <td>87129575</td>\n",
              "      <td>1</td>\n",
              "      <td>chrY</td>\n",
              "      <td>87129500</td>\n",
              "      <td>87129632</td>\n",
              "      <td>ENSMUST00000189543.7</td>\n",
              "      <td>87129514</td>\n",
              "      <td>+</td>\n",
              "    </tr>\n",
              "    <tr>\n",
              "      <th>340496</th>\n",
              "      <td>chrY</td>\n",
              "      <td>87563721</td>\n",
              "      <td>87563722</td>\n",
              "      <td>1</td>\n",
              "      <td>chrY</td>\n",
              "      <td>87563647</td>\n",
              "      <td>87563779</td>\n",
              "      <td>ENSMUST00000186493.2</td>\n",
              "      <td>87563661</td>\n",
              "      <td>+</td>\n",
              "    </tr>\n",
              "    <tr>\n",
              "      <th>340497</th>\n",
              "      <td>chrY</td>\n",
              "      <td>88065994</td>\n",
              "      <td>88065995</td>\n",
              "      <td>1</td>\n",
              "      <td>chrY</td>\n",
              "      <td>88065992</td>\n",
              "      <td>88066124</td>\n",
              "      <td>ENSMUST00000187146.2</td>\n",
              "      <td>88066006</td>\n",
              "      <td>+</td>\n",
              "    </tr>\n",
              "    <tr>\n",
              "      <th>340498</th>\n",
              "      <td>chrY</td>\n",
              "      <td>88066066</td>\n",
              "      <td>88066067</td>\n",
              "      <td>1</td>\n",
              "      <td>chrY</td>\n",
              "      <td>88065992</td>\n",
              "      <td>88066124</td>\n",
              "      <td>ENSMUST00000187146.2</td>\n",
              "      <td>88066006</td>\n",
              "      <td>+</td>\n",
              "    </tr>\n",
              "  </tbody>\n",
              "</table>\n",
              "</div>\n",
              "      <button class=\"colab-df-convert\" onclick=\"convertToInteractive('df-0685e14b-6d07-4048-9206-0a73dd7dce50')\"\n",
              "              title=\"Convert this dataframe to an interactive table.\"\n",
              "              style=\"display:none;\">\n",
              "        \n",
              "  <svg xmlns=\"http://www.w3.org/2000/svg\" height=\"24px\"viewBox=\"0 0 24 24\"\n",
              "       width=\"24px\">\n",
              "    <path d=\"M0 0h24v24H0V0z\" fill=\"none\"/>\n",
              "    <path d=\"M18.56 5.44l.94 2.06.94-2.06 2.06-.94-2.06-.94-.94-2.06-.94 2.06-2.06.94zm-11 1L8.5 8.5l.94-2.06 2.06-.94-2.06-.94L8.5 2.5l-.94 2.06-2.06.94zm10 10l.94 2.06.94-2.06 2.06-.94-2.06-.94-.94-2.06-.94 2.06-2.06.94z\"/><path d=\"M17.41 7.96l-1.37-1.37c-.4-.4-.92-.59-1.43-.59-.52 0-1.04.2-1.43.59L10.3 9.45l-7.72 7.72c-.78.78-.78 2.05 0 2.83L4 21.41c.39.39.9.59 1.41.59.51 0 1.02-.2 1.41-.59l7.78-7.78 2.81-2.81c.8-.78.8-2.07 0-2.86zM5.41 20L4 18.59l7.72-7.72 1.47 1.35L5.41 20z\"/>\n",
              "  </svg>\n",
              "      </button>\n",
              "      \n",
              "  <style>\n",
              "    .colab-df-container {\n",
              "      display:flex;\n",
              "      flex-wrap:wrap;\n",
              "      gap: 12px;\n",
              "    }\n",
              "\n",
              "    .colab-df-convert {\n",
              "      background-color: #E8F0FE;\n",
              "      border: none;\n",
              "      border-radius: 50%;\n",
              "      cursor: pointer;\n",
              "      display: none;\n",
              "      fill: #1967D2;\n",
              "      height: 32px;\n",
              "      padding: 0 0 0 0;\n",
              "      width: 32px;\n",
              "    }\n",
              "\n",
              "    .colab-df-convert:hover {\n",
              "      background-color: #E2EBFA;\n",
              "      box-shadow: 0px 1px 2px rgba(60, 64, 67, 0.3), 0px 1px 3px 1px rgba(60, 64, 67, 0.15);\n",
              "      fill: #174EA6;\n",
              "    }\n",
              "\n",
              "    [theme=dark] .colab-df-convert {\n",
              "      background-color: #3B4455;\n",
              "      fill: #D2E3FC;\n",
              "    }\n",
              "\n",
              "    [theme=dark] .colab-df-convert:hover {\n",
              "      background-color: #434B5C;\n",
              "      box-shadow: 0px 1px 3px 1px rgba(0, 0, 0, 0.15);\n",
              "      filter: drop-shadow(0px 1px 2px rgba(0, 0, 0, 0.3));\n",
              "      fill: #FFFFFF;\n",
              "    }\n",
              "  </style>\n",
              "\n",
              "      <script>\n",
              "        const buttonEl =\n",
              "          document.querySelector('#df-0685e14b-6d07-4048-9206-0a73dd7dce50 button.colab-df-convert');\n",
              "        buttonEl.style.display =\n",
              "          google.colab.kernel.accessAllowed ? 'block' : 'none';\n",
              "\n",
              "        async function convertToInteractive(key) {\n",
              "          const element = document.querySelector('#df-0685e14b-6d07-4048-9206-0a73dd7dce50');\n",
              "          const dataTable =\n",
              "            await google.colab.kernel.invokeFunction('convertToInteractive',\n",
              "                                                     [key], {});\n",
              "          if (!dataTable) return;\n",
              "\n",
              "          const docLinkHtml = 'Like what you see? Visit the ' +\n",
              "            '<a target=\"_blank\" href=https://colab.research.google.com/notebooks/data_table.ipynb>data table notebook</a>'\n",
              "            + ' to learn more about interactive tables.';\n",
              "          element.innerHTML = '';\n",
              "          dataTable['output_type'] = 'display_data';\n",
              "          await google.colab.output.renderOutput(dataTable, element);\n",
              "          const docLink = document.createElement('div');\n",
              "          docLink.innerHTML = docLinkHtml;\n",
              "          element.appendChild(docLink);\n",
              "        }\n",
              "      </script>\n",
              "    </div>\n",
              "  </div>\n",
              "  "
            ]
          },
          "metadata": {},
          "execution_count": 76
        }
      ]
    },
    {
      "cell_type": "markdown",
      "source": [
        "start1, start2 중 뭘 기준으로 ribosome footprint를 잡아야할지 헛갈리기 때문에, 둘 다 따로따로 start에서 빼주고 각각 len1, len2로 받음."
      ],
      "metadata": {
        "id": "g88rLSQa-Og0"
      }
    },
    {
      "cell_type": "code",
      "source": [
        "list['length1'] = list['start1'] - list['start']\n",
        "list['length2'] = list['start2'] - list['start']\n",
        "list.head()"
      ],
      "metadata": {
        "colab": {
          "base_uri": "https://localhost:8080/",
          "height": 206
        },
        "id": "t7XoSNhTz6Zb",
        "outputId": "b76c754a-8429-4698-f67d-bfd675ae32a4"
      },
      "execution_count": 83,
      "outputs": [
        {
          "output_type": "execute_result",
          "data": {
            "text/plain": [
              "  chrom1   start1    stop1  no chrom2   start2     end2  \\\n",
              "0   chr1  4878048  4878049   1   chr1  4878010  4878205   \n",
              "1   chr1  4878048  4878049   1   chr1  4878045  4878205   \n",
              "2   chr1  4878077  4878078   1   chr1  4878010  4878205   \n",
              "3   chr1  4878077  4878078   1   chr1  4878045  4878205   \n",
              "4   chr1  4878077  4878078   1   chr1  4878052  4878205   \n",
              "\n",
              "                    name    start strand  length1  length2  \n",
              "0   ENSMUST00000134384.8  4878136      +      -88     -126  \n",
              "1  ENSMUST00000027036.11  4878136      +      -88      -91  \n",
              "2   ENSMUST00000134384.8  4878136      +      -59     -126  \n",
              "3  ENSMUST00000027036.11  4878136      +      -59      -91  \n",
              "4   ENSMUST00000150971.8  4878136      +      -59      -84  "
            ],
            "text/html": [
              "\n",
              "  <div id=\"df-47cd7060-b06a-4cef-ba94-5dd3ef40e6ae\">\n",
              "    <div class=\"colab-df-container\">\n",
              "      <div>\n",
              "<style scoped>\n",
              "    .dataframe tbody tr th:only-of-type {\n",
              "        vertical-align: middle;\n",
              "    }\n",
              "\n",
              "    .dataframe tbody tr th {\n",
              "        vertical-align: top;\n",
              "    }\n",
              "\n",
              "    .dataframe thead th {\n",
              "        text-align: right;\n",
              "    }\n",
              "</style>\n",
              "<table border=\"1\" class=\"dataframe\">\n",
              "  <thead>\n",
              "    <tr style=\"text-align: right;\">\n",
              "      <th></th>\n",
              "      <th>chrom1</th>\n",
              "      <th>start1</th>\n",
              "      <th>stop1</th>\n",
              "      <th>no</th>\n",
              "      <th>chrom2</th>\n",
              "      <th>start2</th>\n",
              "      <th>end2</th>\n",
              "      <th>name</th>\n",
              "      <th>start</th>\n",
              "      <th>strand</th>\n",
              "      <th>length1</th>\n",
              "      <th>length2</th>\n",
              "    </tr>\n",
              "  </thead>\n",
              "  <tbody>\n",
              "    <tr>\n",
              "      <th>0</th>\n",
              "      <td>chr1</td>\n",
              "      <td>4878048</td>\n",
              "      <td>4878049</td>\n",
              "      <td>1</td>\n",
              "      <td>chr1</td>\n",
              "      <td>4878010</td>\n",
              "      <td>4878205</td>\n",
              "      <td>ENSMUST00000134384.8</td>\n",
              "      <td>4878136</td>\n",
              "      <td>+</td>\n",
              "      <td>-88</td>\n",
              "      <td>-126</td>\n",
              "    </tr>\n",
              "    <tr>\n",
              "      <th>1</th>\n",
              "      <td>chr1</td>\n",
              "      <td>4878048</td>\n",
              "      <td>4878049</td>\n",
              "      <td>1</td>\n",
              "      <td>chr1</td>\n",
              "      <td>4878045</td>\n",
              "      <td>4878205</td>\n",
              "      <td>ENSMUST00000027036.11</td>\n",
              "      <td>4878136</td>\n",
              "      <td>+</td>\n",
              "      <td>-88</td>\n",
              "      <td>-91</td>\n",
              "    </tr>\n",
              "    <tr>\n",
              "      <th>2</th>\n",
              "      <td>chr1</td>\n",
              "      <td>4878077</td>\n",
              "      <td>4878078</td>\n",
              "      <td>1</td>\n",
              "      <td>chr1</td>\n",
              "      <td>4878010</td>\n",
              "      <td>4878205</td>\n",
              "      <td>ENSMUST00000134384.8</td>\n",
              "      <td>4878136</td>\n",
              "      <td>+</td>\n",
              "      <td>-59</td>\n",
              "      <td>-126</td>\n",
              "    </tr>\n",
              "    <tr>\n",
              "      <th>3</th>\n",
              "      <td>chr1</td>\n",
              "      <td>4878077</td>\n",
              "      <td>4878078</td>\n",
              "      <td>1</td>\n",
              "      <td>chr1</td>\n",
              "      <td>4878045</td>\n",
              "      <td>4878205</td>\n",
              "      <td>ENSMUST00000027036.11</td>\n",
              "      <td>4878136</td>\n",
              "      <td>+</td>\n",
              "      <td>-59</td>\n",
              "      <td>-91</td>\n",
              "    </tr>\n",
              "    <tr>\n",
              "      <th>4</th>\n",
              "      <td>chr1</td>\n",
              "      <td>4878077</td>\n",
              "      <td>4878078</td>\n",
              "      <td>1</td>\n",
              "      <td>chr1</td>\n",
              "      <td>4878052</td>\n",
              "      <td>4878205</td>\n",
              "      <td>ENSMUST00000150971.8</td>\n",
              "      <td>4878136</td>\n",
              "      <td>+</td>\n",
              "      <td>-59</td>\n",
              "      <td>-84</td>\n",
              "    </tr>\n",
              "  </tbody>\n",
              "</table>\n",
              "</div>\n",
              "      <button class=\"colab-df-convert\" onclick=\"convertToInteractive('df-47cd7060-b06a-4cef-ba94-5dd3ef40e6ae')\"\n",
              "              title=\"Convert this dataframe to an interactive table.\"\n",
              "              style=\"display:none;\">\n",
              "        \n",
              "  <svg xmlns=\"http://www.w3.org/2000/svg\" height=\"24px\"viewBox=\"0 0 24 24\"\n",
              "       width=\"24px\">\n",
              "    <path d=\"M0 0h24v24H0V0z\" fill=\"none\"/>\n",
              "    <path d=\"M18.56 5.44l.94 2.06.94-2.06 2.06-.94-2.06-.94-.94-2.06-.94 2.06-2.06.94zm-11 1L8.5 8.5l.94-2.06 2.06-.94-2.06-.94L8.5 2.5l-.94 2.06-2.06.94zm10 10l.94 2.06.94-2.06 2.06-.94-2.06-.94-.94-2.06-.94 2.06-2.06.94z\"/><path d=\"M17.41 7.96l-1.37-1.37c-.4-.4-.92-.59-1.43-.59-.52 0-1.04.2-1.43.59L10.3 9.45l-7.72 7.72c-.78.78-.78 2.05 0 2.83L4 21.41c.39.39.9.59 1.41.59.51 0 1.02-.2 1.41-.59l7.78-7.78 2.81-2.81c.8-.78.8-2.07 0-2.86zM5.41 20L4 18.59l7.72-7.72 1.47 1.35L5.41 20z\"/>\n",
              "  </svg>\n",
              "      </button>\n",
              "      \n",
              "  <style>\n",
              "    .colab-df-container {\n",
              "      display:flex;\n",
              "      flex-wrap:wrap;\n",
              "      gap: 12px;\n",
              "    }\n",
              "\n",
              "    .colab-df-convert {\n",
              "      background-color: #E8F0FE;\n",
              "      border: none;\n",
              "      border-radius: 50%;\n",
              "      cursor: pointer;\n",
              "      display: none;\n",
              "      fill: #1967D2;\n",
              "      height: 32px;\n",
              "      padding: 0 0 0 0;\n",
              "      width: 32px;\n",
              "    }\n",
              "\n",
              "    .colab-df-convert:hover {\n",
              "      background-color: #E2EBFA;\n",
              "      box-shadow: 0px 1px 2px rgba(60, 64, 67, 0.3), 0px 1px 3px 1px rgba(60, 64, 67, 0.15);\n",
              "      fill: #174EA6;\n",
              "    }\n",
              "\n",
              "    [theme=dark] .colab-df-convert {\n",
              "      background-color: #3B4455;\n",
              "      fill: #D2E3FC;\n",
              "    }\n",
              "\n",
              "    [theme=dark] .colab-df-convert:hover {\n",
              "      background-color: #434B5C;\n",
              "      box-shadow: 0px 1px 3px 1px rgba(0, 0, 0, 0.15);\n",
              "      filter: drop-shadow(0px 1px 2px rgba(0, 0, 0, 0.3));\n",
              "      fill: #FFFFFF;\n",
              "    }\n",
              "  </style>\n",
              "\n",
              "      <script>\n",
              "        const buttonEl =\n",
              "          document.querySelector('#df-47cd7060-b06a-4cef-ba94-5dd3ef40e6ae button.colab-df-convert');\n",
              "        buttonEl.style.display =\n",
              "          google.colab.kernel.accessAllowed ? 'block' : 'none';\n",
              "\n",
              "        async function convertToInteractive(key) {\n",
              "          const element = document.querySelector('#df-47cd7060-b06a-4cef-ba94-5dd3ef40e6ae');\n",
              "          const dataTable =\n",
              "            await google.colab.kernel.invokeFunction('convertToInteractive',\n",
              "                                                     [key], {});\n",
              "          if (!dataTable) return;\n",
              "\n",
              "          const docLinkHtml = 'Like what you see? Visit the ' +\n",
              "            '<a target=\"_blank\" href=https://colab.research.google.com/notebooks/data_table.ipynb>data table notebook</a>'\n",
              "            + ' to learn more about interactive tables.';\n",
              "          element.innerHTML = '';\n",
              "          dataTable['output_type'] = 'display_data';\n",
              "          await google.colab.output.renderOutput(dataTable, element);\n",
              "          const docLink = document.createElement('div');\n",
              "          docLink.innerHTML = docLinkHtml;\n",
              "          element.appendChild(docLink);\n",
              "        }\n",
              "      </script>\n",
              "    </div>\n",
              "  </div>\n",
              "  "
            ]
          },
          "metadata": {},
          "execution_count": 83
        }
      ]
    },
    {
      "cell_type": "code",
      "source": [
        "len1 = list['length1'].to_list()\n",
        "len2 = list['length2'].to_list()"
      ],
      "metadata": {
        "id": "fRCXIdPXp6rH"
      },
      "execution_count": 84,
      "outputs": []
    },
    {
      "cell_type": "markdown",
      "source": [
        "Read count를 구하기 위해, collections의 Counter를 이용하여 len1, len2 중복된 값을 세고 각각 dfcounter1, dfcounter2로 받음.\n",
        "\n",
        "원본 논문의 Fig. S5A가 read count를 (x1000) 단위로 표시했기 때문에, 마찬가지로 readcount를 1000으로 나눠 dividiedreadcount로 나타냄."
      ],
      "metadata": {
        "id": "YB6PblMG-u13"
      }
    },
    {
      "cell_type": "code",
      "source": [
        "from collections import Counter\n",
        "counter1 = Counter(len1)\n",
        "print(counter1)\n",
        "counter2 = Counter(len2)\n",
        "print(counter2)"
      ],
      "metadata": {
        "colab": {
          "base_uri": "https://localhost:8080/"
        },
        "id": "J8ajLjsXqVeA",
        "outputId": "9219a555-047f-4be3-97cb-9d4063c986e9"
      },
      "execution_count": 86,
      "outputs": [
        {
          "output_type": "stream",
          "name": "stdout",
          "text": [
            "Counter({-1: 3006, -12: 2976, -13: 2940, -4: 2677, 0: 2648, -9: 2373, -6: 2349, -7: 2307, 5: 2289, -10: 2207, 6: 2190, 9: 2164, -3: 2143, 8: 2130, 11: 2069, 12: 2046, 15: 1965, 18: 1953, 14: 1943, 2: 1925, 21: 1889, 17: 1888, 3: 1831, 20: 1769, 27: 1703, 26: 1693, 23: 1685, 24: 1676, 30: 1609, 29: 1555, 1: 1510, 33: 1494, 36: 1492, 32: 1488, 39: 1488, 38: 1377, 51: 1365, 35: 1362, 45: 1360, 48: 1312, 44: 1308, 41: 1305, -11: 1285, 47: 1279, 42: 1275, 54: 1252, 50: 1247, 53: 1197, 56: 1196, 60: 1195, 57: 1177, 63: 1164, -14: 1160, 59: 1155, 4: 1117, 65: 1112, -5: 1088, 66: 1078, 62: 1076, 68: 1057, -8: 1054, 69: 1023, 72: 1011, 75: 994, -2: 970, 80: 964, 71: 959, 74: 959, 78: 958, -20: 956, 7: 944, 84: 940, 77: 932, 10: 931, 83: 928, -25: 926, 81: 914, -26: 914, -17: 910, -21: 902, -24: 893, 90: 886, -23: 878, 86: 873, -18: 868, -22: 865, 13: 857, -35: 850, 87: 834, 93: 832, -33: 828, -36: 814, 99: 810, -19: 807, 16: 806, -15: 802, 96: 798, -27: 792, 89: 791, -37: 785, -38: 785, 95: 782, -28: 773, 92: 772, -39: 759, -34: 757, 19: 745, 102: 743, -32: 740, -16: 739, 98: 735, 108: 734, -42: 722, -30: 718, 22: 718, -29: 716, -40: 713, 104: 713, 105: 709, 114: 709, 25: 705, 110: 699, 101: 698, -41: 696, -47: 694, 107: 689, 116: 685, -31: 684, 28: 678, 111: 673, -45: 672, -44: 671, 113: 666, -43: 665, 117: 664, 123: 657, -53: 655, -51: 650, -48: 645, -49: 638, 132: 631, 120: 625, -58: 611, 138: 609, 122: 608, -56: 608, -57: 603, 129: 600, 31: 599, 126: 599, 119: 595, -54: 594, -52: 591, -59: 590, -55: 588, -46: 587, -50: 587, 135: 584, -60: 581, 125: 577, 128: 576, 147: 564, 131: 563, 37: 561, 34: 559, 144: 555, 140: 553, 40: 541, 43: 541, 134: 541, 159: 537, 153: 529, 150: 529, 137: 527, 46: 522, 143: 517, 141: 513, 156: 510, -64: 507, -67: 498, 149: 496, 52: 495, -62: 492, 146: 492, -65: 490, -63: 490, 152: 490, -61: 483, 155: 480, 58: 473, 162: 473, 165: 472, -66: 470, 61: 470, 171: 468, -71: 466, -69: 458, 49: 457, 55: 453, 158: 453, 161: 452, 168: 451, 183: 448, 174: 445, 170: 442, -70: 438, -73: 433, -72: 432, -76: 429, -75: 428, -77: 424, 167: 422, -68: 420, 173: 420, 177: 417, 64: 415, 164: 412, 179: 409, -74: 409, 176: 405, -80: 405, -81: 404, 189: 402, 185: 402, 70: 400, 67: 399, -79: 396, -83: 396, 195: 394, -78: 384, 180: 381, -84: 377, -87: 377, 198: 376, 76: 374, 191: 373, 73: 373, -85: 369, 188: 368, -98: 366, -94: 366, -96: 364, 192: 363, -82: 362, -92: 359, 186: 354, -93: 352, 216: 349, 203: 348, 200: 345, 194: 343, 79: 341, -90: 340, 210: 340, -102: 339, 182: 338, 204: 336, 219: 336, -86: 335, 213: 334, -114: 334, -88: 333, -91: 332, -111: 329, -105: 327, 197: 326, -89: 325, 201: 323, 85: 322, -109: 316, 225: 309, -95: 309, -110: 308, 231: 307, -104: 307, -99: 306, 206: 305, 212: 304, 215: 304, 88: 303, 207: 301, -103: 301, -97: 300, -100: 297, 234: 295, -107: 291, 222: 289, 82: 289, -108: 288, -101: 286, -113: 285, 249: 285, 97: 283, 94: 283, 221: 281, 228: 281, -106: 280, -124: 279, -119: 276, 233: 274, -112: 274, 230: 273, 240: 273, 237: 270, -115: 265, 251: 265, -116: 263, 267: 262, 315: 262, 239: 261, -123: 261, -131: 261, -118: 260, 243: 260, 91: 259, 209: 259, 218: 257, 242: 253, 100: 252, 224: 251, 266: 250, -127: 250, -126: 249, 261: 247, 252: 245, 227: 244, -117: 244, 248: 243, -121: 242, -132: 240, -129: 240, 245: 239, 255: 238, 106: 237, 236: 235, 264: 235, 282: 235, 258: 234, 103: 234, -125: 234, 276: 232, 291: 232, -120: 231, -122: 229, 246: 228, -130: 228, 297: 226, 296: 224, 112: 223, 273: 222, 299: 222, 300: 222, 293: 221, 284: 221, 263: 220, -133: 219, 270: 218, 302: 218, 269: 217, 329: 216, 279: 215, 281: 215, -137: 215, 260: 214, 109: 213, 272: 213, -138: 213, -135: 213, 294: 212, -136: 210, 127: 209, 288: 209, 285: 209, 287: 209, 312: 209, 254: 209, -143: 208, -134: 207, 320: 206, 317: 205, 306: 203, 118: 202, 351: 202, 121: 202, 290: 201, -153: 200, 330: 200, 136: 199, -145: 199, 345: 198, -144: 196, 342: 196, -152: 195, -128: 194, 309: 194, 335: 194, 115: 193, 323: 193, 332: 193, 369: 193, -156: 193, -140: 192, 311: 192, -139: 192, 275: 191, 321: 191, 308: 190, 257: 190, 124: 189, 324: 188, 326: 187, -142: 186, 384: 186, 303: 185, -141: 184, 354: 184, 278: 182, 327: 179, 305: 179, 380: 179, -149: 178, 130: 177, -147: 177, -151: 176, 336: 176, 371: 176, 339: 174, 139: 174, -148: 173, -157: 171, -146: 170, 133: 168, 356: 166, 377: 166, 360: 166, -158: 166, -159: 165, 333: 165, 387: 165, 359: 164, -150: 164, 344: 164, 318: 163, -177: 163, -162: 163, 314: 162, 348: 161, 357: 160, 366: 157, 338: 157, 341: 156, 374: 156, -175: 155, 363: 152, -160: 151, 350: 150, 432: 150, -154: 149, 392: 149, -165: 149, -169: 149, 408: 148, -174: 147, 381: 147, 375: 147, -163: 147, 383: 147, -167: 147, 365: 146, -180: 146, 368: 144, 353: 144, 390: 143, 396: 143, 386: 143, 148: 142, 407: 141, -155: 140, 347: 140, 393: 140, 362: 140, 151: 139, 142: 138, 154: 138, 426: 138, 372: 137, -161: 137, 437: 136, 145: 136, 178: 135, -188: 135, 378: 135, -168: 135, -170: 135, 410: 133, 422: 133, 399: 132, 452: 132, -183: 132, 389: 132, 416: 132, 398: 131, -190: 130, 482: 130, -181: 130, -184: 130, 163: 130, 402: 129, -179: 129, -196: 128, 413: 128, 405: 127, 395: 127, -192: 127, 157: 126, 411: 126, -171: 126, -189: 126, -178: 126, 401: 125, -164: 125, 169: 124, 428: 123, -172: 123, -186: 123, 500: 122, 417: 122, 491: 122, -204: 121, 404: 121, 513: 121, 435: 121, 160: 121, -198: 120, -194: 120, 479: 120, -173: 119, 434: 118, -193: 117, 166: 117, 420: 117, 456: 117, -182: 117, -202: 117, 419: 116, 488: 116, 485: 116, 459: 115, 465: 115, 471: 115, 440: 115, 429: 114, 477: 113, 470: 113, 181: 112, 184: 112, -203: 112, -205: 112, -191: 112, 543: 111, 473: 111, 468: 110, 480: 110, 486: 110, 483: 109, -187: 108, 449: 108, -210: 108, 414: 108, 443: 107, -166: 107, 446: 107, -207: 106, -185: 106, -197: 106, 497: 106, 498: 106, 193: 106, -201: 106, 464: 105, -217: 104, -212: 104, -199: 104, 504: 104, 507: 104, 172: 103, -208: 103, 494: 103, -216: 103, 190: 103, 447: 103, -195: 103, 175: 102, 441: 102, 444: 102, -176: 102, 425: 101, 438: 101, 467: 101, -206: 101, 510: 101, -213: 101, 462: 101, 474: 101, 489: 100, 552: 100, 537: 100, 455: 99, 202: 99, 506: 99, 534: 99, 546: 99, 423: 98, 492: 98, 519: 97, 528: 97, 549: 97, 540: 97, 516: 95, 235: 95, 199: 94, -245: 94, 618: 94, -200: 94, -223: 93, 560: 93, 187: 93, 531: 93, 558: 93, 512: 93, 450: 93, 223: 92, 458: 92, 522: 92, 524: 92, 539: 92, 196: 91, 461: 91, -218: 91, -214: 91, 495: 91, 525: 91, 542: 90, 205: 90, 501: 90, 533: 89, 208: 89, 588: 89, 509: 89, -225: 89, 627: 89, 605: 88, 630: 88, 503: 88, 548: 88, 636: 87, 521: 87, 431: 87, 569: 86, -211: 86, -219: 86, 545: 86, 536: 85, -227: 84, -220: 84, -209: 84, 226: 84, 570: 84, -239: 84, 663: 84, 564: 84, 621: 83, 566: 83, 602: 83, 573: 82, 678: 82, 214: 82, 675: 82, 554: 82, -229: 81, 555: 81, -233: 81, -235: 80, -257: 80, 453: 80, 617: 80, 557: 80, 229: 79, 563: 79, 644: 79, 244: 79, 632: 78, 530: 78, -246: 78, 561: 78, 232: 78, 600: 77, 581: 77, 476: 77, 725: 77, 608: 77, 518: 77, -238: 76, 614: 76, 593: 76, 551: 76, 211: 75, 515: 75, 256: 74, 579: 74, -221: 74, -222: 74, 527: 74, -224: 74, -231: 74, 759: 73, -226: 73, -215: 73, 635: 73, 259: 73, 597: 72, -232: 72, 684: 72, 599: 71, 755: 71, -241: 71, -244: 71, 654: 71, -261: 70, 585: 70, 615: 69, 650: 69, -270: 69, 681: 69, 606: 69, 765: 69, 567: 69, 591: 69, 764: 68, 737: 68, 696: 68, 217: 68, 687: 68, 735: 68, -234: 68, 620: 68, -269: 68, -230: 67, 752: 67, 710: 67, 238: 67, -272: 67, 247: 66, 572: 66, 750: 66, 576: 66, 220: 66, -240: 66, 669: 66, 732: 66, 575: 65, 660: 65, -255: 65, -253: 65, 286: 65, -251: 65, 277: 64, 609: 64, 653: 64, 756: 64, -319: 64, -237: 64, 596: 64, 659: 64, 298: 64, 612: 64, 749: 64, 662: 64, 815: 64, -248: 64, 594: 63, 626: 63, 771: 63, 707: 63, -265: 63, -268: 63, 671: 63, -271: 63, 680: 63, 641: 63, 639: 62, -277: 62, -228: 62, 645: 62, 738: 62, -284: 62, -286: 62, 582: 62, 584: 61, 719: 61, 804: 61, 693: 61, 250: 61, 726: 60, 587: 60, 629: 60, 590: 60, 657: 60, 642: 60, -267: 60, 633: 60, 794: 60, 283: 60, 825: 59, 708: 59, -276: 59, 677: 59, 253: 59, 761: 59, 674: 58, 840: 58, -283: 58, 665: 58, 713: 58, -295: 58, -293: 58, 695: 58, 578: 57, 611: 57, 624: 57, 705: 57, -297: 57, -243: 57, -260: 57, 821: 57, 791: 57, 651: 57, 656: 57, -242: 56, -247: 56, 648: 56, 855: 56, 638: 56, 788: 56, -299: 56, 623: 56, -236: 56, 274: 55, -256: 55, 816: 55, -263: 55, -258: 55, -249: 55, 692: 55, 313: 55, -252: 55, 668: 55, 773: 55, 822: 54, 857: 54, 894: 54, -264: 54, -288: 54, -282: 54, 774: 54, 704: 54, 831: 54, 836: 54, 666: 54, 689: 54, 647: 54, 716: 53, 268: 53, 743: 53, -266: 53, 728: 53, 729: 53, 842: 53, 837: 53, 801: 53, 241: 53, -280: 52, 803: 52, 295: 52, 301: 52, 358: 52, -262: 52, 818: 52, -331: 52, 758: 52, 810: 51, 918: 51, 809: 51, 672: 51, 334: 51, -292: 51, -254: 51, 879: 51, 699: 51, -291: 51, 292: 51, 744: 51, 355: 51, 795: 51, 747: 51, 352: 50, 960: 50, 701: 50, 1034: 50, -314: 50, 891: 50, 734: 50, 789: 50, 741: 50, 798: 50, -321: 49, 800: 49, 723: 49, 843: 49, 289: 49, 331: 49, 698: 49, 702: 49, 307: 49, 783: 49, 941: 49, -328: 49, 786: 49, 683: 48, 1037: 48, -304: 48, -302: 48, -274: 48, 881: 48, -312: 48, -301: 48, -273: 48, 920: 48, -250: 48, 310: 48, 782: 48, 792: 48, 265: 47, 900: 47, 882: 47, 897: 47, 780: 47, -338: 47, -308: 47, 722: 47, 731: 47, 872: 47, -317: 47, -309: 47, -307: 47, -279: 47, 746: 46, 806: 46, 1044: 46, 777: 46, 939: 46, -296: 46, 767: 46, 1139: 46, 866: 46, 753: 46, 968: 45, 686: 45, 945: 45, -346: 45, -289: 45, -275: 45, -334: 45, 819: 45, 884: 45, 807: 45, 271: 44, 981: 44, 885: 44, 316: 44, -330: 44, -278: 44, 720: 44, -324: 44, -318: 44, -316: 44, 899: 44, -333: 44, -342: 44, 343: 44, 813: 44, 714: 44, 785: 44, 998: 44, 860: 44, 1013: 43, 1028: 43, -259: 43, -310: 43, -311: 43, -285: 43, 1025: 43, 717: 43, 1026: 43, 603: 43, 768: 43, 797: 43, -326: 43, 740: 42, 959: 42, 382: 42, 280: 42, -322: 42, -290: 42, -281: 42, 878: 42, -320: 42, 864: 41, 989: 41, 370: 41, 1002: 41, 873: 41, 845: 41, 1043: 41, -343: 41, 776: 41, 762: 41, 839: 41, 325: 41, 830: 41, 828: 41, 1004: 41, 896: 40, 1031: 40, 933: 40, 971: 40, -335: 40, -298: 40, 328: 40, 379: 40, -354: 40, -287: 40, 912: 40, 1019: 40, 1146: 40, -325: 40, -306: 40, 951: 40, 690: 40, 869: 40, 893: 40, 935: 40, -345: 39, 861: 39, 965: 39, 319: 39, 711: 39, 304: 39, 812: 39, 906: 39, 954: 39, 996: 39, -337: 39, 870: 39, 936: 39, 863: 39, 858: 39, 890: 38, 1182: 38, 779: 38, 987: 38, 1116: 38, 1118: 38, 887: 38, 770: 38, 942: 38, 947: 38, -303: 38, 397: 37, 824: 37, 1269: 37, -402: 37, 849: 37, 1001: 37, 1011: 37, 867: 37, -359: 37, 1172: 37, 909: 36, 340: 36, 1302: 36, -444: 36, -371: 36, -300: 36, 888: 36, 948: 36, 1041: 36, -315: 36, -429: 36, 1140: 36, -349: 36, 1122: 36, -329: 36, -294: 36, 924: 35, 1137: 35, -421: 35, -332: 35, 454: 35, -339: 35, -327: 35, 388: 35, -409: 35, -355: 35, 911: 35, 875: 35, 917: 35, 983: 35, 938: 35, -313: 35, 908: 35, 1032: 35, 846: 35, 930: 35, 424: 35, 1014: 34, 854: 34, 1104: 34, -385: 34, 349: 34, -374: 34, 1005: 34, 1143: 34, 1164: 34, -305: 34, 986: 34, -427: 34, 469: 34, 833: 34, 851: 34, 927: 34, 1065: 34, -387: 34, 956: 34, -365: 33, 1016: 33, 876: 33, 969: 33, 978: 33, 1073: 33, 1109: 33, 1310: 33, 1124: 33, 385: 33, -433: 33, -423: 33, -323: 33, 1007: 33, 1008: 32, 1070: 32, 1091: 32, 1101: 32, 1217: 32, 926: 32, 1046: 32, -356: 32, -436: 32, -377: 32, 1155: 32, 852: 32, 1068: 32, 984: 32, 1107: 32, -441: 32, -426: 32, -403: 32, -368: 32, -411: 32, 1248: 32, 992: 32, 827: 32, 1010: 31, 364: 31, -412: 31, 400: 31, 932: 31, 990: 31, 1083: 31, 1152: 31, 1226: 31, 1398: 31, 1047: 31, 1053: 31, -340: 31, 361: 31, 1094: 31, -425: 31, -396: 31, 903: 31, -344: 31, 451: 31, 995: 31, 394: 30, 1061: 30, 1020: 30, 1127: 30, 1223: 30, 322: 30, 376: 30, 923: 30, 974: 30, 1145: 30, 1236: 30, 1040: 30, 1049: 30, 391: 30, 975: 30, 1059: 30, 1151: 30, 1157: 30, 980: 30, 1205: 30, 1211: 30, -410: 30, -393: 30, -379: 30, 962: 30, 929: 30, 1187: 30, 1076: 30, 337: 30, 475: 29, 921: 29, 418: 29, -452: 29, -380: 29, 1161: 29, -397: 29, -430: 29, 993: 29, 1113: 29, -431: 29, 430: 29, -362: 29, 1029: 29, 834: 29, 1383: 28, 1110: 28, 1119: 28, -378: 28, -404: 28, 592: 28, 1175: 28, 373: 28, 1275: 28, 1134: 28, -485: 28, -407: 28, 1292: 28, 1319: 28, -401: 28, -358: 28, 1158: 28, 1304: 28, 963: 28, 508: 28, -369: 28, 950: 27, 757: 27, 977: 27, 1071: 27, 1188: 27, 1193: 27, 1224: 27, 915: 27, -456: 27, 496: 27, -372: 27, 532: 27, 1052: 27, 1194: 27, 1364: 27, -503: 27, -445: 27, 1332: 27, -363: 27, 412: 27, 905: 27, 914: 27, 1088: 27, 1259: 27, 953: 27, 406: 27, 1067: 27, 1082: 27, 1131: 27, -418: 27, -405: 27, 999: 27, -347: 27, 628: 27, -366: 27, 848: 27, -373: 27, -376: 26, 262: 26, -350: 26, 1055: 26, 1149: 26, 1455: 26, -336: 26, -447: 26, 1085: 26, -419: 26, -415: 26, -457: 26, -353: 26, 1212: 26, 1185: 26, 1232: 26, -507: 26, -438: 26, -414: 26, -352: 26, 1278: 26, 1142: 26, 1227: 26, 1245: 26, -357: 26, 346: 26, 1260: 25, 1239: 25, 1256: 25, 1266: 25, 1263: 25, -351: 25, 439: 25, 944: 25, 957: 25, 1274: 25, -428: 25, -424: 25, -416: 25, -413: 25, 457: 25, 1064: 25, 1079: 25, -434: 25, -388: 25, 481: 25, 514: 25, 1097: 25, 1467: 25, 1095: 24, 1115: 24, 448: 24, -364: 24, 535: 24, 367: 24, 1100: 24, 1173: 24, 1178: 24, 1400: 24, 403: 24, -439: 24, -446: 24, -361: 24, -435: 24, 1038: 24, 1221: 24, -341: 24, -422: 24, 478: 24, 766: 24, 1179: 24, 499: 24, -417: 24, -348: 24, 1287: 23, 1218: 23, 1247: 23, 427: 23, 523: 23, 1058: 23, -500: 23, -551: 23, -448: 23, 493: 23, 1286: 23, 1442: 23, 1017: 23, 1103: 23, 1166: 23, 1190: 23, 1289: 23, -451: 23, -420: 23, -437: 23, -386: 23, 1035: 23, 1112: 23, -406: 23, 553: 23, 1136: 23, 1176: 23, -360: 22, 1199: 22, 1125: 22, 1206: 22, 1244: 22, 1799: 22, -392: 22, -367: 22, 1295: 22, -508: 22, -382: 22, -391: 22, 1092: 22, 1314: 22, 1346: 22, 1436: 22, 1169: 22, -383: 22, -450: 22, -442: 22, -381: 22, 1457: 22, 1284: 22, 1080: 22, 1242: 22, -400: 22, 1098: 21, 1583: 21, 1265: 21, 1301: 21, 1359: 21, -473: 21, -461: 21, 568: 21, 520: 21, 1401: 21, -561: 21, -505: 21, -395: 21, -531: 21, 421: 21, 433: 21, 463: 21, 1386: 21, 1331: 21, -516: 20, 526: 20, 631: 20, 1433: 20, 1458: 20, -545: 20, -466: 20, 1133: 20, -578: 20, 1130: 20, 1200: 20, 1880: 20, -440: 20, -398: 20, 667: 20, 1089: 20, 682: 20, 1167: 20, -408: 20, 490: 20, 1181: 20, 902: 20, 1962: 20, 2214: 20, 1365: 20, 1170: 20, 1229: 19, -460: 19, 442: 19, -375: 19, 1106: 19, 1184: 19, 1313: 19, 1437: 19, -511: 19, 1023: 19, 1062: 19, 505: 19, -544: 19, -465: 19, -370: 19, 972: 19, 1307: 19, 1335: 19, 1434: 19, 1086: 19, 1128: 19, 1635: 19, -475: 19, 409: 19, 1358: 19, 1377: 19, 1254: 19, 1317: 19, 607: 18, 1074: 18, 1542: 18, 1626: 18, 1323: 18, 1347: 18, 1404: 18, 1413: 18, 1154: 18, -591: 18, -573: 18, 1530: 18, 1367: 18, 1589: 18, 1794: 18, 1487: 18, -443: 18, -499: 18, 529: 18, 487: 18, 466: 18, -534: 18, 1191: 18, 1250: 18, 1727: 18, 2318: 18, 966: 18, -399: 18, 1629: 18, 610: 18, 472: 17, -568: 17, 1598: 17, 1056: 17, 1196: 17, 1215: 17, 1362: 17, 1410: 17, 1431: 17, -487: 17, 1503: 17, 2315: 17, -498: 17, -483: 17, -476: 17, -384: 17, -556: 17, -453: 17, -555: 17, 1241: 17, 1427: 17, 1637: 17, 1743: 17, 1280: 17, 1283: 17, 1293: 17, 1703: 17, -563: 17, 1935: 17, 484: 17, 1890: 17, 961: 17, 1209: 17, 550: 17, 1421: 17, 1382: 17, 1077: 17, 562: 16, 1230: 16, -455: 16, -541: 16, -537: 16, 652: 16, 1545: 16, 1590: 16, 1650: 16, 1298: 16, 1305: 16, 1425: 16, 697: 16, 1691: 16, -527: 16, -521: 16, -497: 16, -529: 16, -490: 16, 1268: 16, 781: 16, 1464: 16, 1485: 16, 1812: 16, 1829: 16, 1871: 16, 544: 16, -582: 16, -432: 16, 1197: 16, 1262: 16, 763: 16, 502: 16, 1344: 16, 1403: 16, -470: 16, 646: 16, 673: 16, 556: 16, 1148: 16, 799: 16, 2108: 16, 979: 16, -467: 16, 1443: 15, 2181: 15, 1202: 15, 1380: 15, 1121: 15, -618: 15, 541: 15, 703: 15, 559: 15, 640: 15, 1553: 15, 1611: 15, 1628: 15, 1160: 15, 1361: 15, 1379: 15, 1769: 15, -543: 15, -583: 15, -571: 15, -542: 15, 1050: 15, -449: 15, 1758: 15, 1257: 15, 1374: 15, 1454: 15, 1796: 15, 1163: 15, 565: 15, 1835: 15, 1877: 15, 580: 15, -454: 15, -394: 15, 1896: 15, 1860: 15, -464: 15, 583: 15, 445: 15, 751: 15, 1842: 15, 1866: 15, 724: 15, 1625: 15, 769: 15, 589: 15, 1422: 15, -594: 14, 1592: 14, 1533: 14, 1536: 14, 1559: 14, 1562: 14, 1575: 14, 1578: 14, 1595: 14, 1601: 14, 1613: 14, -389: 14, 1371: 14, 1610: 14, 1683: 14, 1736: 14, 1737: 14, 1739: 14, -524: 14, -517: 14, -488: 14, -559: 14, -554: 14, -548: 14, -587: 14, -518: 14, -512: 14, -493: 14, 1451: 14, 1203: 14, 1665: 14, 1668: 14, 1707: 14, 1761: 14, 1856: 14, -478: 14, 1238: 14, 1770: 14, -649: 14, 436: 14, 1271: 14, 994: 14, 1235: 14, 1299: 14, 1392: 14, 733: 14, 850: 14, -637: 14, 1460: 14, 1620: 14, 2204: 14, 658: 14, 727: 14, 2316: 14, -459: 14, 823: 14, 1168: 14, -468: 14, 1341: 13, 1343: 13, 1220: 13, 415: 13, -579: 13, -640: 13, -536: 13, 1532: 13, 1541: 13, 1587: 13, 1632: 13, 1349: 13, 1409: 13, 1469: 13, 2324: 13, -552: 13, -489: 13, -574: 13, 604: 13, -708: 13, -481: 13, -588: 13, 1340: 13, 1350: 13, 1512: 13, 1722: 13, 1802: 13, 1851: 13, 760: 13, 1334: 13, 1868: 13, 1959: 13, -569: 13, 1725: 13, 1815: 13, 2198: 13, 1370: 13, -565: 13, -462: 13, 598: 13, 910: 13, 571: 13, 622: 13, 547: 13, 1253: 13, -506: 13, 841: 13, 1680: 13, -390: 13, 538: 13, 1463: 13, 772: 13, 1407: 13, 2189: 13, 637: 13, 730: 13, -480: 13, 784: 13, 718: 13, 1841: 13, 1338: 12, -780: 12, -706: 12, -546: 12, -533: 12, 1548: 12, 1593: 12, 1602: 12, 916: 12, 1022: 12, 1281: 12, 1320: 12, 1385: 12, 1406: 12, 1416: 12, 1418: 12, 1430: 12, 706: 12, 712: 12, 1233: 12, 1329: 12, 2043: 12, 2229: 12, 2277: 12, -523: 12, -502: 12, -501: 12, -479: 12, -474: 12, -599: 12, 1054: 12, -654: 12, 1428: 12, -687: 12, -616: 12, 1277: 12, 1476: 12, 1757: 12, 1779: 12, 1784: 12, 1850: 12, 1214: 12, 1322: 12, 1493: 12, 1497: 12, 1686: 12, 1695: 12, 1821: 12, 2052: 12, 2331: 12, 586: 12, 460: 12, 1781: 12, 859: 12, -659: 12, 664: 12, 1308: 12, 2015: 12, 1251: 12, 1394: 12, 649: 12, 805: 12, -621: 12, 1461: 12, 2081: 12, 1734: 12, 1833: 12, 1926: 12, 2064: 12, 2307: 12, 2336: 12, 517: 12, 1511: 12, 1518: 12, -510: 12, 1412: 12, 829: 12, 1521: 12, 1311: 12, 868: 11, 1153: 11, 1535: 11, 1538: 11, 1565: 11, 1569: 11, 1580: 11, 1584: 11, 1631: 11, 1644: 11, 1646: 11, 1659: 11, 1356: 11, 1724: 11, 1898: 11, 1973: 11, 2012: 11, -514: 11, -504: 11, -492: 11, -584: 11, -530: 11, -626: 11, -615: 11, 796: 11, 1036: 11, 1325: 11, 1445: 11, 1499: 11, 1508: 11, 1719: 11, 1824: 11, 685: 11, 814: 11, 940: 11, 1439: 11, 1449: 11, 1776: 11, 1793: 11, 2109: 11, 2325: 11, 2382: 11, 2445: 11, 2630: 11, 2652: 11, 511: 11, 694: 11, 886: 11, 1520: 11, 1934: 11, 2202: 11, -538: 11, -469: 11, 754: 11, 1452: 11, 643: 11, 937: 11, 1273: 11, 574: 11, -482: 11, 1523: 11, 2040: 11, 1526: 11, 1782: 11, 1844: 11, 2145: 11, 2262: 11, 2327: 11, -676: 11, -795: 11, -651: 11, -632: 11, -602: 11, 1751: 11, 2742: 11, 778: 11, 1872: 11, 2184: 11, -562: 11, 1524: 11, 2048: 11, -718: 11, 811: 11, 883: 11, 892: 11, 1006: 11, 1081: 11, 1222: 11, 616: 11, 1622: 11, 2057: 11, 2103: 11, 2268: 11, 2279: 11, 2301: 11, -509: 11, -705: 10, -603: 10, -601: 10, 1544: 10, 1547: 10, 1549: 10, 1566: 10, 1577: 10, 1586: 10, 1599: 10, 1619: 10, 1658: 10, 1397: 10, -491: 10, 1389: 10, 1470: 10, 1886: 10, 1919: 10, 1952: 10, 2138: 10, 2150: 10, -525: 10, -494: 10, -665: 10, -566: 10, -686: 10, -598: 10, -550: 10, -484: 10, -611: 10, -597: 10, -572: 10, 1752: 10, -515: 10, 1473: 10, 1475: 10, 1481: 10, 1529: 10, 1979: 10, 2069: 10, 2220: 10, 2241: 10, 2243: 10, 2246: 10, 817: 10, 1820: 10, 2070: 10, 2190: 10, 1514: 10, -720: 10, -669: 10, 856: 10, 625: 10, 1682: 10, 1992: 10, 1272: 10, 1352: 10, 595: 10, 1788: 10, 2573: 10, 2751: 10, -631: 10, -641: 10, 721: 10, 1373: 10, 1740: 10, 1742: 10, 1754: 10, 1803: 10, 1967: 10, 1986: 10, 2037: 10, 2049: 10, 2061: 10, 2099: 10, 2185: 10, 2217: 10, 2313: 10, 2328: 10, -656: 10, -636: 10, 2439: 10, 2885: 10, 1472: 10, 2028: 10, 2045: 10, 2643: 10, -458: 10, 862: 10, 2304: 10, -576: 10, 1479: 10, 826: 10, 832: 10, 1839: 10, 877: 10, 952: 10, 1664: 10, 1947: 10, 2055: 10, 2234: 10, 2370: 10, 2912: 10, 1857: 10, 913: 9, -629: 9, -609: 9, 601: 9, 700: 9, 1647: 9, 1656: 9, 1671: 9, 1415: 9, 1419: 9, 1614: 9, 1881: 9, 2085: 9, 2142: 9, 2144: 9, 2274: 9, 2322: 9, -520: 9, -486: 9, -477: 9, -472: 9, -539: 9, 853: 9, -661: 9, -648: 9, -630: 9, -593: 9, -577: 9, -547: 9, 1316: 9, 1337: 9, 1466: 9, 1484: 9, 1721: 9, 1809: 9, 1814: 9, 1830: 9, 661: 9, 1328: 9, 1617: 9, 1817: 9, 1977: 9, 2147: 9, 2288: 9, 2444: 9, -567: 9, 1090: 9, 838: 9, 1994: 9, 676: 9, 1893: 9, 2100: 9, 2111: 9, 2187: 9, -730: 9, 634: 9, 904: 9, 1108: 9, 1355: 9, -613: 9, -532: 9, 1662: 9, 670: 9, 1701: 9, -589: 9, -612: 9, -586: 9, -638: 9, 1917: 9, 2079: 9, 1923: 9, 2097: 9, 2106: 9, 2192: 9, 2289: 9, 1785: 9, 1929: 9, 2022: 9, 2174: 9, 2285: 9, 2708: 9, -689: 9, -634: 9, 2972: 9, 1875: 9, -664: 9, 1078: 9, 1051: 9, 1072: 9, 1162: 9, 889: 9, 2051: 9, 3137: 9, 3353: 9, 3915: 9, 793: 9, -513: 9, 2148: 9, 736: 9, -580: 9, 2276: 9, -643: 8, -585: 8, -726: 8, -673: 8, -657: 8, 691: 8, 1550: 8, 1554: 8, 1556: 8, 1557: 8, 1604: 8, 1607: 8, 1623: 8, 1653: 8, 1676: 8, 1440: 8, 1208: 8, 1679: 8, 1688: 8, 1716: 8, 1895: 8, 2136: 8, 2249: 8, 2295: 8, -758: 8, -688: 8, -645: 8, -627: 8, -528: 8, -581: 8, -496: 8, 1261: 8, 1424: 8, 1482: 8, 1490: 8, 1673: 8, 1775: 8, 901: 8, 1500: 8, 1505: 8, 1863: 8, 1902: 8, 1908: 8, 1914: 8, 2019: 8, 2282: 8, 2541: 8, 2636: 8, -549: 8, 865: 8, 1509: 8, 1904: 8, 2183: 8, 1920: 8, -696: 8, -463: 8, 1450: 8, 1353: 8, 1426: 8, 835: 8, 1395: 8, 1806: 8, 2579: 8, -607: 8, 1388: 8, 2034: 8, 613: 8, 1048: 8, 1252: 8, 1414: 8, 1823: 8, 1941: 8, 1976: 8, 2168: 8, 2280: 8, 2298: 8, 2308: 8, 2330: 8, 2351: 8, -663: 8, 688: 8, -678: 8, -642: 8, -620: 8, -606: 8, -604: 8, -471: 8, 787: 8, 2228: 8, 2447: 8, 2658: 8, 2987: 8, 3501: 8, 3660: 8, -722: 8, 3462: 8, 1515: 8, 2741: 8, 2892: 8, 2984: 8, 943: 8, -639: 8, -557: 8, 1075: 8, 871: 8, 958: 8, 1093: 8, 1393: 8, 1838: 8, 2006: 8, 2093: 8, 2094: 8, 2205: 8, 2226: 8, 2238: 8, 2342: 8, 2367: 8, 2519: 8, 3636: 8, 4146: 8, 1502: 8, 2180: 8, -684: 8, -802: 8, 1294: 8, 1069: 8, 3761: 8, 2970: 7, -671: 7, -655: 7, -519: 7, -756: 7, -646: 7, -619: 7, -564: 7, 1551: 7, 1563: 7, 1568: 7, 1571: 7, 1574: 7, 1581: 7, 1596: 7, 1616: 7, 1634: 7, 1649: 7, 949: 7, 2001: 7, 2027: 7, 2132: 7, 2319: 7, -633: 7, -610: 7, -590: 7, -560: 7, 1478: 7, 1760: 7, 1832: 7, 1159: 7, 1120: 7, 2082: 7, 2178: 7, 2196: 7, 1279: 7, 1730: 7, 1234: 7, -719: 7, -680: 7, -796: 7, -715: 7, 1198: 7, -851: 7, 655: 7, 928: 7, 1384: 7, 2105: 7, 1207: 7, 1296: 7, 3135: 7, 1033: 7, 1715: 7, 1869: 7, -522: 7, -808: 7, -731: 7, -712: 7, -666: 7, -628: 7, -672: 7, 1309: 7, 2072: 7, 991: 7, 1985: 7, 1764: 7, 1805: 7, 1854: 7, 2139: 7, 2210: 7, 2232: 7, 2361: 7, -690: 7, -734: 7, -882: 7, -575: 7, 2495: 7, 2357: 7, 2523: 7, -717: 7, 790: 7, 2963: 7, 745: 7, 2270: 7, -753: 7, -721: 7, 1318: 7, 1710: 7, 577: 7, 808: 7, 1018: 7, 1027: 7, 1132: 7, 1324: 7, 715: 7, 1728: 7, 1995: 7, 2060: 7, 2165: 7, 2317: 7, 2406: 7, 2504: 7, 2715: 7, 2727: 7, 2729: 7, 2849: 7, 2981: 7, 3207: 7, 3227: 7, 3290: 7, 3306: 7, 3383: 7, 2073: 7, 2075: 7, 1836: 7, 1953: 7, 1925: 7, 2618: 7, 2310: 7, 1827: 7, 1932: 7, 3690: 7, 1408: 6, -819: 6, -652: 6, -900: 6, -786: 6, -783: 6, -776: 6, -770: 6, 1534: 6, 1558: 6, 1560: 6, 1572: 6, 1582: 6, 1641: 6, 1643: 6, 1402: 6, 1446: 6, 2141: 6, 2311: 6, 2321: 6, -526: 6, -495: 6, 2411: 6, -595: 6, -624: 6, -617: 6, -600: 6, 1670: 6, 1674: 6, 1797: 6, 1811: 6, 1847: 6, 988: 6, 1290: 6, 1694: 6, 1772: 6, 1884: 6, 1916: 6, 2193: 6, 2223: 6, 2235: 6, 2496: 6, 2531: 6, 2582: 6, -751: 6, 1491: 6, 1713: 6, 2768: 6, -681: 6, -592: 6, -553: 6, 919: 6, 931: 6, 2003: 6, 2283: 6, 1192: 6, 1326: 6, 1368: 6, -703: 6, 1689: 6, -1006: 6, -716: 6, 2753: 6, 1763: 6, 1928: 6, 1391: 6, 922: 6, 1243: 6, 1444: 6, 2054: 6, 2123: 6, 2127: 6, 2166: 6, 2186: 6, 2201: 6, 2286: 6, 2343: 6, 2346: 6, 742: 6, -744: 6, -828: 6, -826: 6, -785: 6, -677: 6, -570: 6, 1692: 6, 1859: 6, 1865: 6, -704: 6, 739: 6, 1012: 6, -1278: 6, 679: 6, 2031: 6, 2475: 6, -733: 6, -709: 6, -692: 6, -674: 6, 1096: 6, 1174: 6, 1189: 6, 1369: 6, 1330: 6, 1748: 6, 1949: 6, 1975: 6, 1999: 6, 2112: 6, 2171: 6, 2206: 6, 2207: 6, 2224: 6, 2352: 6, 2394: 6, 2434: 6, 2515: 6, 2517: 6, 2525: 6, 2528: 6, 2568: 6, 2642: 6, 2649: 6, 2651: 6, 2655: 6, 2664: 6, 2676: 6, 2687: 6, 2703: 6, 2704: 6, 2714: 6, 2723: 6, 2724: 6, 2732: 6, 2765: 6, 2769: 6, 2771: 6, 2772: 6, 2774: 6, 2804: 6, 2822: 6, 2852: 6, 2879: 6, 2891: 6, 2966: 6, 2967: 6, 2982: 6, 2990: 6, 2991: 6, 3015: 6, 3129: 6, 3132: 6, 3141: 6, 3243: 6, 3269: 6, 3284: 6, 3293: 6, 3311: 6, 3327: 6, 3348: 6, 3360: 6, 3369: 6, 3378: 6, 3380: 6, 3384: 6, 3389: 6, 3399: 6, 3503: 6, 3603: 6, 3623: 6, 3642: 6, 3678: 6, 4128: 6, 4130: 6, 775: 6, 1698: 6, 1731: 6, 2023: 6, 2511: 6, 2000: 6, 1102: 6, 1376: 6, 1438: 6, 1745: 6, 1706: 6, 1946: 6, 3942: 6, 2255: 6, 2625: 6, 1099: 6, 2735: 6, -943: 5, -886: 5, -647: 5, -596: 5, -793: 5, -777: 5, -667: 5, 619: 5, 1539: 5, 1597: 5, 1600: 5, 1636: 5, 1652: 5, 1315: 5, 1423: 5, 1800: 5, 1899: 5, 1905: 5, 1991: 5, 2018: 5, 2135: 5, 2252: 5, 2271: 5, -535: 5, 2405: 5, 2408: 5, 2412: 5, 3110: 5, 2465: 5, 2472: 5, 2486: 5, -697: 5, -679: 5, -622: 5, 1024: 5, 1516: 5, 1791: 5, 982: 5, 1700: 5, 2007: 5, 2042: 5, 2126: 5, 2216: 5, 2256: 5, 2265: 5, 2312: 5, 2436: 5, 2450: 5, 2492: 5, 2571: 5, 2634: 5, 1448: 5, 1527: 5, 1709: 5, 1718: 5, 2169: 5, 2211: 5, 2151: 5, 2158: 5, -771: 5, -700: 5, 1183: 5, -874: 5, -792: 5, 847: 5, 964: 5, -791: 5, 1494: 5, 1892: 5, -614: 5, 2591: 5, -741: 5, 1087: 5, 1729: 5, 2067: 5, 2182: 5, 2332: 5, 1345: 5, 1237: 5, -837: 5, -668: 5, -650: 5, 748: 5, 1818: 5, 1965: 5, 2172: 5, 2195: 5, 2358: 5, 2948: 5, 3204: 5, 3456: 5, 3492: 5, -752: 5, -710: 5, 1808: 5, 2349: 5, 2385: 5, 2403: 5, 2409: 5, 2426: 5, 1123: 5, 1697: 5, 1956: 5, 2004: 5, 2013: 5, 2046: 5, -997: 5, -824: 5, -821: 5, -763: 5, -694: 5, 1195: 5, 955: 5, 1030: 5, 1270: 5, 1756: 5, 2071: 5, 2417: 5, 2418: 5, 2648: 5, 2696: 5, 2725: 5, 2726: 5, 2734: 5, 2738: 5, 2825: 5, 2895: 5, 3017: 5, 3022: 5, 3143: 5, 3363: 5, 3365: 5, 3366: 5, 3557: 5, 3558: 5, 3615: 5, 3620: 5, 3624: 5, 3630: 5, 3639: 5, 3641: 5, 3654: 5, 3666: 5, 3685: 5, 3689: 5, 3698: 5, 3701: 5, 3740: 5, 3782: 5, 3785: 5, 3786: 5, 3794: 5, 3797: 5, 3798: 5, 3800: 5, 3801: 5, 3803: 5, 3804: 5, 3821: 5, 3854: 5, 3858: 5, 3860: 5, 3863: 5, 3864: 5, 3866: 5, 3867: 5, 3872: 5, 3875: 5, 3882: 5, 3884: 5, 3888: 5, 3899: 5, 3903: 5, 3911: 5, 3917: 5, 3920: 5, 3924: 5, 3953: 5, 3968: 5, 3969: 5, 3975: 5, 3980: 5, 4014: 5, 4016: 5, 4022: 5, 4041: 5, 4043: 5, 4053: 5, 4076: 5, 4110: 5, 4125: 5, 4166: 5, 4176: 5, 4183: 5, 4221: 5, 4245: 5, 4248: 5, 4256: 5, 4266: 5, 4268: 5, 4269: 5, 4278: 5, 4280: 5, 4283: 5, 4284: 5, 4287: 5, 4293: 5, 4295: 5, 4296: 5, 4299: 5, 4311: 5, 925: 5, 2939: 5, 1639: 5, 1974: 5, 2087: 5, 1667: 5, 1982: 5, 2264: 5, 2267: 5, 1021: 5, 1039: 5, 1042: 5, 1135: 5, 1387: 5, 3215: 5, -738: 5, 1766: 5, 1937: 5, 2379: 5, 1887: 5, -623: 5, 967: 5, 1000: 5, 2222: 5, 820: 5, 1264: 5, 2865: 5, 2993: 5, 3216: 5, 3248: 5, 3303: 5, 3326: 5, 3350: 5, 3540: 5, 3588: 5, 3599: 5, 3905: 5, 4242: 5, 1117: 5, -787: 5, 1933: 5, 1186: 5, -714: 5, -693: 5, -1084: 4, -888: 4, -877: 4, -840: 4, -835: 4, -823: 4, -662: 4, -856: 4, -854: 4, -768: 4, -750: 4, 1576: 4, 1605: 4, 1630: 4, 1640: 4, 1642: 4, 1517: 4, 1685: 4, 1998: 4, 2121: 4, 3035: 4, 2387: 4, 2456: 4, 2462: 4, 2467: 4, 2468: 4, -767: 4, -605: 4, -558: 4, 2154: 4, 1306: 4, 1435: 4, 1661: 4, 1677: 4, 1704: 4, 1819: 4, 1733: 4, 1874: 4, 1950: 4, 2088: 4, 2213: 4, 2240: 4, 2306: 4, 2441: 4, 2498: 4, 2549: 4, 2555: 4, 2575: 4, 2576: 4, 2597: 4, 2153: 4, 2160: 4, 2091: 4, 2682: 4, -914: 4, 907: 4, -843: 4, -803: 4, 976: 4, -540: 4, 1702: 4, 802: 4, -625: 4, -937: 4, -746: 4, 1009: 4, 1826: 4, -814: 4, -1097: 4, -764: 4, -675: 4, -660: 4, 2577: 4, 2750: 4, 2752: 4, 2754: 4, 1749: 4, 2084: 4, 2390: 4, 2415: 4, -670: 4, -833: 4, -653: 4, 2469: 4, 1638: 4, 1853: 4, 1927: 4, 1983: 4, 2090: 4, 2208: 4, 2218: 4, 2508: 4, 2933: 4, 2949: 4, 2955: 4, 3261: 4, 3429: 4, 3476: 4, -737: 4, -713: 4, -683: 4, 3470: 4, 3472: 4, 3479: 4, 1171: 4, 2547: 4, 2640: 4, 2688: 4, 2702: 4, 2889: 4, 2901: 4, 2943: 4, -1753: 4, -1151: 4, -805: 4, 1390: 4, 2010: 4, 2130: 4, 2231: 4, 2253: 4, 2463: 4, 2483: 4, 2544: 4, -841: 4, -789: 4, -774: 4, -727: 4, -682: 4, 1717: 4, 1773: 4, -951: 4, -743: 4, 946: 4, 1045: 4, 1111: 4, 3633: 4, 3650: 4, 3656: 4, 3661: 4, 3764: 4, 3774: 4, 3795: 4, 3861: 4, 3869: 4, 3894: 4, 4015: 4, 4020: 4, 4027: 4, 4067: 4, 4074: 4, 4096: 4, 4250: 4, 4259: 4, 4262: 4, 4274: 4, 2452: 4, 1924: 4, 2117: 4, 2177: 4, 2832: 4, 1938: 4, 1964: 4, 2030: 4, 2420: 4, 2520: 4, 1943: 4, 1201: 4, 1405: 4, 1988: 4, 997: 4, 2259: 4, 3122: 4, -825: 4, 1980: 4, 1987: 4, 2036: 4, 2096: 4, 2381: 4, 1488: 4, 1855: 4, -925: 4, -773: 4, 1354: 4, 1357: 4, 1767: 4, 2133: 4, 2396: 4, 2399: 4, 2904: 4, 3267: 4, 3345: 4, 3525: 4, 3612: 4, 3923: 4, 4152: 4, 4205: 4, -810: 4, -778: 4, -820: 4, -794: 4, -784: 4, -658: 4, 3342: 4, 3449: 3, -1031: 3, -966: 3, -938: 3, -885: 3, -883: 3, -850: 3, -724: 3, -702: 3, 1608: 3, 1968: 3, 2129: 3, 3046: 3, 3055: 3, 3059: 3, 3060: 3, 3104: 3, 3108: 3, 3113: 3, 3115: 3, 3116: 3, 3120: 3, 3127: 3, 2479: 3, 3134: 3, -644: 3, 898: 3, 1496: 3, 1845: 3, 1570: 3, 1787: 3, 1901: 3, 2026: 3, 2115: 3, 2164: 3, 2239: 3, 2244: 3, 2273: 3, 2291: 3, 2300: 3, 2339: 3, 2431: 3, 2442: 3, 2474: 3, 2534: 3, 2538: 3, 2550: 3, 2586: 3, 2592: 3, 2639: 3, 2663: 3, -781: 3, 1910: 3, 2016: 3, 2156: 3, 1456: 3, 2900: 3, 2961: 3, -1255: 3, -1249: 3, -1240: 3, -1236: 3, -1220: 3, -1168: 3, -1112: 3, -905: 3, -685: 3, -1030: 3, -1000: 3, -964: 3, 3213: 3, 1447: 3, -871: 3, -845: 3, 1837: 3, 1129: 3, 1165: 3, 1213: 3, 1282: 3, -953: 3, -942: 3, -901: 3, -868: 3, -859: 3, -754: 3, 1913: 3, -987: 3, -984: 3, -980: 3, 2574: 3, 2757: 3, -816: 3, 1795: 3, -881: 3, -872: 3, -861: 3, 709: 3, 1907: 3, 2397: 3, 2451: 3, 2510: 3, 2631: 3, 2898: 3, 2958: 3, 3087: 3, 3109: 3, 3119: 3, 3153: 3, 3189: 3, 3191: 3, 3258: 3, 3279: 3, 3510: 3, 3554: 3, 3561: 3, 3584: 3, 3669: 3, 3805: 3, 3842: 3, 3912: 3, 3914: 3, 3918: 3, 3944: 3, 4046: 3, 4083: 3, 4335: 3, 4346: 3, 4416: 3, 4506: 3, 4524: 3, 4533: 3, 4563: 3, 4614: 3, 4679: 3, -723: 3, -711: 3, 3410: 3, 3451: 3, 3453: 3, 3455: 3, 3457: 3, 3458: 3, 3463: 3, 3464: 3, 3465: 3, 3466: 3, 3467: 3, 3471: 3, 3474: 3, 3475: 3, 3477: 3, 3480: 3, 3481: 3, 3482: 3, 3484: 3, 3485: 3, 3489: 3, 1958: 3, 1970: 3, 2114: 3, 2373: 3, 2527: 3, 2535: 3, 2564: 3, 2615: 3, 2633: 3, 2699: 3, 2730: 3, 2733: 3, 2744: 3, 2746: 3, 2795: 3, 2796: 3, 2798: 3, 2805: 3, 2810: 3, 2813: 3, 2817: 3, 2828: 3, 2873: 3, 2882: 3, 2903: 3, 2909: 3, 2932: 3, 2936: 3, -800: 3, 1003: 3, 1519: 3, 1911: 3, 1922: 3, 2225: 3, 2384: 3, 2480: 3, 2529: 3, 2559: 3, -927: 3, -847: 3, -844: 3, -766: 3, -748: 3, -745: 3, -1056: 3, -1046: 3, -1041: 3, -1037: 3, -998: 3, -996: 3, -929: 3, -691: 3, -1066: 3, -986: 3, 1228: 3, 1231: 3, 1807: 3, 2931: 3, 1471: 3, 2035: 3, 2101: 3, 2929: 3, 2930: 3, 1997: 3, 2297: 3, 2348: 3, 2514: 3, 2522: 3, 2621: 3, 2637: 3, 2670: 3, 2675: 3, 2009: 3, 1510: 3, 2532: 3, 1066: 3, 1105: 3, 1339: 3, 1351: 3, 1477: 3, 1738: 3, -801: 3, -740: 3, 1378: 3, 2481: 3, 2502: 3, 2507: 3, 2124: 3, 4035: 3, -899: 3, -873: 3, -775: 3, -757: 3, -822: 3, 2248: 3, 2340: 3, 2364: 3, 2368: 3, 2272: 3, 2350: 3, 2414: 3, 2562: 3, 2706: 3, 2915: 3, 3024: 3, 3050: 3, 3074: 3, 3101: 3, 3126: 3, 3488: 3, 3600: 3, 3626: 3, 1141: 3, 1687: 3, 1862: 3, 1944: 3, 1955: 3, 2039: 3, 2077: 3, 2102: 3, 2219: 3, 2453: 3, 2922: 3, 3000: 3, -701: 3, 2616: 3, 4272: 3, 4396: 3, 4461: 3, 4980: 3, 5177: 3, 5375: 3, 5462: 3, 844: 3, 880: 3, -1246: 3, -1050: 3, -739: 3, -728: 3, -1093: 3, -989: 3, 1246: 3, 1285: 3, 2773: 2, 1372: 2, -1029: 2, -960: 2, -952: 2, -864: 2, -834: 2, -760: 2, 1552: 2, 1591: 2, 1594: 2, 1615: 2, 1618: 2, 1633: 2, 1655: 2, 1663: 2, 1981: 2, 2398: 2, 3052: 2, 3053: 2, 3056: 2, 3058: 2, 3064: 2, 2416: 2, 2460: 2, 3118: 2, 2470: 2, 1381: 2, 1249: 2, 1375: 2, 1420: 2, 1525: 2, 1879: 2, 1882: 2, 2260: 2, 2275: 2, 2454: 2, 2490: 2, 2563: 2, 2604: 2, 3255: 2, 4475: 2, 4573: 2, 1432: 2, 1755: 2, 2047: 2, 1712: 2, 2691: 2, -1251: 2, -1241: 2, -1231: 2, -1209: 2, -1189: 2, -1135: 2, -1133: 2, -917: 2, -761: 2, -1119: 2, -1098: 2, -1042: 2, -897: 2, 3210: 2, 1459: 2, 1462: 2, -831: 2, 2140: 2, 985: 2, -1163: 2, -1144: 2, -934: 2, -903: 2, -893: 2, -1078: 2, -973: 2, -946: 2, -918: 2, 2578: 2, 2581: 2, 2584: 2, 2755: 2, 2583: 2, 2585: 2, 2749: 2, 2756: 2, -930: 2, 1891: 2, 1961: 2, 1822: 2, -880: 2, -879: 2, -876: 2, 2471: 2, 2484: 2, 2503: 2, 2917: 2, 1945: 2, 2254: 2, 3395: 2, 3401: 2, 3587: 2, 3722: 2, 3731: 2, 4131: 2, 4624: 2, 4664: 2, 4734: 2, 4742: 2, -788: 2, -779: 2, 3412: 2, 3454: 2, 3469: 2, 3478: 2, 3505: 2, 1627: 2, 2609: 2, 2619: 2, 2627: 2, 2638: 2, 2660: 2, 2869: 2, 2975: 2, 3018: 2, 2824: 2, 2063: 2, 2221: 2, 2391: 2, 2499: 2, -1091: 2, -1088: 2, -1017: 2, -842: 2, -1036: 2, -1032: 2, -1026: 2, -1025: 2, -1024: 2, -1018: 2, -1016: 2, -1015: 2, -1012: 2, -1005: 2, -992: 2, -988: 2, -979: 2, -958: 2, -956: 2, -941: 2, -935: 2, -889: 2, -954: 2, -1708: 2, -608: 2, 2066: 2, 2058: 2, -1035: 2, -1011: 2, -869: 2, 1060: 2, 1063: 2, 2762: 2, 2790: 2, 2829: 2, 3066: 2, 1993: 2, 2188: 2, 2333: 2, 2477: 2, 2558: 2, 2748: 2, 2807: 2, 3128: 2, 2924: 2, 2925: 2, 2926: 2, 2927: 2, 2928: 2, 4568: 2, -994: 2, -769: 2, 2337: 2, 2501: 2, 2556: 2, 2607: 2, 2763: 2, 2021: 2, 2258: 2, 3062: 2, 3080: 2, 3312: 2, 3408: 2, 3425: 2, 1084: 2, 1336: 2, 1708: 2, 1711: 2, 1714: 2, 2074: 2, 1177: 2, 3954: 2, -742: 2, 2363: 2, 2759: 2, 3096: 2, 3147: 2, 3237: 2, 3585: 2, 3645: 2, 3752: 2, 3840: 2, 3852: 2, 3933: 2, 3950: 2, 4062: 2, 4065: 2, 4095: 2, 4227: 2, 4356: 2, 4713: 2, 4716: 2, -735: 2, 3163: 2, 1441: 2, 1903: 2, 2345: 2, 973: 2, 3483: 2, 2709: 2, 2372: 2, 1126: 2, 1327: 2, 1506: 2, 1513: 2, 1567: 2, 1672: 2, 1696: 2, 1750: 2, 1801: 2, 1848: 2, 1940: 2, 1963: 2, 1989: 2, 2025: 2, 2033: 2, 2044: 2, 2050: 2, 2078: 2, 2089: 2, 2098: 2, 2163: 2, 2199: 2, 2212: 2, 2250: 2, 2261: 2, 2292: 2, 2294: 2, 2354: 2, 2369: 2, 2375: 2, 2400: 2, 2423: 2, 2526: 2, 2546: 2, 2589: 2, 2843: 2, 2858: 2, 2859: 2, 2871: 2, 2878: 2, 2913: 2, 2919: 2, 2920: 2, 2935: 2, 2940: 2, 2941: 2, 2942: 2, 2945: 2, 2947: 2, 3027: 2, 3029: 2, 3031: 2, 3033: 2, 3185: 2, 3224: 2, 3251: 2, 3263: 2, 3272: 2, 3273: 2, 3314: 2, 3320: 2, 3396: 2, 3415: 2, 3420: 2, 3491: 2, 3508: 2, 3516: 2, 3524: 2, 3572: 2, 3591: 2, 3593: 2, 3596: 2, 3602: 2, 3611: 2, 3618: 2, 3621: 2, 3643: 2, 3651: 2, 3659: 2, 3693: 2, 3697: 2, 3759: 2, 3973: 2, 4033: 2, 4085: 2, 4186: 2, 4189: 2, 4191: 2, 4312: 2, 1333: 2, 2674: 2, 1114: 2, -790: 2, 895: 2, -1083: 2, -1048: 2, -1045: 2, -978: 2, -853: 2, -1179: 2, -1111: 2, -922: 2, -811: 2, -762: 2, -860: 2, -839: 2, -838: 2, -830: 2, -817: 2, -804: 2, -799: 2, -797: 2, -725: 2, -707: 2, -765: 2, -759: 2, -1164: 2, -1138: 2, -1095: 2, -1264: 2, -1319: 2, -1256: 2, -968: 2, -948: 2, -909: 2, 1156: 2, 1678: 2, 1789: 2, 1883: 2, 1888: 2, 2095: 2, 2237: 2, 2296: 2, 2309: 2, -1214: 2, -1193: 1, -1104: 1, -981: 1, -936: 1, -933: 1, -862: 1, 1537: 1, 1540: 1, 1546: 1, 1555: 1, 1579: 1, 1588: 1, 1603: 1, 1606: 1, 1609: 1, 1612: 1, 1645: 1, 1648: 1, 1651: 1, 1654: 1, 1660: 1, 4752: 1, 4754: 1, 4756: 1, 4758: 1, 4799: 1, 5383: 1, 2404: 1, 2407: 1, 2410: 1, 1861: 1, -1155: 1, -895: 1, 1453: 1, 1465: 1, -907: 1, -848: 1, -1783: 1, 1288: 1, 1291: 1, -7536: 1, -7530: 1, -7523: 1, -7520: 1, -7519: 1, -7518: 1, -7503: 1, -7496: 1, -7492: 1, -7488: 1, -7485: 1, -7484: 1, -7483: 1, -7482: 1, -7480: 1, -7479: 1, -7471: 1, -7470: 1, -7469: 1, -7468: 1, -7465: 1, -7464: 1, -7453: 1, -7448: 1, -7440: 1, -7433: 1, -7429: 1, -7423: 1, -7421: 1, -7420: 1, -7416: 1, -7412: 1, -7411: 1, -7406: 1, -7405: 1, -7401: 1, -7400: 1, -7398: 1, -7396: 1, -7393: 1, -7391: 1, -7390: 1, -7388: 1, -7386: 1, -7385: 1, -7384: 1, -7383: 1, -7382: 1, -7381: 1, -7380: 1, -7378: 1, -7373: 1, -7368: 1, -7366: 1, -7364: 1, -7362: 1, -7355: 1, -7350: 1, -7349: 1, -7344: 1, -7332: 1, -7324: 1, -7322: 1, -7321: 1, -7320: 1, -7319: 1, -7318: 1, -7314: 1, -7312: 1, -7309: 1, -7302: 1, -7301: 1, -7297: 1, -7294: 1, -7291: 1, -7289: 1, -7286: 1, -7285: 1, -7282: 1, -7280: 1, -7279: 1, -7277: 1, -7276: 1, -7274: 1, -7272: 1, -7271: 1, -7270: 1, -7269: 1, -7268: 1, -7267: 1, -7266: 1, -7265: 1, -7264: 1, -7250: 1, -7247: 1, -7246: 1, -7236: 1, -7231: 1, -7223: 1, -7222: 1, -7218: 1, -7215: 1, -7212: 1, -7210: 1, -7207: 1, -7206: 1, -7203: 1, -7184: 1, -7176: 1, -7069: 1, -7067: 1, -7061: 1, -7060: 1, -7055: 1, -7006: 1, -6997: 1, -6995: 1, -6985: 1, -6976: 1, -6892: 1, -6890: 1, -6889: 1, -6887: 1, -6880: 1, -6878: 1, -6866: 1, -6856: 1, -6854: 1, -6847: 1, -6844: 1, -6838: 1, -6836: 1, -6794: 1, -6781: 1, -6703: 1, -6701: 1, -6698: 1, -6692: 1, -6687: 1, -6677: 1, -6641: 1, -6637: 1, -6635: 1, -6623: 1, -6622: 1, -6621: 1, -6619: 1, -6589: 1, -6532: 1, -6516: 1, -6388: 1, -6380: 1, -6367: 1, -6344: 1, -6338: 1, -6331: 1, -6328: 1, -6283: 1, -6280: 1, -6277: 1, -6272: 1, -6269: 1, -6268: 1, -6266: 1, -6264: 1, -6259: 1, -6256: 1, -6251: 1, -6248: 1, -6247: 1, -6245: 1, -6244: 1, -6235: 1, -6233: 1, -6226: 1, -6220: 1, -6216: 1, -6209: 1, -6208: 1, -6206: 1, -6199: 1, -6197: 1, -6191: 1, -6184: 1, -6179: 1, -6089: 1, -6076: 1, -6067: 1, -6058: 1, -6052: 1, -6041: 1, -6037: 1, -6014: 1, -6013: 1, -6011: 1, -6001: 1, -5990: 1, -5980: 1, -5977: 1, -5971: 1, -5969: 1, -5968: 1, -5967: 1, -5956: 1, -5954: 1, -5937: 1, -5931: 1, -5927: 1, -5926: 1, -5924: 1, -5923: 1, -5921: 1, -5879: 1, -5869: 1, -5861: 1, -5860: 1, -5852: 1, -5848: 1, -5846: 1, -5831: 1, -5812: 1, -5797: 1, -5786: 1, -5774: 1, -5765: 1, -5764: 1, -5762: 1, -5746: 1, -5740: 1, -5738: 1, -5737: 1, -5725: 1, -5692: 1, -5687: 1, -5683: 1, -5681: 1, -5680: 1, -5678: 1, -5674: 1, -5671: 1, -5666: 1, -5663: 1, -5662: 1, -5660: 1, -5647: 1, -5644: 1, -5642: 1, -5633: 1, -5630: 1, -5626: 1, -5582: 1, -5566: 1, -5551: 1, -5549: 1, -5546: 1, -5545: 1, -5543: 1, -5540: 1, -5539: 1, -5537: 1, -5492: 1, -5491: 1, -5474: 1, -5468: 1, -5461: 1, -5455: 1, -5446: 1, -5444: 1, -5443: 1, -5425: 1, -5350: 1, -5317: 1, -5315: 1, -5290: 1, -5288: 1, -5281: 1, -5278: 1, -5275: 1, -5273: 1, -5270: 1, -5267: 1, -5264: 1, -5261: 1, -5260: 1, -5257: 1, -5255: 1, -5254: 1, -5243: 1, -5242: 1, -5239: 1, -5234: 1, -5231: 1, -5197: 1, -5194: 1, -5086: 1, -5060: 1, -5059: 1, -5012: 1, -4994: 1, -4978: 1, -4976: 1, -4969: 1, -4957: 1, -4955: 1, -4945: 1, -4943: 1, -4941: 1, -4939: 1, -4937: 1, -4936: 1, -4934: 1, -4932: 1, -4925: 1, -4919: 1, -4918: 1, -4894: 1, -4849: 1, -4846: 1, -4843: 1, -4841: 1, -4837: 1, -4828: 1, -4820: 1, -4819: 1, -4816: 1, -4814: 1, -4813: 1, -4810: 1, -4808: 1, -4805: 1, -4802: 1, -4801: 1, -4799: 1, -4796: 1, -4783: 1, -4780: 1, -4778: 1, -4777: 1, -4772: 1, -4767: 1, -4753: 1, -4745: 1, -4743: 1, -4741: 1, -4733: 1, -4724: 1, -4718: 1, -4715: 1, -4706: 1, -4700: 1, -4699: 1, -4696: 1, -4695: 1, -4692: 1, -4672: 1, -4648: 1, -4645: 1, -4639: 1, -4637: 1, -4573: 1, -4564: 1, -4561: 1, -4555: 1, -4535: 1, -4534: 1, -4526: 1, -4525: 1, -4522: 1, -4517: 1, -4493: 1, -4489: 1, -4486: 1, -4460: 1, -4445: 1, -4435: 1, -4430: 1, -4429: 1, -4427: 1, -4423: 1, -4419: 1, -4418: 1, -4414: 1, -4388: 1, -4384: 1, -4375: 1, -4372: 1, -4369: 1, -4367: 1, -4365: 1, -4361: 1, -4351: 1, -4349: 1, -4346: 1, -4343: 1, -4330: 1, -4328: 1, -4286: 1, -4282: 1, -4279: 1, -4274: 1, -4273: 1, -4271: 1, -4261: 1, -4243: 1, -4241: 1, -4222: 1, -4202: 1, -4168: 1, -4163: 1, -4160: 1, -4154: 1, -4139: 1, -4129: 1, -4126: 1, -4095: 1, -4093: 1, -4089: 1, -4081: 1, -4078: 1, -4074: 1, -4072: 1, -4070: 1, -4068: 1, -4058: 1, -4051: 1, -4048: 1, -4039: 1, -4034: 1, -4029: 1, -4007: 1, -4001: 1, -3992: 1, -3989: 1, -3985: 1, -3979: 1, -3977: 1, -3972: 1, -3970: 1, -3967: 1, -3964: 1, -3852: 1, -3838: 1, -3832: 1, -3829: 1, -3824: 1, -3795: 1, -3780: 1, -3734: 1, -3601: 1, -3321: 1, -3265: 1, -3199: 1, -3164: 1, -2621: 1, -2615: 1, -2608: 1, -2605: 1, -2604: 1, -2603: 1, -2588: 1, -2581: 1, -2577: 1, -2573: 1, -2570: 1, -2569: 1, -2568: 1, -2567: 1, -2565: 1, -2564: 1, -2556: 1, -2555: 1, -2554: 1, -2553: 1, -2550: 1, -2549: 1, -1185: 1, -963: 1, -894: 1, 1864: 1, 1878: 1, 1900: 1, -913: 1, -1131: 1, 1732: 1, 2457: 1, 2458: 1, 2459: 1, 2482: 1, 2500: 1, -729: 1, -815: 1, -892: 1, -1816: 1, -1808: 1, -1797: 1, -1793: 1, -1306: 1, -1281: 1, -1123: 1, -1060: 1, -1057: 1, -1055: 1, -1043: 1, -1034: 1, -1033: 1, -1028: 1, -1019: 1, -1010: 1, -985: 1, -983: 1, -982: 1, -975: 1, -974: 1, -972: 1, -970: 1, -967: 1, -965: 1, -950: 1, -949: 1, -947: 1, -939: 1, -926: 1, -924: 1, -919: 1, -1008: 1, 1783: 1, -1023: 1, -990: 1, -782: 1, 1138: 1, 1300: 1, 1531: 1, 1624: 1, 2461: 1, 2505: 1, 2672: 1, 2443: 1, 2835: 1, 2923: 1, 4569: 1, -1044: 1, 2149: 1, -732: 1, 3236: 1, 3531: 1, -1323: 1, 1666: 1, 2487: 1, 2856: 1, 3528: 1, 3791: 1, 4002: 1, 4179: 1, 4805: 1, 4966: 1, 4971: 1, 5087: 1, 5090: 1, 5192: 1, 5237: 1, 5246: 1, 5250: 1, 5252: 1, 5310: 1, 5421: 1, 6890: 1, -1653: 1, -1651: 1, 2838: 1, 2845: 1, 874: 1, 1057: 1, 1303: 1, 1312: 1, 1348: 1, 1360: 1, 1399: 1, 1429: 1, 1474: 1, 1501: 1, 1522: 1, 1573: 1, 1621: 1, 1657: 1, 1669: 1, 1681: 1, 1684: 1, 1693: 1, 1747: 1, 1778: 1, 1792: 1, 1798: 1, 1816: 1, 1828: 1, 1831: 1, 1834: 1, 1840: 1, 1843: 1, 1846: 1, 1852: 1, 1867: 1, 1921: 1, 1948: 1, 1957: 1, 1960: 1, 1969: 1, 1971: 1, 1972: 1, 1996: 1, 2005: 1, 2017: 1, 2032: 1, 2038: 1, 2041: 1, 2053: 1, 2056: 1, 2076: 1, 2092: 1, 2104: 1, 2113: 1, 2118: 1, 2120: 1, 2122: 1, 2125: 1, 2137: 1, 2143: 1, 2152: 1, 2159: 1, 2161: 1, 2162: 1, 2167: 1, 2170: 1, 2173: 1, 2175: 1, 2215: 1, 2236: 1, 2247: 1, 2269: 1, 2281: 1, 2290: 1, 2293: 1, 2302: 1, 2303: 1, 2314: 1, 2320: 1, 2335: 1, 2355: 1, 2356: 1, 2359: 1, 2365: 1, 2366: 1, 2374: 1, 2376: 1, 2377: 1, 2378: 1, 2383: 1, 2388: 1, 2389: 1, 2401: 1, 2413: 1, 2421: 1, 2424: 1, 2427: 1, 2428: 1, 2429: 1, 2430: 1, 2432: 1, 2433: 1, 2435: 1, 2438: 1, 2440: 1, 2448: 1, 2466: 1, 2473: 1, 2478: 1, 2493: 1, 2497: 1, 2513: 1, 2516: 1, 2518: 1, 2521: 1, 2524: 1, 2536: 1, 2537: 1, 2540: 1, 2543: 1, 2545: 1, 2548: 1, 2551: 1, 2554: 1, 2560: 1, 2567: 1, 2570: 1, 2580: 1, 2588: 1, 2594: 1, 2599: 1, 2600: 1, 2601: 1, 2602: 1, 2603: 1, 2610: 1, 2617: 1, 2624: 1, 2641: 1, 2644: 1, 2645: 1, 2646: 1, 2650: 1, 2653: 1, 2654: 1, 2656: 1, 2659: 1, 2661: 1, 2665: 1, 2666: 1, 2667: 1, 2668: 1, 2669: 1, 2671: 1, 2673: 1, 2678: 1, 2679: 1, 2701: 1, 2705: 1, 2711: 1, 2712: 1, 2716: 1, 2717: 1, 2718: 1, 2719: 1, 2721: 1, 2728: 1, 2737: 1, 2739: 1, 2740: 1, 2747: 1, 2758: 1, 2766: 1, 2770: 1, 2775: 1, 2777: 1, 2778: 1, 2780: 1, 2781: 1, 2782: 1, 2783: 1, 2784: 1, 2786: 1, 2787: 1, 2788: 1, 2789: 1, 2791: 1, 2792: 1, 2793: 1, 2797: 1, 2799: 1, 2800: 1, 2801: 1, 2802: 1, 2803: 1, 2808: 1, 2809: 1, 2814: 1, 2820: 1, 2839: 1, 2844: 1, 2846: 1, 2847: 1, 2848: 1, 2850: 1, 2853: 1, 2854: 1, 2861: 1, 2862: 1, 2864: 1, 2867: 1, 2868: 1, 2874: 1, 2875: 1, 2876: 1, 2877: 1, 2883: 1, 2884: 1, 2886: 1, 2888: 1, 2893: 1, 2894: 1, 2897: 1, 2902: 1, 2905: 1, 2906: 1, 2907: 1, 2908: 1, 2914: 1, 2918: 1, 2921: 1, 2934: 1, 2937: 1, 2944: 1, 2946: 1, 2950: 1, 2951: 1, 2954: 1, 2957: 1, 2960: 1, 2968: 1, 2969: 1, 2973: 1, 2974: 1, 2976: 1, 2978: 1, 2979: 1, 2985: 1, 2986: 1, 2988: 1, 2994: 1, 2995: 1, 2996: 1, 2997: 1, 2998: 1, 3002: 1, 3006: 1, 3009: 1, 3011: 1, 3012: 1, 3014: 1, 3019: 1, 3020: 1, 3021: 1, 3023: 1, 3025: 1, 3030: 1, 3032: 1, 3034: 1, 3036: 1, 3038: 1, 3039: 1, 3040: 1, 3041: 1, 3042: 1, 3043: 1, 3044: 1, 3045: 1, 3047: 1, 3048: 1, 3049: 1, 3051: 1, 3054: 1, 3057: 1, 3065: 1, 3067: 1, 3068: 1, 3069: 1, 3071: 1, 3072: 1, 3073: 1, 3075: 1, 3077: 1, 3078: 1, 3082: 1, 3083: 1, 3084: 1, 3086: 1, 3089: 1, 3090: 1, 3091: 1, 3092: 1, 3093: 1, 3094: 1, 3095: 1, 3097: 1, 3098: 1, 3099: 1, 3100: 1, 3102: 1, 3103: 1, 3106: 1, 3107: 1, 3111: 1, 3114: 1, 3117: 1, 3121: 1, 3123: 1, 3125: 1, 3131: 1, 3133: 1, 3136: 1, 3138: 1, 3139: 1, 3140: 1, 3144: 1, 3146: 1, 3149: 1, 3150: 1, 3152: 1, 3154: 1, 3155: 1, 3156: 1, 3157: 1, 3158: 1, 3159: 1, 3160: 1, 3161: 1, 3162: 1, 3164: 1, 3165: 1, 3167: 1, 3168: 1, 3170: 1, 3171: 1, 3174: 1, 3176: 1, 3177: 1, 3179: 1, 3180: 1, 3181: 1, 3182: 1, 3186: 1, 3187: 1, 3188: 1, 3192: 1, 3194: 1, 3197: 1, 3198: 1, 3199: 1, 3200: 1, 3201: 1, 3202: 1, 3203: 1, 3205: 1, 3206: 1, 3208: 1, 3209: 1, 3212: 1, 3219: 1, 3220: 1, 3221: 1, 3222: 1, 3225: 1, 3226: 1, 3228: 1, 3230: 1, 3233: 1, 3245: 1, 3249: 1, 3252: 1, 3254: 1, 3260: 1, 3262: 1, 3264: 1, 3266: 1, 3270: 1, 3275: 1, 3276: 1, 3281: 1, 3285: 1, 3286: 1, 3287: 1, 3288: 1, 3289: 1, 3291: 1, 3294: 1, 3297: 1, 3298: 1, 3299: 1, 3300: 1, 3302: 1, 3304: 1, 3305: 1, 3307: 1, 3308: 1, 3309: 1, 3310: 1, 3313: 1, 3315: 1, 3316: 1, 3317: 1, 3318: 1, 3329: 1, 3332: 1, 3333: 1, 3334: 1, 3335: 1, 3336: 1, 3337: 1, 3338: 1, 3339: 1, 3344: 1, 3351: 1, 3355: 1, 3356: 1, 3357: 1, 3362: 1, 3371: 1, 3372: 1, 3374: 1, 3375: 1, 3376: 1, 3377: 1, 3386: 1, 3387: 1, 3388: 1, 3390: 1, 3391: 1, 3392: 1, 3393: 1, 3394: 1, 3398: 1, 3411: 1, 3413: 1, 3414: 1, 3416: 1, 3417: 1, 3418: 1, 3421: 1, 3423: 1, 3424: 1, 3426: 1, 3428: 1, 3431: 1, 3432: 1, 3434: 1, 3435: 1, 3436: 1, 3438: 1, 3439: 1, 3440: 1, 3441: 1, 3442: 1, 3443: 1, 3446: 1, 3447: 1, 3448: 1, 3450: 1, 3452: 1, 3459: 1, 3460: 1, 3461: 1, 3468: 1, 3473: 1, 3486: 1, 3487: 1, 3490: 1, 3493: 1, 3494: 1, 3495: 1, 3497: 1, 3498: 1, 3500: 1, 3506: 1, 3507: 1, 3509: 1, 3511: 1, 3512: 1, 3513: 1, 3514: 1, 3515: 1, 3517: 1, 3518: 1, 3519: 1, 3520: 1, 3521: 1, 3522: 1, 3526: 1, 3527: 1, 3530: 1, 3533: 1, 3534: 1, 3536: 1, 3539: 1, 3545: 1, 3549: 1, 3551: 1, 3552: 1, 3555: 1, 3563: 1, 3566: 1, 3569: 1, 3570: 1, 3573: 1, 3574: 1, 3575: 1, 3576: 1, 3577: 1, 3578: 1, 3579: 1, 3580: 1, 3582: 1, 3590: 1, 3597: 1, 3604: 1, 3606: 1, 3607: 1, 3608: 1, 3609: 1, 3614: 1, 3617: 1, 3622: 1, 3625: 1, 3627: 1, 3628: 1, 3629: 1, 3632: 1, 3638: 1, 3644: 1, 3647: 1, 3648: 1, 3649: 1, 3653: 1, 3657: 1, 3662: 1, 3663: 1, 3664: 1, 3665: 1, 3667: 1, 3668: 1, 3671: 1, 3672: 1, 3674: 1, 3675: 1, 3677: 1, 3680: 1, 3683: 1, 3684: 1, 3686: 1, 3687: 1, 3688: 1, 3691: 1, 3692: 1, 3694: 1, 3695: 1, 3696: 1, 3699: 1, 3702: 1, 3703: 1, 3704: 1, 3705: 1, 3706: 1, 3707: 1, 3708: 1, 3709: 1, 3710: 1, 3711: 1, 3714: 1, 3715: 1, 3717: 1, 3719: 1, 3720: 1, 3721: 1, 3734: 1, 3735: 1, 3737: 1, 3738: 1, 3741: 1, 3742: 1, 3743: 1, 3745: 1, 3746: 1, 3747: 1, 3748: 1, 3749: 1, 3750: 1, 3751: 1, 3753: 1, 3754: 1, 3755: 1, 3756: 1, 3757: 1, 3760: 1, 3762: 1, 3763: 1, 3765: 1, 3766: 1, 3771: 1, 3776: 1, 3779: 1, 3780: 1, 3783: 1, 3784: 1, 3787: 1, 3792: 1, 3806: 1, 3807: 1, 3809: 1, 3813: 1, 3815: 1, 3816: 1, 3817: 1, 3818: 1, 3819: 1, 3820: 1, 3822: 1, 3824: 1, 3825: 1, 3827: 1, 3828: 1, 3830: 1, 3831: 1, 3833: 1, 3834: 1, 3835: 1, 3836: 1, 3837: 1, 3838: 1, 3839: 1, 3843: 1, 3844: 1, 3845: 1, 3846: 1, 3847: 1, 3848: 1, 3849: 1, 3850: 1, 3851: 1, 3853: 1, 3855: 1, 3856: 1, 3857: 1, 3859: 1, 3865: 1, 3868: 1, 3871: 1, 3873: 1, 3874: 1, 3876: 1, 3878: 1, 3879: 1, 3881: 1, 3885: 1, 3886: 1, 3890: 1, 3891: 1, 3892: 1, 3893: 1, 3896: 1, 3897: 1, 3901: 1, 3906: 1, 3907: 1, 3908: 1, 3909: 1, 3913: 1, 3921: 1, 3922: 1, 3926: 1, 3927: 1, 3929: 1, 3930: 1, 3931: 1, 3932: 1, 3934: 1, 3937: 1, 3938: 1, 3940: 1, 3941: 1, 3945: 1, 3946: 1, 3947: 1, 3948: 1, 3951: 1, 3952: 1, 3957: 1, 3958: 1, 3959: 1, 3965: 1, 3966: 1, 3967: 1, 3971: 1, 3972: 1, 3977: 1, 3981: 1, 3984: 1, 3986: 1, 3987: 1, 3988: 1, 3989: 1, 3990: 1, 3993: 1, 3995: 1, 3996: 1, 3997: 1, 3998: 1, 3999: 1, 4000: 1, 4007: 1, 4008: 1, 4010: 1, 4017: 1, 4019: 1, 4023: 1, 4029: 1, 4030: 1, 4031: 1, 4032: 1, 4034: 1, 4037: 1, 4038: 1, 4039: 1, 4040: 1, 4042: 1, 4044: 1, 4047: 1, 4048: 1, 4055: 1, 4056: 1, 4057: 1, 4058: 1, 4059: 1, 4061: 1, 4064: 1, 4066: 1, 4070: 1, 4072: 1, 4073: 1, 4077: 1, 4079: 1, 4080: 1, 4082: 1, 4084: 1, 4086: 1, 4087: 1, 4088: 1, 4089: 1, 4090: 1, 4091: 1, 4092: 1, 4094: 1, 4097: 1, 4098: 1, 4099: 1, 4100: 1, 4101: 1, 4102: 1, 4103: 1, 4104: 1, 4105: 1, 4107: 1, 4108: 1, 4109: 1, 4111: 1, 4112: 1, 4113: 1, 4114: 1, 4115: 1, 4118: 1, 4119: 1, 4121: 1, 4123: 1, 4124: 1, 4127: 1, 4134: 1, 4137: 1, 4140: 1, 4142: 1, 4145: 1, 4148: 1, 4149: 1, 4150: 1, 4151: 1, 4153: 1, 4154: 1, 4155: 1, 4157: 1, 4158: 1, 4160: 1, 4161: 1, 4162: 1, 4163: 1, 4164: 1, 4165: 1, 4167: 1, 4169: 1, 4170: 1, 4172: 1, 4173: 1, 4174: 1, 4175: 1, 4177: 1, 4178: 1, 4180: 1, 4181: 1, 4182: 1, 4184: 1, 4185: 1, 4187: 1, 4188: 1, 4190: 1, 4192: 1, 4193: 1, 4194: 1, 4196: 1, 4197: 1, 4198: 1, 4199: 1, 4200: 1, 4202: 1, 4203: 1, 4204: 1, 4206: 1, 4207: 1, 4208: 1, 4211: 1, 4214: 1, 4215: 1, 4216: 1, 4217: 1, 4218: 1, 4219: 1, 4220: 1, 4223: 1, 4224: 1, 4226: 1, 4228: 1, 4229: 1, 4230: 1, 4231: 1, 4232: 1, 4235: 1, 4236: 1, 4238: 1, 4239: 1, 4241: 1, 4244: 1, 4247: 1, 4251: 1, 4253: 1, 4254: 1, 4260: 1, 4263: 1, 4267: 1, 4270: 1, 4275: 1, 4277: 1, 4279: 1, 4281: 1, 4285: 1, 4286: 1, 4289: 1, 4290: 1, 4291: 1, 4292: 1, 4294: 1, 4297: 1, 4298: 1, 4301: 1, 4302: 1, 4303: 1, 4304: 1, 4305: 1, 4306: 1, 4307: 1, 4308: 1, 4310: 1, 4313: 1, 4314: 1, 4316: 1, 4319: 1, 4320: 1, 4322: 1, 4323: 1, 4324: 1, 4326: 1, 4327: 1, 4328: 1, 4330: 1, 4331: 1, 4332: 1, 4334: 1, 4336: 1, 4337: 1, 4338: 1, 4339: 1, 4340: 1, 4341: 1, 4342: 1, 4344: 1, 4347: 1, 4348: 1, 4352: 1, 4353: 1, 4355: 1, 4358: 1, 4361: 1, 4362: 1, 4364: 1, 4365: 1, 4366: 1, 4367: 1, 4368: 1, 4369: 1, 4370: 1, 4371: 1, 4372: 1, 4373: 1, 4374: 1, 4376: 1, 4377: 1, 4379: 1, 4380: 1, 4381: 1, 4382: 1, 4383: 1, 4384: 1, 4385: 1, 4386: 1, 4388: 1, 4389: 1, 4390: 1, 4391: 1, 4392: 1, 4394: 1, 4397: 1, 4398: 1, 4400: 1, 4401: 1, 4403: 1, 4404: 1, 4405: 1, 4406: 1, 4407: 1, 4409: 1, 4410: 1, 4411: 1, 4412: 1, 4413: 1, 4415: 1, 4418: 1, 4419: 1, 4421: 1, 4422: 1, 4423: 1, 4424: 1, 4425: 1, 4427: 1, 4428: 1, 4430: 1, 4433: 1, 4434: 1, 4436: 1, 4439: 1, 4440: 1, 4442: 1, 4445: 1, 4446: 1, 4447: 1, 4448: 1, 4450: 1, 4451: 1, 4452: 1, 4453: 1, 4454: 1, 4455: 1, 4456: 1, 4457: 1, 4460: 1, 4466: 1, 4472: 1, 4473: 1, 4474: 1, 4478: 1, 4482: 1, 4483: 1, 4484: 1, 4485: 1, 4486: 1, 4487: 1, 4488: 1, 4489: 1, 4491: 1, 4493: 1, 4494: 1, 4495: 1, 4496: 1, 4497: 1, 4499: 1, 4500: 1, 4501: 1, 4502: 1, 4503: 1, 4505: 1, 4508: 1, 4509: 1, 4510: 1, 4511: 1, 4512: 1, 4517: 1, 4518: 1, 4519: 1, 4521: 1, 4523: 1, 4526: 1, 4527: 1, 4529: 1, 4530: 1, 4532: 1, 4534: 1, 4535: 1, 4536: 1, 4538: 1, 4542: 1, 4544: 1, 4545: 1, 4546: 1, 4548: 1, 4550: 1, 4551: 1, 4552: 1, 4553: 1, 4556: 1, 4557: 1, 4559: 1, 4560: 1, 4561: 1, 4565: 1, 4566: 1, 4567: 1, 4570: 1, 4572: 1, 4574: 1, 4578: 1, 4583: 1, 4584: 1, 4585: 1, 4586: 1, 4587: 1, 4588: 1, 4589: 1, 4590: 1, 4592: 1, 4596: 1, 4598: 1, 4599: 1, 4601: 1, 4602: 1, 4604: 1, 4605: 1, 4606: 1, 4610: 1, 4611: 1, 4613: 1, 4615: 1, 4616: 1, 4617: 1, 4618: 1, 4619: 1, 4620: 1, 4621: 1, 4622: 1, 4623: 1, 4625: 1, 4626: 1, 4627: 1, 4628: 1, 4629: 1, 4630: 1, 4631: 1, 4632: 1, 4635: 1, 4637: 1, 4638: 1, 4639: 1, 4640: 1, 4641: 1, 4643: 1, 4644: 1, 4645: 1, 4646: 1, 4647: 1, 4649: 1, 4650: 1, 4653: 1, 4655: 1, 4656: 1, 4658: 1, 4659: 1, 4661: 1, 4662: 1, 4665: 1, 4668: 1, 4670: 1, 4671: 1, 4672: 1, 4673: 1, 4674: 1, 4675: 1, 4676: 1, 4677: 1, 4678: 1, 4680: 1, 4681: 1, 4682: 1, 4685: 1, 4686: 1, 4694: 1, 4695: 1, 4696: 1, 4697: 1, 4698: 1, 4700: 1, 4701: 1, 4702: 1, 4703: 1, 4704: 1, 4705: 1, 4706: 1, 4707: 1, 4708: 1, 4709: 1, 4710: 1, 4712: 1, 4714: 1, 4715: 1, 4717: 1, 4718: 1, 4719: 1, 4720: 1, 4721: 1, 4722: 1, 4726: 1, 2305: 1, 3217: 1, 5328: 1, 1699: 1, 1990: 1, 1786: 1, 1931: 1, 1942: 1, 2334: 1, 3218: 1, 3504: 1, -1053: 1, 4195: 1, 6256: 1, 6263: 1, 6264: 1, 6297: 1, 6298: 1, 6305: 1, -1207: 1, -1108: 1, -1065: 1, -1716: 1, -1703: 1, -1702: 1, -1699: 1, -1697: 1, -1692: 1, -1690: 1, -1476: 1, -1471: 1, -1263: 1, -1262: 1, -1258: 1, -1200: 1, -1120: 1, -1114: 1, -910: 1, -818: 1, 1297: 1, 1746: 1, -1523: 1, -1511: 1, -1488: 1, -1460: 1, -1161: 1, -1140: 1, -855: 1, -852: 1, -849: 1, -829: 1, -812: 1, -798: 1, 5280: 1, 3538: 1, -695: 1, 1276: 1, 2595: 1, 2657: 1, 2697: 1, 2819: 1, -2186: 1, -755: 1, -1227: 1, -1171: 1, -1148: 1, -1145: 1, -1142: 1, -1134: 1, -1129: 1, -1122: 1, -1110: 1, -1109: 1, -1082: 1, -1072: 1, -1062: 1, -1051: 1, -827: 1, -747: 1, -1266: 1, 3124: 1, 3354: 1, 1363: 1, -1440: 1, -1392: 1, -1370: 1, -1316: 1, -1243: 1, -1177: 1, -1149: 1, -1132: 1, -912: 1, -911: 1, -945: 1, -944: 1, -928: 1, -832: 1, -772: 1, 2029: 1, 5837: 1, 5840: 1, 1417: 1, 1489: 1, -1276: 1, -1105: 1, -961: 1, -906: 1, 1813: 1, 1849: 1, 2157: 1, 2402: 1, 1690: 1, 1486: 1, 1774: 1, 2203: 1, 970: 1, 1144: 1, 1180: 1, 1255: 1, 1258: 1, 1585: 1, 2938: 1, 2953: 1, 2964: 1, 2989: 1, -1427: 1, -1405: 1, -1403: 1, -1389: 1, -1367: 1, -1362: 1, -1353: 1, -1352: 1, -1349: 1, -1348: 1, -1347: 1, -1343: 1, -1337: 1, -1330: 1, -1311: 1, -1303: 1, -1300: 1, -1299: 1, -1271: 1, -1267: 1, -1261: 1, -1259: 1, -1238: 1, -1232: 1, -1228: 1, -1219: 1, -1212: 1, -1197: 1, -1106: 1, -1101: 1, -1073: 1, -1071: 1, -1070: 1, -1061: 1, -1058: 1, -1038: 1, -1022: 1, -995: 1, -921: 1, -749: 1, -699: 1, -1517: 1, -1250: 1, -1222: 1, -1188: 1, 3292: 1, -898: 1, -806: 1, -1542: 1, -1485: 1, -1483: 1, -1205: 1, -1067: 1, -1410: 1, -1409: 1, -1407: 1, -1398: 1, -1391: 1, 1267: 1, 3631: 1, 3640: 1})\n",
            "Counter({0: 5360, -14: 4792, -2: 4300, -49: 4230, -50: 4138, -53: 3678, -10: 3639, -11: 3567, -13: 3567, -28: 3523, -6: 3387, -9: 3337, -5: 3333, -26: 3142, -24: 2939, -7: 2897, -8: 2797, -1: 2737, -76: 2729, -18: 2714, -16: 2636, -33: 2621, -20: 2609, -32: 2608, -17: 2602, -46: 2568, -19: 2469, -21: 2346, -4: 2288, -42: 2236, -23: 2009, -22: 2003, -41: 1982, -12: 1968, -74: 1959, -80: 1929, -3: 1928, -60: 1898, -31: 1827, -67: 1724, -37: 1722, -15: 1705, -64: 1701, -63: 1696, -62: 1644, -40: 1639, -45: 1638, -25: 1634, -38: 1616, -36: 1615, -69: 1588, -58: 1535, -29: 1502, -27: 1497, -171: 1450, -121: 1420, -73: 1395, -86: 1390, -57: 1376, -111: 1350, -89: 1349, -66: 1342, -30: 1326, -35: 1323, -113: 1304, -101: 1293, -242: 1290, -114: 1289, -514: 1261, -43: 1232, -65: 1218, -54: 1207, -129: 1171, -44: 1170, -51: 1163, -85: 1148, -61: 1141, -55: 1136, -131: 1132, -95: 1130, -81: 1123, -34: 1118, -52: 1114, -94: 1112, -96: 1108, -77: 1103, -87: 1102, -59: 1098, -110: 1097, -116: 1090, -82: 1086, -584: 1084, -93: 1082, -134: 1067, -83: 1048, -178: 1037, -140: 1035, -130: 1025, -75: 1013, -100: 1008, -176: 1006, -117: 1003, -106: 1000, -48: 999, -56: 983, -144: 983, -119: 963, -196: 939, -125: 935, -39: 928, -202: 924, -150: 922, -70: 921, -79: 918, -112: 917, -132: 905, -78: 899, -124: 895, -184: 895, -152: 894, -127: 889, -159: 845, -151: 842, -92: 842, -143: 837, -149: 832, -47: 814, -105: 813, -158: 806, -104: 802, -122: 797, -141: 789, -147: 782, -181: 782, -138: 781, -115: 778, -68: 774, -227: 751, -154: 742, -219: 741, -231: 739, -166: 737, -207: 735, -108: 734, -109: 730, -146: 717, -91: 712, -107: 708, -99: 706, -173: 705, -245: 699, -120: 697, -480: 688, -88: 686, -72: 684, -208: 678, -90: 676, -97: 672, -205: 669, -185: 662, -136: 655, -165: 655, -300: 651, -133: 649, -238: 637, -283: 636, -137: 635, -148: 626, -175: 624, -215: 622, -145: 614, -71: 605, -252: 603, -7607: 595, -153: 590, -167: 586, -98: 584, -290: 583, -84: 581, -126: 558, -142: 547, -240: 545, -103: 543, -164: 541, -604: 540, -200: 538, -169: 538, -271: 536, -257: 535, -235: 533, -216: 532, -102: 524, -340: 521, -296: 519, -183: 517, -236: 517, -264: 513, -157: 512, -190: 500, -270: 498, -329: 497, -193: 493, -319: 489, -307: 481, -155: 480, -312: 479, -206: 466, -223: 463, -182: 463, -212: 452, -303: 452, -224: 449, -186: 449, -470: 448, -139: 446, -251: 443, -538: 439, -180: 436, -258: 429, -330: 426, -281: 421, -128: 419, -229: 409, -445: 407, -168: 406, -239: 406, -222: 405, -243: 404, -260: 402, -198: 396, -135: 396, -265: 392, -237: 391, -272: 387, -304: 386, -411: 384, -621: 380, -246: 379, -234: 377, -254: 376, -567: 374, -220: 369, -247: 368, -279: 368, -582: 367, -503: 365, -195: 365, -203: 365, -534: 365, -161: 364, -391: 364, -336: 364, -123: 361, -221: 361, -189: 356, -174: 356, -249: 354, -276: 352, -228: 351, -287: 349, -250: 348, -188: 347, -398: 347, -920: 346, -295: 346, -192: 344, -230: 344, -256: 344, -309: 342, -160: 341, -226: 339, -387: 334, -199: 333, -244: 331, -162: 330, -172: 330, -187: 328, -519: 328, -118: 326, -466: 320, -201: 317, -322: 316, -275: 315, -218: 313, -209: 313, -346: 312, -998: 311, -315: 309, -366: 307, -638: 305, -156: 303, -217: 301, -291: 301, -530: 299, -328: 298, -262: 297, -266: 297, -191: 294, -259: 294, -770: 291, -317: 288, -299: 288, -385: 287, -248: 279, -233: 278, -284: 273, -282: 273, -204: 272, -288: 271, -278: 269, -348: 268, -438: 268, -177: 266, -860: 265, -1347: 265, -683: 264, -394: 259, -714: 259, -473: 254, -704: 253, -325: 251, -440: 251, -277: 245, -213: 244, -783: 244, -482: 243, -197: 239, -194: 239, -285: 237, -268: 237, -351: 237, -601: 235, -211: 234, -241: 234, -513: 234, -360: 233, -273: 231, -409: 228, -364: 227, -225: 226, -298: 225, -316: 224, -313: 224, -461: 223, -498: 221, -210: 219, -163: 219, -969: 218, -520: 215, -764: 215, -432: 213, -738: 212, -465: 211, -324: 210, -396: 208, -383: 205, -170: 205, -370: 204, -232: 201, -377: 201, -305: 200, -331: 199, -564: 198, -289: 197, -552: 191, -516: 189, -752: 183, -489: 182, -261: 181, -379: 180, -591: 180, -609: 179, -1427: 179, -314: 177, -292: 176, -628: 176, -510: 171, -512: 169, -368: 169, -1370: 168, -575: 166, -302: 166, -255: 165, -214: 165, -358: 163, -518: 161, -422: 161, -327: 158, -646: 158, -529: 158, -365: 157, -561: 157, -657: 154, -318: 154, -417: 152, -505: 152, -386: 152, -456: 152, -491: 152, -429: 150, -353: 150, -310: 147, -350: 147, -179: 146, -431: 145, -523: 143, -416: 140, -496: 138, -349: 137, -267: 136, -558: 134, -611: 133, -428: 132, -280: 132, -583: 132, -297: 131, -477: 131, -376: 130, -815: 130, -531: 130, -384: 128, -769: 127, -545: 126, -1021: 124, -468: 124, -382: 124, -1271: 124, -363: 122, -323: 122, -742: 122, -356: 121, -644: 121, -423: 120, -378: 120, -286: 117, -693: 116, -397: 116, -274: 116, -460: 116, -532: 115, -373: 114, -521: 111, -326: 110, -616: 109, -439: 108, -1060: 107, -508: 107, -442: 106, -415: 105, -586: 105, -572: 105, -608: 103, -444: 102, -335: 101, -642: 99, -527: 99, -347: 97, -733: 97, -371: 97, -577: 97, -447: 96, -535: 96, -427: 96, -434: 95, -320: 95, -375: 95, -389: 94, -504: 94, -748: 93, -1690: 93, -263: 92, -549: 92, -1232: 92, -639: 92, -420: 91, -716: 91, -533: 90, -362: 89, -759: 89, -1158: 88, -345: 84, -342: 83, -867: 83, -798: 82, -306: 81, -593: 81, -293: 81, -380: 79, -269: 79, -308: 79, -838: 79, -1886: 78, -671: 78, -850: 78, -570: 78, -620: 78, -367: 76, -844: 76, -794: 76, -359: 75, -754: 75, -1678: 75, -448: 74, -381: 72, -339: 72, -1907: 72, -421: 70, -515: 70, -656: 68, -488: 68, -537: 66, -458: 65, -493: 65, -337: 65, -654: 65, -648: 65, -1666: 65, -311: 64, -524: 64, -870: 64, -579: 63, -722: 62, -402: 62, -393: 60, -553: 60, -598: 60, -253: 59, -485: 59, -678: 59, -991: 58, -1220: 58, -455: 57, -569: 56, -660: 56, -478: 56, -395: 55, -486: 54, -915: 54, -467: 54, -1525: 54, -361: 53, -618: 53, -419: 52, -880: 52, -483: 52, -426: 52, -399: 52, -528: 52, -334: 51, -948: 51, -390: 50, -338: 50, -332: 50, -392: 50, -580: 49, -435: 49, -457: 49, -661: 49, -624: 48, -1253: 48, -406: 47, -321: 47, -1724: 47, -1000: 47, -872: 46, -352: 46, -413: 46, -536: 46, -836: 46, -806: 44, -2188: 44, -546: 44, -667: 44, -568: 44, -414: 43, -424: 42, -726: 42, -410: 42, -556: 41, -706: 41, -813: 41, -613: 39, -490: 39, -1367: 39, -781: 39, -954: 38, -911: 38, -992: 38, -647: 37, -471: 37, -1989: 37, -997: 36, -400: 36, -2719: 36, -464: 35, -606: 35, -1080: 35, -403: 35, -1047: 34, -894: 34, -676: 34, -757: 34, -701: 34, -663: 33, -437: 33, -481: 33, -412: 33, -501: 33, -709: 32, -1256: 32, -1255: 32, -294: 32, -803: 32, -732: 32, -333: 31, -728: 30, -454: 30, -1087: 30, -658: 30, -659: 29, -452: 29, -1554: 29, -1982: 28, -550: 28, -1001: 28, -685: 28, -436: 28, -590: 27, -559: 27, -588: 27, -1902: 26, -627: 25, -597: 25, -1541: 25, -592: 24, -425: 24, -2236: 23, -343: 23, -443: 23, -634: 22, -1815: 22, -372: 22, -1955: 22, -1186: 21, -1176: 21, -301: 21, -2018: 21, -1421: 21, -822: 20, -451: 20, -1066: 20, -723: 20, -1241: 20, -476: 19, -543: 19, -407: 19, -1656: 18, -506: 18, -792: 17, -729: 17, -811: 17, -517: 17, -495: 17, -668: 16, -868: 16, -430: 16, -886: 15, -1153: 15, -720: 15, -791: 15, -1288: 15, -727: 14, -357: 14, -941: 14, -765: 13, -756: 13, -341: 12, -1867: 12, -753: 12, -1316: 12, -522: 12, -355: 11, -826: 11, -573: 11, -1122: 11, -449: 11, -374: 10, -875: 10, -433: 10, -450: 9, -605: 9, -831: 9, -775: 8, -705: 8, -989: 8, -2860: 8, -525: 7, -551: 7, -858: 7, -499: 7, -462: 7, -615: 6, -833: 6, -404: 6, -475: 6, -484: 6, -354: 6, -2218: 5, -405: 5, -640: 5, -507: 5, -547: 5, -890: 5, -1496: 4, -574: 4, -1863: 4, -344: 4, -809: 4, -610: 4, -562: 4, -2532: 4, -808: 4, -774: 4, -932: 4, -652: 3, -737: 3, -715: 3, -903: 3, -957: 3, -690: 3, -1131: 3, -587: 3, -650: 3, -563: 3, -408: 2, -847: 2, -828: 2, -526: 2, -895: 2, -1716: 2, -441: 2, -804: 2, -595: 2, -1013: 2, -1015: 1, -1881: 1, -643: 1, -637: 1, -1090: 1, -401: 1, -796: 1, -1714: 1, -1065: 1, -541: 1, -1384: 1, -785: 1, -463: 1, -600: 1, -735: 1, -758: 1, -1222: 1, -1226: 1})\n"
          ]
        }
      ]
    },
    {
      "cell_type": "code",
      "source": [
        "dfcounter1 = pd.DataFrame.from_dict(counter1, orient='index').reset_index()\n",
        "dfcounter1.columns = ['length','readcount']\n",
        "dfcounter1['dividedreadcount'] = dfcounter1['readcount']/1000\n",
        "print(dfcounter1)\n",
        "\n",
        "dfcounter2 = pd.DataFrame.from_dict(counter1, orient='index').reset_index()\n",
        "dfcounter2.columns = ['length','readcount']\n",
        "dfcounter2['dividedreadcount'] = dfcounter2['readcount']/1000\n",
        "print(dfcounter2)"
      ],
      "metadata": {
        "colab": {
          "base_uri": "https://localhost:8080/"
        },
        "id": "nnSbmtSFq8SV",
        "outputId": "5e303060-cf40-4719-9339-4ef4c0e4a478"
      },
      "execution_count": 97,
      "outputs": [
        {
          "output_type": "stream",
          "name": "stdout",
          "text": [
            "      length  readcount  dividedreadcount\n",
            "0        -88        333             0.333\n",
            "1        -59        590             0.590\n",
            "2        -35        850             0.850\n",
            "3        -33        828             0.828\n",
            "4        -31        684             0.684\n",
            "...      ...        ...               ...\n",
            "5664   -1391          1             0.001\n",
            "5665    1267          1             0.001\n",
            "5666    3342          4             0.004\n",
            "5667    3631          1             0.001\n",
            "5668    3640          1             0.001\n",
            "\n",
            "[5669 rows x 3 columns]\n",
            "      length  readcount  dividedreadcount\n",
            "0        -88        333             0.333\n",
            "1        -59        590             0.590\n",
            "2        -35        850             0.850\n",
            "3        -33        828             0.828\n",
            "4        -31        684             0.684\n",
            "...      ...        ...               ...\n",
            "5664   -1391          1             0.001\n",
            "5665    1267          1             0.001\n",
            "5666    3342          4             0.004\n",
            "5667    3631          1             0.001\n",
            "5668    3640          1             0.001\n",
            "\n",
            "[5669 rows x 3 columns]\n"
          ]
        }
      ]
    },
    {
      "cell_type": "markdown",
      "source": [
        "dfcount1, dfcounter2를 이용하여 x축을 length, y축을 dividedreadcount로 놓고 원본 논문의 Fig.S5A를 참고하여 막대그래프를 그림."
      ],
      "metadata": {
        "id": "1HO8sqy__Op2"
      }
    },
    {
      "cell_type": "code",
      "source": [
        "import pandas as pd\n",
        "import matplotlib.pyplot as plt\n",
        "\n",
        "plt.plot([0, 0], [0, 5],color=\"red\")\n",
        "plt.title('start codon')\n",
        "plt.xlabel(\"Relative position to start codon of 5'-end of read\")\n",
        "plt.ylabel('Raw read count (x1000)')\n",
        "plt.xlim(-50,50)\n",
        "plt.ylim(0,5)\n",
        "plt.xticks([-50,-40,-30,-20,-10,0,10,20,30,40,50],[-50,-40,-30,-20,-10,0,10,20,30,40,50], rotation=90)\n",
        "plt.bar(dfcounter1['length'], dfcounter1['dividedreadcount'], color='black')\n",
        "plt.show()"
      ],
      "metadata": {
        "colab": {
          "base_uri": "https://localhost:8080/",
          "height": 302
        },
        "id": "aCHYuClYrogV",
        "outputId": "26d53573-2396-4cf2-d6d3-4d2d43985c12"
      },
      "execution_count": 112,
      "outputs": [
        {
          "output_type": "display_data",
          "data": {
            "text/plain": [
              "<Figure size 432x288 with 1 Axes>"
            ],
            "image/png": "[encoded data removed]"
          },
          "metadata": {
            "needs_background": "light"
          }
        }
      ]
    },
    {
      "cell_type": "code",
      "source": [
        "import pandas as pd\n",
        "import matplotlib.pyplot as plt\n",
        "\n",
        "plt.plot([0, 0], [0, 5],color=\"red\")\n",
        "plt.title('start codon')\n",
        "plt.xlabel(\"Relative position to start codon of 5'-end of read\")\n",
        "plt.ylabel('Raw read count (x1000)')\n",
        "plt.xlim(-50,50)\n",
        "plt.ylim(0,5)\n",
        "plt.xticks([-50,-40,-30,-20,-10,0,10,20,30,40,50],[-50,-40,-30,-20,-10,0,10,20,30,40,50])\n",
        "plt.bar(dfcounter2['length'], dfcounter2['dividedreadcount'], color='black')\n",
        "plt.show()"
      ],
      "metadata": {
        "colab": {
          "base_uri": "https://localhost:8080/",
          "height": 295
        },
        "id": "MOhUBgWl7oIr",
        "outputId": "6312873e-3f9a-426e-d4aa-0af5e887753d"
      },
      "execution_count": 109,
      "outputs": [
        {
          "output_type": "display_data",
          "data": {
            "text/plain": [
              "<Figure size 432x288 with 1 Axes>"
            ],
            "image/png": "[encoded data removed]"
          },
          "metadata": {
            "needs_background": "light"
          }
        }
      ]
    }
  ]
}